{
 "cells": [
  {
   "cell_type": "markdown",
   "id": "f7eb5ce0",
   "metadata": {},
   "source": [
    "# SILC Tutorial"
   ]
  },
  {
   "cell_type": "markdown",
   "id": "306e2ef0",
   "metadata": {},
   "source": [
    "## 🌌 SILC Pipeline Overview\n",
    "\n",
    "The **Scale-discretised, directional Internal Linear Combination (SILC)** pipeline is a sophisticated approach for component separation in CMB analysis. \n",
    "\n",
    "### 🔄 Pipeline Workflow\n",
    "\n",
    "| Step | Process | Description |\n",
    "|------|---------|-------------|\n",
    "| **1️⃣** | **🔽 Data Acquisition** | Download CMB, noise, and foreground maps, currently using Planck simulations  → `download.py` |\n",
    "| **2️⃣** | **⚙️ Map Processing** | Handle instrumental beams, reduce resolution, and convert from HEALPix → McEwen-Wiaux (MW) sampling  → `map_tools.py` `map_processing.py`|\n",
    "| **3️⃣** | **〰️ Wavelet Analysis** | Apply multi-scale wavelet transforms with customizable filter scales and directional components  → `map_processing.py` |\n",
    "| **4️⃣** | **🎯 SPIN Algorithm** | Compute Scale-discretised, directional Internal Linear Combination on each wavelet scale  → `ilc.py` |\n",
    "| **5️⃣** | **🔧 Map Synthesis** | Combine all scales into a single, clean ILC component map  → `ilc.py` |\n",
    "\n",
    "- `visualise.py` module provides capability to compute and plot maps and power spectra. \n",
    "- `file_templates.py` module contains the directory structure for storing and loading data throughout the pipeline.\n",
    "\n",
    "### 🎯 Current Capabilities\n",
    "\n",
    "> **Primary Target**: CMB extraction \n",
    "\n",
    "> **Future Expansion**: Generalization to extract any astrophysical component (e.g., thermal Sunyaev-Zel'dovich effect, synchrotron emission, dust)\n",
    "\n",
    "This notebook will decompose the pipeline to show the main processes occurring at each stage, for one realisation of the ILC."
   ]
  },
  {
   "cell_type": "markdown",
   "id": "014996a2",
   "metadata": {},
   "source": [
    "## 📦 Import \n",
    "\n",
    "**Note:** To run modules in the terminal, use e.g. `python3 -m skyclean.silc.map_processing` while in the Skyclean home directory."
   ]
  },
  {
   "cell_type": "code",
   "execution_count": null,
   "id": "3af64753",
   "metadata": {},
   "outputs": [
    {
     "ename": "NameError",
     "evalue": "name '__file__' is not defined",
     "output_type": "error",
     "traceback": [
      "\u001b[31m---------------------------------------------------------------------------\u001b[39m",
      "\u001b[31mNameError\u001b[39m                                 Traceback (most recent call last)",
      "\u001b[36mCell\u001b[39m\u001b[36m \u001b[39m\u001b[32mIn[1]\u001b[39m\u001b[32m, line 5\u001b[39m\n\u001b[32m      2\u001b[39m \u001b[38;5;28;01mimport\u001b[39;00m\u001b[38;5;250m \u001b[39m\u001b[34;01mos\u001b[39;00m\n\u001b[32m      4\u001b[39m \u001b[38;5;66;03m# Add the parent directory to Python path for proper module resolution\u001b[39;00m\n\u001b[32m----> \u001b[39m\u001b[32m5\u001b[39m sys.path.append(os.path.dirname(os.path.dirname(os.path.abspath(\u001b[34;43m__file__\u001b[39;49m))))\n\u001b[32m      7\u001b[39m \u001b[38;5;28;01mfrom\u001b[39;00m\u001b[38;5;250m \u001b[39m\u001b[34;01mskyclean\u001b[39;00m\u001b[34;01m.\u001b[39;00m\u001b[34;01msilc\u001b[39;00m\u001b[34;01m.\u001b[39;00m\u001b[34;01mdownload\u001b[39;00m\u001b[38;5;250m \u001b[39m\u001b[38;5;28;01mimport\u001b[39;00m Downloader\n\u001b[32m      9\u001b[39m \u001b[38;5;28;01mfrom\u001b[39;00m\u001b[38;5;250m \u001b[39m\u001b[34;01mskyclean\u001b[39;00m\u001b[34;01m.\u001b[39;00m\u001b[34;01msilc\u001b[39;00m\u001b[34;01m.\u001b[39;00m\u001b[34;01mfile_templates\u001b[39;00m\u001b[38;5;250m \u001b[39m\u001b[38;5;28;01mimport\u001b[39;00m FileTemplates\n",
      "\u001b[31mNameError\u001b[39m: name '__file__' is not defined"
     ]
    }
   ],
   "source": [
    "import sys\n",
    "import os\n",
    "\n",
    "# Add the parent directory to Python path for proper module resolution\n",
    "# Get current working directory and navigate to parent (assumes notebook is in examples/ folder)\n",
    "current_dir = os.getcwd()\n",
    "parent_dir = os.path.dirname(current_dir)\n",
    "sys.path.append(parent_dir)\n",
    "\n",
    "print(f\"📁 Current directory: {current_dir}\")\n",
    "print(f\"📂 Added to Python path: {parent_dir}\")\n",
    "\n",
    "from skyclean.silc.download import DownloadData\n",
    "\n",
    "from skyclean.silc.file_templates import FileTemplates\n",
    "\n",
    "from skyclean.silc.map_tools import *\n",
    "from skyclean.silc.map_processing import MapProcessor\n",
    "\n",
    "from skyclean.silc.ilc import ILC\n",
    "\n",
    "from skyclean.silc.pipeline import Pipeline\n",
    "\n",
    "from skyclean.silc.utils import *\n",
    "\n",
    "from skyclean.silc.visualise import Visualise\n",
    "\n",
    "print(\"✅ All SILC modules successfully imported!\")"
   ]
  },
  {
   "cell_type": "markdown",
   "id": "a4bf9b5d",
   "metadata": {
    "vscode": {
     "languageId": "plaintext"
    }
   },
   "source": [
    "## Download Data\n",
    "\n",
    "Simulated noise and foreground maps are downloaded from: https://pla.esac.esa.int/#maps. You can easily add further components from the Simulatio\n",
    "\n",
    "The current approach is to generate random CMB realisations from its power spectrum. See the GitHub repo for the `cmb_spectrum.txt` file, which you will need in your data directory. \n",
    "\n"
   ]
  },
  {
   "cell_type": "code",
   "execution_count": null,
   "id": "5f576018",
   "metadata": {},
   "outputs": [],
   "source": [
    "# Define components to download\n",
    "components = [\"cmb\", \"sync\", \"dust\", \"noise\"]\n",
    "\n",
    "# Define frequencies (Planck channels in GHz)\n",
    "frequencies = [\"030\", \"044\", \"070\", \"100\", \"143\", \"217\", \"353\"]\n",
    "\n",
    "\n",
    "# Download configuration\n",
    "realisations = 1           # Download just one realisation for this example\n",
    "start_realisation = 0      # Start from realisation 0\n",
    "data_directory = \"data/\"   # Local data storage\n",
    "\n",
    "print(f\"Target: {realisations} realisation(s) starting from #{start_realisation}\")\n",
    "print(f\"Storage: {data_directory}\")\n",
    "\n",
    "# Initialize the downloader\n",
    "downloader = DownloadData(\n",
    "    components=components,\n",
    "    frequencies=frequencies, \n",
    "    realisations=realisations,\n",
    "    start_realisation=start_realisation,\n",
    "    directory=data_directory\n",
    ")\n",
    "\n",
    "# Download everything at once\n",
    "downloader.download_all()  \n",
    "\n",
    "print(\"Download complete. Ready for map processing.\")\n",
    "print(\"Check your data/ directory for the following structure:\")\n",
    "print(\"   ├── cmb_r0000_lmax1023.fits\")\n",
    "print(\"   ├── sync_f030.fits, sync_f044.fits, ...\")\n",
    "print(\"   ├── dust_f030.fits, dust_f044.fits, ...\")\n",
    "print(\"   └── noise_f030_r0000.fits, noise_f044_r0000.fits, ...\")"
   ]
  },
  {
   "cell_type": "code",
   "execution_count": null,
   "id": "f9276742",
   "metadata": {},
   "outputs": [],
   "source": []
  },
  {
   "cell_type": "markdown",
   "id": "151bbe57",
   "metadata": {},
   "source": [
    "## Wavelet Transforms "
   ]
  },
  {
   "cell_type": "code",
   "execution_count": null,
   "id": "46d681ca",
   "metadata": {},
   "outputs": [],
   "source": []
  },
  {
   "cell_type": "markdown",
   "id": "76bf8de4",
   "metadata": {},
   "source": [
    "## Applying SILC"
   ]
  },
  {
   "cell_type": "code",
   "execution_count": null,
   "id": "9a13b101",
   "metadata": {},
   "outputs": [],
   "source": []
  },
  {
   "cell_type": "markdown",
   "id": "c10a9096",
   "metadata": {},
   "source": [
    "## 7. Whole Pipeline"
   ]
  },
  {
   "cell_type": "code",
   "execution_count": null,
   "id": "b1776757",
   "metadata": {},
   "outputs": [],
   "source": []
  }
 ],
 "metadata": {
  "kernelspec": {
   "display_name": "s2ai-gpu",
   "language": "python",
   "name": "python3"
  },
  "language_info": {
   "codemirror_mode": {
    "name": "ipython",
    "version": 3
   },
   "file_extension": ".py",
   "mimetype": "text/x-python",
   "name": "python",
   "nbconvert_exporter": "python",
   "pygments_lexer": "ipython3",
   "version": "3.11.13"
  }
 },
 "nbformat": 4,
 "nbformat_minor": 5
}
