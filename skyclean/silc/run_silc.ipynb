{
 "cells": [
  {
   "cell_type": "code",
   "execution_count": 9,
   "id": "29bd341f",
   "metadata": {},
   "outputs": [
    {
     "name": "stdout",
     "output_type": "stream",
     "text": [
      "skyclean from: /home/agnes/Skyclean/skyclean/__init__.py\n",
      "pipeline  from: /home/agnes/Skyclean/skyclean/silc/pipeline.py\n"
     ]
    }
   ],
   "source": [
    "import sys, os\n",
    "repo_root = \"/home/agnes/Skyclean\"          # <- adjust if different\n",
    "if repo_root not in sys.path:\n",
    "    sys.path.insert(0, repo_root)\n",
    "\n",
    "from skyclean.silc.pipeline import Pipeline\n",
    "\n",
    "# confirm\n",
    "import skyclean, skyclean.silc.pipeline\n",
    "print(\"skyclean from:\", skyclean.__file__)\n",
    "print(\"pipeline  from:\", skyclean.silc.pipeline.__file__)\n"
   ]
  },
  {
   "cell_type": "code",
   "execution_count": 10,
   "id": "5ede1cdb",
   "metadata": {},
   "outputs": [
    {
     "name": "stdout",
     "output_type": "stream",
     "text": [
      "/home/agnes/miniconda3/envs/clean_cmb/bin/python\n",
      "0.5.3\n",
      "[CudaDevice(id=0), CudaDevice(id=1)]\n"
     ]
    }
   ],
   "source": [
    "import sys, jax\n",
    "print(sys.executable)      # should be .../miniconda3/envs/clean_cmb/bin/python\n",
    "print(jax.__version__)     # 0.5.x\n",
    "print(jax.devices())       # [CudaDevice(...)]"
   ]
  },
  {
   "cell_type": "code",
   "execution_count": 3,
   "id": "bc57d65d",
   "metadata": {},
   "outputs": [
    {
     "name": "stdout",
     "output_type": "stream",
     "text": [
      "No steps selected. Use --steps with any of: download process wavelets ilc all\n"
     ]
    }
   ],
   "source": [
    "pipe = Pipeline(\n",
    "    components=[\"cmb\", \"sync\", \"tsz\", \"noise\"],\n",
    "    wavelet_components=[\"cfn\"],\n",
    "    ilc_components=[\"cmb\"],   # extract CMB via (c)ILC\n",
    "    frequencies=[\"030\",\"044\",\"070\",\"100\",\"143\",\"217\",\"353\",\"545\",\"857\"],\n",
    "    realisations=1,           # r00000 only; use 300 for r00000..r00299\n",
    "    start_realisation=0,\n",
    "    lmax=512,\n",
    "    N_directions=1,\n",
    "    lam=2.0,\n",
    "    method=\"jax\",\n",
    "    save_ilc_intermediates=True,\n",
    "    overwrite=False,    \n",
    "    visualise=True,      \n",
    "    directory=\"/Scratch/agnes/data\",\n",
    ")\n",
    "\n",
    "pipe.run()"
   ]
  },
  {
   "cell_type": "code",
   "execution_count": 4,
   "id": "f3a5c9bf",
   "metadata": {},
   "outputs": [],
   "source": [
    "os.environ['CUDA_VISIBLE_DEVICES'] = '0'\n",
    "\n",
    "pipe = Pipeline(\n",
    "    components=[\"cmb\",\"sync\",\"noise\",\"tsz\"],\n",
    "    wavelet_components=[\"cfn\"],\n",
    "    ilc_components=[\"cfn\"],\n",
    "    frequencies=[\"030\",\"044\",\"070\",\"100\",\"143\",\"217\",\"353\",\"545\",\"857\"],\n",
    "    realisations=1,\n",
    "    start_realisation=0,\n",
    "    lmax=512,\n",
    "    N_directions=1,\n",
    "    lam=2.0,\n",
    "    method=\"jax_cuda\",\n",
    "    visualise=True,\n",
    "    save_ilc_intermediates=False,\n",
    "    overwrite=False,\n",
    "    directory=\"/Scratch/agnes/data\",\n",
    ")"
   ]
  },
  {
   "cell_type": "code",
   "execution_count": 13,
   "id": "97ef95a7",
   "metadata": {},
   "outputs": [
    {
     "name": "stdout",
     "output_type": "stream",
     "text": [
      "--- STARTING DATA DOWNLOAD ---\n",
      "Downloading foreground components...\n",
      "File /Scratch/agnes/data/CMB_realisations/sync_f030.fits already exists. Skipping download.\n",
      "File /Scratch/agnes/data/CMB_realisations/sync_f044.fits already exists. Skipping download.\n",
      "File /Scratch/agnes/data/CMB_realisations/sync_f070.fits already exists. Skipping download.\n",
      "File /Scratch/agnes/data/CMB_realisations/sync_f100.fits already exists. Skipping download.\n",
      "File /Scratch/agnes/data/CMB_realisations/sync_f143.fits already exists. Skipping download.\n",
      "File /Scratch/agnes/data/CMB_realisations/sync_f217.fits already exists. Skipping download.\n",
      "File /Scratch/agnes/data/CMB_realisations/sync_f353.fits already exists. Skipping download.\n",
      "File /Scratch/agnes/data/CMB_realisations/sync_f545.fits already exists. Skipping download.\n",
      "File /Scratch/agnes/data/CMB_realisations/sync_f857.fits already exists. Skipping download.\n",
      "File /Scratch/agnes/data/CMB_realisations/tsz_f030.fits already exists. Skipping download.\n",
      "File /Scratch/agnes/data/CMB_realisations/tsz_f044.fits already exists. Skipping download.\n",
      "File /Scratch/agnes/data/CMB_realisations/tsz_f070.fits already exists. Skipping download.\n",
      "File /Scratch/agnes/data/CMB_realisations/tsz_f100.fits already exists. Skipping download.\n",
      "File /Scratch/agnes/data/CMB_realisations/tsz_f143.fits already exists. Skipping download.\n",
      "File /Scratch/agnes/data/CMB_realisations/tsz_f217.fits already exists. Skipping download.\n",
      "File /Scratch/agnes/data/CMB_realisations/tsz_f353.fits already exists. Skipping download.\n",
      "File /Scratch/agnes/data/CMB_realisations/tsz_f545.fits already exists. Skipping download.\n",
      "File /Scratch/agnes/data/CMB_realisations/tsz_f857.fits already exists. Skipping download.\n",
      "cmb_spectrum.txt already exists. Skipping download.\n",
      "0\n",
      "Downloading CMB & noise for realisation 0...\n",
      "CMB realisation 0 already exists. Skipping generation.\n",
      "File /Scratch/agnes/data/CMB_realisations/noise_f030_r00000.fits already exists. Skipping download.\n",
      "File /Scratch/agnes/data/CMB_realisations/noise_f044_r00000.fits already exists. Skipping download.\n",
      "File /Scratch/agnes/data/CMB_realisations/noise_f070_r00000.fits already exists. Skipping download.\n",
      "File /Scratch/agnes/data/CMB_realisations/noise_f100_r00000.fits already exists. Skipping download.\n",
      "File /Scratch/agnes/data/CMB_realisations/noise_f143_r00000.fits already exists. Skipping download.\n",
      "File /Scratch/agnes/data/CMB_realisations/noise_f217_r00000.fits already exists. Skipping download.\n",
      "File /Scratch/agnes/data/CMB_realisations/noise_f353_r00000.fits already exists. Skipping download.\n",
      "File /Scratch/agnes/data/CMB_realisations/noise_f545_r00000.fits already exists. Skipping download.\n",
      "File /Scratch/agnes/data/CMB_realisations/noise_f857_r00000.fits already exists. Skipping download.\n"
     ]
    }
   ],
   "source": [
    "pipe.step_download()"
   ]
  },
  {
   "cell_type": "code",
   "execution_count": 14,
   "id": "837bab2d",
   "metadata": {},
   "outputs": [
    {
     "name": "stdout",
     "output_type": "stream",
     "text": [
      "--- PROCESSING CFNs AND TOTAL MAP CFN ---\n",
      "CFN map at 030 GHz for realisation 0 already exists. Skipping processing.\n",
      "CFN map at 044 GHz for realisation 0 already exists. Skipping processing.\n",
      "CFN map at 070 GHz for realisation 0 already exists. Skipping processing.\n",
      "CFN map at 100 GHz for realisation 0 already exists. Skipping processing.\n",
      "CFN map at 143 GHz for realisation 0 already exists. Skipping processing.\n",
      "CFN map at 217 GHz for realisation 0 already exists. Skipping processing.\n",
      "CFN map at 353 GHz for realisation 0 already exists. Skipping processing.\n",
      "CFN map at 545 GHz for realisation 0 already exists. Skipping processing.\n",
      "CFN map at 857 GHz for realisation 0 already exists. Skipping processing.\n"
     ]
    }
   ],
   "source": [
    "pipe.step_process()"
   ]
  },
  {
   "cell_type": "code",
   "execution_count": 15,
   "id": "51964f0a",
   "metadata": {},
   "outputs": [
    {
     "name": "stdout",
     "output_type": "stream",
     "text": [
      "--- PRODUCING WAVELET TRANSFORMS ---\n",
      "Wavelet coefficients for cfn at 030 GHz r0 exist. Skipping.\n",
      "Wavelet transform for cfn at 030 GHz for realisation 0 saved.\n",
      "Wavelet coefficients for cfn at 044 GHz r0 exist. Skipping.\n",
      "Wavelet transform for cfn at 044 GHz for realisation 0 saved.\n",
      "Wavelet coefficients for cfn at 070 GHz r0 exist. Skipping.\n",
      "Wavelet transform for cfn at 070 GHz for realisation 0 saved.\n",
      "Wavelet coefficients for cfn at 100 GHz r0 exist. Skipping.\n",
      "Wavelet transform for cfn at 100 GHz for realisation 0 saved.\n",
      "Wavelet coefficients for cfn at 143 GHz r0 exist. Skipping.\n",
      "Wavelet transform for cfn at 143 GHz for realisation 0 saved.\n",
      "Wavelet coefficients for cfn at 217 GHz r0 exist. Skipping.\n",
      "Wavelet transform for cfn at 217 GHz for realisation 0 saved.\n",
      "Wavelet coefficients for cfn at 353 GHz r0 exist. Skipping.\n",
      "Wavelet transform for cfn at 353 GHz for realisation 0 saved.\n",
      "Wavelet coefficients for cfn at 545 GHz r0 exist. Skipping.\n",
      "Wavelet transform for cfn at 545 GHz for realisation 0 saved.\n",
      "Wavelet coefficients for cfn at 857 GHz r0 exist. Skipping.\n",
      "Wavelet transform for cfn at 857 GHz for realisation 0 saved.\n"
     ]
    }
   ],
   "source": [
    "pipe.step_wavelets()"
   ]
  },
  {
   "cell_type": "code",
   "execution_count": null,
   "id": "bdb08a20",
   "metadata": {},
   "outputs": [
    {
     "name": "stdout",
     "output_type": "stream",
     "text": [
      "--- RUNNING ILC (new functional API) ---\n",
      "--- PRODUCING ILC FOR target='cfn' (source on disk='cmb'), scales=[0, 1, 2, 3, 4, 5, 6, 7, 8, 9, 10, 11] ---\n",
      "Processing realisation 0000 for component cmb\n"
     ]
    }
   ],
   "source": [
    "pipe.step_ilc()"
   ]
  }
 ],
 "metadata": {
  "kernelspec": {
   "display_name": "clean_cmb",
   "language": "python",
   "name": "python3"
  },
  "language_info": {
   "codemirror_mode": {
    "name": "ipython",
    "version": 3
   },
   "file_extension": ".py",
   "mimetype": "text/x-python",
   "name": "python",
   "nbconvert_exporter": "python",
   "pygments_lexer": "ipython3",
   "version": "3.11.13"
  }
 },
 "nbformat": 4,
 "nbformat_minor": 5
}
