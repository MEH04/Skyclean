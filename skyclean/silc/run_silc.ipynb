{
 "cells": [
  {
   "cell_type": "code",
   "execution_count": 1,
   "id": "edf95f54",
   "metadata": {},
   "outputs": [
    {
     "name": "stdout",
     "output_type": "stream",
     "text": [
      "/home/agnes/miniconda3/envs/clean_cmb/bin/python\n",
      "0.5.3\n",
      "[CudaDevice(id=0), CudaDevice(id=1)]\n"
     ]
    }
   ],
   "source": [
    "import sys, jax\n",
    "import os\n",
    "\n",
    "# show GPUs again (or pick specific ones)\n",
    "os.environ[\"CUDA_VISIBLE_DEVICES\"] = \"0,1\"      # or \"0,1\" … ; delete the var to expose all\n",
    "\n",
    "# tell JAX to use CUDA (JAX 0.5.* prefers this env var)\n",
    "os.environ[\"JAX_PLATFORMS\"] = \"cuda\"\n",
    "\n",
    "# if you previously set the old name, clear it\n",
    "os.environ.pop(\"JAX_PLATFORM_NAME\", None)\n",
    "\n",
    "print(sys.executable)      # should be .../miniconda3/envs/clean_cmb/bin/python\n",
    "print(jax.__version__)     # 0.5.x\n",
    "print(jax.devices())       # [CudaDevice(...)]"
   ]
  },
  {
   "cell_type": "code",
   "execution_count": 2,
   "id": "c3abad6f",
   "metadata": {},
   "outputs": [
    {
     "data": {
      "text/plain": [
       "'\\nimport os\\n# Prefer CPU\\nos.environ[\"JAX_PLATFORMS\"] = \"cpu\"      # JAX 0.5+ preferred flag\\nos.environ[\"CUDA_VISIBLE_DEVICES\"] = \"\"  # optional: hide all GPUs from JAX & CUDA\\nos.environ.pop(\"JAX_PLATFORM_NAME\", None)  # ensure old flag isn\\'t forcing cuda\\n\\nimport jax\\nprint(jax.__version__)\\nprint(jax.devices())   # should show [CpuDevice(0)]\\n'"
      ]
     },
     "execution_count": 2,
     "metadata": {},
     "output_type": "execute_result"
    }
   ],
   "source": [
    "'''\n",
    "import os\n",
    "# Prefer CPU\n",
    "os.environ[\"JAX_PLATFORMS\"] = \"cpu\"      # JAX 0.5+ preferred flag\n",
    "os.environ[\"CUDA_VISIBLE_DEVICES\"] = \"\"  # optional: hide all GPUs from JAX & CUDA\n",
    "os.environ.pop(\"JAX_PLATFORM_NAME\", None)  # ensure old flag isn't forcing cuda\n",
    "\n",
    "import jax\n",
    "print(jax.__version__)\n",
    "print(jax.devices())   # should show [CpuDevice(0)]\n",
    "'''"
   ]
  },
  {
   "cell_type": "code",
   "execution_count": 3,
   "id": "29bd341f",
   "metadata": {},
   "outputs": [
    {
     "name": "stderr",
     "output_type": "stream",
     "text": [
      "JAX is not using 64-bit precision. This will dramatically affect numerical precision at even moderate L.\n"
     ]
    }
   ],
   "source": [
    "import os, sys\n",
    "os.chdir(\"/home/agnes/Skyclean\")       # repo root\n",
    "sys.path.insert(0, os.getcwd())\n",
    "\n",
    "from skyclean.silc.ilc import ProduceSILC\n",
    "from skyclean.silc.ilc import SILCTools\n",
    "from skyclean.silc.file_templates import FileTemplates\n",
    "from skyclean.silc.pipeline import Pipeline"
   ]
  },
  {
   "cell_type": "code",
   "execution_count": 4,
   "id": "bedb6d3c",
   "metadata": {},
   "outputs": [],
   "source": [
    "import numpy as np\n",
    "\n",
    "# --- Physical constants ---\n",
    "h = 6.62607015e-34        # Planck [J·s]\n",
    "k = 1.380649e-23          # Boltzmann [J/K]\n",
    "T_cmb = 2.7255            # [K]\n",
    "\n",
    "# --- Planck frequency channels in GHz ---\n",
    "frequencies = ['030','044','070','100','143','217','353','545','857']\n",
    "nu = np.array([float(f) for f in frequencies]) * 1e9   # Hz\n",
    "x = h * nu / (k * T_cmb)\n",
    "\n",
    "# Unit conversion (antenna→thermodynamic), proportional to dB/dT\n",
    "g_nu = (x**2 * np.exp(x)) / (np.exp(x) - 1.0)**2\n",
    "\n",
    "# (a) CMB in thermodynamic units: flat response\n",
    "cmb_vec = np.ones_like(nu)\n",
    "\n",
    "# (b) tSZ in thermodynamic units\n",
    "tsz_vec = x * ((np.exp(x) + 1) / (np.exp(x) - 1)) - 4\n",
    "# Optional: tsz_vec is ~0 near 217 GHz automatically; don't zero 30/44/70.\n",
    "\n",
    "# (c) Synchrotron: antenna T ∝ ν^β, convert to thermodynamic\n",
    "beta_s = -3.1\n",
    "nu0 = 30e9\n",
    "T_sync_ant = (nu / nu0) ** beta_s\n",
    "sync_vec = T_sync_ant / g_nu\n",
    "\n",
    "# Normalize columns (helps matching)\n",
    "def _norm(v): \n",
    "    n = np.linalg.norm(v)\n",
    "    return v if n == 0 else (v / n)\n",
    "\n",
    "reference_vectors = {\n",
    "    \"cmb\":  _norm(cmb_vec),\n",
    "    \"tsz\":  _norm(tsz_vec),\n",
    "    \"sync\": _norm(sync_vec),\n",
    "}\n",
    "\n",
    "# Column order in F (controls what “column index” each name maps to)\n",
    "F_cols = [\"cmb\", \"tsz\", \"sync\"]\n",
    "F = np.column_stack([reference_vectors[name] for name in F_cols])  # shape (Nfreq, Nc)\n",
    "\n",
    "def build_f(F, component_name):\n",
    "    \"\"\"Return unit vector f (Nc,) with 1 at the column corresponding to component_name.\"\"\"\n",
    "    # allow list/tuple to mean multiple constraints; here: single name\n",
    "    if isinstance(component_name, (list, tuple)):\n",
    "        raise ValueError(\"build_f expects a single name; pass one of: \" + \", \".join(F_cols))\n",
    "    try:\n",
    "        j = F_cols.index(component_name.lower())\n",
    "    except ValueError:\n",
    "        raise ValueError(f\"Component '{component_name}' not in F columns {F_cols}\")\n",
    "    f = np.zeros(F.shape[1], dtype=float)\n",
    "    f[j] = 1.0\n",
    "    return f\n"
   ]
  },
  {
   "cell_type": "code",
   "execution_count": 5,
   "id": "a68b4ee1",
   "metadata": {},
   "outputs": [
    {
     "name": "stdout",
     "output_type": "stream",
     "text": [
      "F columns: ['cmb', 'tsz', 'sync']\n",
      "f for cmb: [1. 0. 0.]\n",
      "f for tsz: [0. 1. 0.]\n",
      "f for sync: [0. 0. 1.]\n"
     ]
    }
   ],
   "source": [
    "print(\"F columns:\", F_cols)\n",
    "print(\"f for cmb:\", build_f(F, \"cmb\"))\n",
    "print(\"f for tsz:\", build_f(F, \"tsz\"))\n",
    "print(\"f for sync:\", build_f(F, \"sync\"))"
   ]
  },
  {
   "cell_type": "code",
   "execution_count": 6,
   "id": "d82ef849",
   "metadata": {},
   "outputs": [],
   "source": [
    "directory = \"/Scratch/agnes/data\" \n",
    "ft = FileTemplates(directory).file_templates\n",
    "\n",
    "# INPUT wavelet coeff template (uses {comp}, {frequency}, {scale}, {realisation:05d}, {lmax}, {lam})\n",
    "file_template = ft.get(\"wavelet_coeffs\") or ft[\"wavelet_c_j\"]\n",
    "\n",
    "# OUTPUT templates expected by ILC_wav_coeff_maps_MP (use {component}, {extract_comp}, {realisation})\n",
    "output_templates = {\n",
    "    \"doubled_maps\":           ft[\"doubled_maps\"],\n",
    "    \"covariance_matrices\":    ft[\"covariance_matrices\"],\n",
    "    \"weight_vector_matrices\": ft[\"weight_vector_matrices\"],\n",
    "    \"ilc_maps\":               ft[\"ilc_maps\"],\n",
    "    \"trimmed_maps\":           ft[\"trimmed_maps\"],\n",
    "    \"ilc_synth\":              ft[\"ilc_synth\"],\n",
    "    \"ilc_spectrum\":           ft.get(\"ilc_spectrum\"),  \n",
    "    \"scaling_coeffs\":         ft[\"scaling_coeffs\"], \n",
    "}"
   ]
  },
  {
   "cell_type": "code",
   "execution_count": 7,
   "id": "a377afeb",
   "metadata": {},
   "outputs": [],
   "source": [
    "os.environ['CUDA_VISIBLE_DEVICES'] = '0'\n",
    "\n",
    "pipe = Pipeline(\n",
    "    components=[\"cmb\",\"sync\",\"noise\",\"tsz\"],\n",
    "    wavelet_components=[\"cfn\"],\n",
    "    ilc_components=[\"cmb\"],\n",
    "    frequencies=[\"030\",\"044\",\"070\",\"100\",\"143\",\"217\",\"353\",\"545\",\"857\"],\n",
    "    realisations=1,\n",
    "    start_realisation=0,\n",
    "    lmax=64,\n",
    "    N_directions=1,\n",
    "    lam=2.0,\n",
    "    method=\"jax_cuda\",\n",
    "    visualise=True,\n",
    "    save_ilc_intermediates=False,\n",
    "    overwrite=False,\n",
    "    directory=\"/Scratch/agnes/data\",\n",
    "    # constrained ILC controls:\n",
    "    constraint=True,\n",
    "    F=F,\n",
    "    reference_vectors=reference_vectors,\n",
    "    )"
   ]
  },
  {
   "cell_type": "code",
   "execution_count": 8,
   "id": "468314fe",
   "metadata": {},
   "outputs": [
    {
     "name": "stdout",
     "output_type": "stream",
     "text": [
      "--- STARTING DATA DOWNLOAD ---\n",
      "Downloading foreground components...\n",
      "File /Scratch/agnes/data/CMB_realisations/sync_f030.fits already exists. Skipping download.\n",
      "File /Scratch/agnes/data/CMB_realisations/sync_f044.fits already exists. Skipping download.\n",
      "File /Scratch/agnes/data/CMB_realisations/sync_f070.fits already exists. Skipping download.\n",
      "File /Scratch/agnes/data/CMB_realisations/sync_f100.fits already exists. Skipping download.\n",
      "File /Scratch/agnes/data/CMB_realisations/sync_f143.fits already exists. Skipping download.\n",
      "File /Scratch/agnes/data/CMB_realisations/sync_f217.fits already exists. Skipping download.\n",
      "File /Scratch/agnes/data/CMB_realisations/sync_f353.fits already exists. Skipping download.\n",
      "File /Scratch/agnes/data/CMB_realisations/sync_f545.fits already exists. Skipping download.\n",
      "File /Scratch/agnes/data/CMB_realisations/sync_f857.fits already exists. Skipping download.\n",
      "File /Scratch/agnes/data/CMB_realisations/tsz_f030.fits already exists. Skipping download.\n",
      "File /Scratch/agnes/data/CMB_realisations/tsz_f044.fits already exists. Skipping download.\n",
      "File /Scratch/agnes/data/CMB_realisations/tsz_f070.fits already exists. Skipping download.\n",
      "File /Scratch/agnes/data/CMB_realisations/tsz_f100.fits already exists. Skipping download.\n",
      "File /Scratch/agnes/data/CMB_realisations/tsz_f143.fits already exists. Skipping download.\n",
      "File /Scratch/agnes/data/CMB_realisations/tsz_f217.fits already exists. Skipping download.\n",
      "File /Scratch/agnes/data/CMB_realisations/tsz_f353.fits already exists. Skipping download.\n",
      "File /Scratch/agnes/data/CMB_realisations/tsz_f545.fits already exists. Skipping download.\n",
      "File /Scratch/agnes/data/CMB_realisations/tsz_f857.fits already exists. Skipping download.\n",
      "cmb_spectrum.txt already exists. Skipping download.\n",
      "0\n",
      "Downloading CMB & noise for realisation 0...\n",
      "CMB realisation 0 already exists. Skipping generation.\n",
      "File /Scratch/agnes/data/CMB_realisations/noise_f030_r00000.fits already exists. Skipping download.\n",
      "File /Scratch/agnes/data/CMB_realisations/noise_f044_r00000.fits already exists. Skipping download.\n",
      "File /Scratch/agnes/data/CMB_realisations/noise_f070_r00000.fits already exists. Skipping download.\n",
      "File /Scratch/agnes/data/CMB_realisations/noise_f100_r00000.fits already exists. Skipping download.\n",
      "File /Scratch/agnes/data/CMB_realisations/noise_f143_r00000.fits already exists. Skipping download.\n",
      "File /Scratch/agnes/data/CMB_realisations/noise_f217_r00000.fits already exists. Skipping download.\n",
      "File /Scratch/agnes/data/CMB_realisations/noise_f353_r00000.fits already exists. Skipping download.\n",
      "File /Scratch/agnes/data/CMB_realisations/noise_f545_r00000.fits already exists. Skipping download.\n",
      "File /Scratch/agnes/data/CMB_realisations/noise_f857_r00000.fits already exists. Skipping download.\n"
     ]
    }
   ],
   "source": [
    "pipe.step_download()"
   ]
  },
  {
   "cell_type": "code",
   "execution_count": 9,
   "id": "2031e233",
   "metadata": {},
   "outputs": [
    {
     "name": "stdout",
     "output_type": "stream",
     "text": [
      "--- PROCESSING CFNs AND TOTAL MAP CFN ---\n",
      "CFN map at 030 GHz for realisation 0 already exists. Skipping processing.\n",
      "CFN map at 044 GHz for realisation 0 already exists. Skipping processing.\n",
      "CFN map at 070 GHz for realisation 0 already exists. Skipping processing.\n",
      "CFN map at 100 GHz for realisation 0 already exists. Skipping processing.\n",
      "CFN map at 143 GHz for realisation 0 already exists. Skipping processing.\n",
      "CFN map at 217 GHz for realisation 0 already exists. Skipping processing.\n",
      "CFN map at 353 GHz for realisation 0 already exists. Skipping processing.\n",
      "CFN map at 545 GHz for realisation 0 already exists. Skipping processing.\n",
      "CFN map at 857 GHz for realisation 0 already exists. Skipping processing.\n"
     ]
    }
   ],
   "source": [
    "pipe.step_process()"
   ]
  },
  {
   "cell_type": "code",
   "execution_count": 10,
   "id": "6ec459a8",
   "metadata": {},
   "outputs": [
    {
     "name": "stdout",
     "output_type": "stream",
     "text": [
      "--- PRODUCING WAVELET TRANSFORMS ---\n",
      "Wavelet coefficients for cfn at 030 GHz for realisation 0 already exist. Skipping generation.\n",
      "Wavelet transform for cfn at 030 GHz for realisation 0 saved.\n",
      "Wavelet coefficients for cfn at 044 GHz for realisation 0 already exist. Skipping generation.\n",
      "Wavelet transform for cfn at 044 GHz for realisation 0 saved.\n",
      "Wavelet coefficients for cfn at 070 GHz for realisation 0 already exist. Skipping generation.\n",
      "Wavelet transform for cfn at 070 GHz for realisation 0 saved.\n",
      "Wavelet coefficients for cfn at 100 GHz for realisation 0 already exist. Skipping generation.\n",
      "Wavelet transform for cfn at 100 GHz for realisation 0 saved.\n",
      "Wavelet coefficients for cfn at 143 GHz for realisation 0 already exist. Skipping generation.\n",
      "Wavelet transform for cfn at 143 GHz for realisation 0 saved.\n",
      "Wavelet coefficients for cfn at 217 GHz for realisation 0 already exist. Skipping generation.\n",
      "Wavelet transform for cfn at 217 GHz for realisation 0 saved.\n",
      "Wavelet coefficients for cfn at 353 GHz for realisation 0 already exist. Skipping generation.\n",
      "Wavelet transform for cfn at 353 GHz for realisation 0 saved.\n",
      "Wavelet coefficients for cfn at 545 GHz for realisation 0 already exist. Skipping generation.\n",
      "Wavelet transform for cfn at 545 GHz for realisation 0 saved.\n",
      "Wavelet coefficients for cfn at 857 GHz for realisation 0 already exist. Skipping generation.\n",
      "Wavelet transform for cfn at 857 GHz for realisation 0 saved.\n"
     ]
    }
   ],
   "source": [
    "pipe.step_wavelets()"
   ]
  },
  {
   "cell_type": "code",
   "execution_count": 11,
   "id": "db5419cc",
   "metadata": {},
   "outputs": [
    {
     "name": "stdout",
     "output_type": "stream",
     "text": [
      "--- RUNNING ILC (new functional API) ---\n",
      "--- ILC target='cmb'  input='cfn'  lmax=64  scales=[0, 1, 2, 3, 4, 5, 6, 7, 8] ---\n",
      "Processing realisation 0000 for component cfn\n",
      "load_frequency_data\n",
      "saved: /Scratch/agnes/data/SILC/doubled_maps/doubled_cfn_f030_s0_r0000_lmax64_lam2.0.npy\n",
      "saved: /Scratch/agnes/data/SILC/doubled_maps/doubled_cfn_f030_s1_r0000_lmax64_lam2.0.npy\n",
      "saved: /Scratch/agnes/data/SILC/doubled_maps/doubled_cfn_f030_s2_r0000_lmax64_lam2.0.npy\n",
      "saved: /Scratch/agnes/data/SILC/doubled_maps/doubled_cfn_f030_s3_r0000_lmax64_lam2.0.npy\n",
      "saved: /Scratch/agnes/data/SILC/doubled_maps/doubled_cfn_f030_s4_r0000_lmax64_lam2.0.npy\n",
      "saved: /Scratch/agnes/data/SILC/doubled_maps/doubled_cfn_f030_s5_r0000_lmax64_lam2.0.npy\n",
      "saved: /Scratch/agnes/data/SILC/doubled_maps/doubled_cfn_f030_s6_r0000_lmax64_lam2.0.npy\n",
      "saved: /Scratch/agnes/data/SILC/doubled_maps/doubled_cfn_f030_s7_r0000_lmax64_lam2.0.npy\n",
      "saved: /Scratch/agnes/data/SILC/doubled_maps/doubled_cfn_f030_s8_r0000_lmax64_lam2.0.npy\n",
      "saved: /Scratch/agnes/data/SILC/doubled_maps/doubled_cfn_f044_s0_r0000_lmax64_lam2.0.npy\n",
      "saved: /Scratch/agnes/data/SILC/doubled_maps/doubled_cfn_f044_s1_r0000_lmax64_lam2.0.npy\n",
      "saved: /Scratch/agnes/data/SILC/doubled_maps/doubled_cfn_f044_s2_r0000_lmax64_lam2.0.npy\n",
      "saved: /Scratch/agnes/data/SILC/doubled_maps/doubled_cfn_f044_s3_r0000_lmax64_lam2.0.npy\n",
      "saved: /Scratch/agnes/data/SILC/doubled_maps/doubled_cfn_f044_s4_r0000_lmax64_lam2.0.npy\n",
      "saved: /Scratch/agnes/data/SILC/doubled_maps/doubled_cfn_f044_s5_r0000_lmax64_lam2.0.npy\n",
      "saved: /Scratch/agnes/data/SILC/doubled_maps/doubled_cfn_f044_s6_r0000_lmax64_lam2.0.npy\n",
      "saved: /Scratch/agnes/data/SILC/doubled_maps/doubled_cfn_f044_s7_r0000_lmax64_lam2.0.npy\n",
      "saved: /Scratch/agnes/data/SILC/doubled_maps/doubled_cfn_f044_s8_r0000_lmax64_lam2.0.npy\n",
      "saved: /Scratch/agnes/data/SILC/doubled_maps/doubled_cfn_f070_s0_r0000_lmax64_lam2.0.npy\n",
      "saved: /Scratch/agnes/data/SILC/doubled_maps/doubled_cfn_f070_s1_r0000_lmax64_lam2.0.npy\n",
      "saved: /Scratch/agnes/data/SILC/doubled_maps/doubled_cfn_f070_s2_r0000_lmax64_lam2.0.npy\n",
      "saved: /Scratch/agnes/data/SILC/doubled_maps/doubled_cfn_f070_s3_r0000_lmax64_lam2.0.npy\n",
      "saved: /Scratch/agnes/data/SILC/doubled_maps/doubled_cfn_f070_s4_r0000_lmax64_lam2.0.npy\n",
      "saved: /Scratch/agnes/data/SILC/doubled_maps/doubled_cfn_f070_s5_r0000_lmax64_lam2.0.npy\n",
      "saved: /Scratch/agnes/data/SILC/doubled_maps/doubled_cfn_f070_s6_r0000_lmax64_lam2.0.npy\n",
      "saved: /Scratch/agnes/data/SILC/doubled_maps/doubled_cfn_f070_s7_r0000_lmax64_lam2.0.npy\n",
      "saved: /Scratch/agnes/data/SILC/doubled_maps/doubled_cfn_f070_s8_r0000_lmax64_lam2.0.npy\n",
      "saved: /Scratch/agnes/data/SILC/doubled_maps/doubled_cfn_f100_s0_r0000_lmax64_lam2.0.npy\n",
      "saved: /Scratch/agnes/data/SILC/doubled_maps/doubled_cfn_f100_s1_r0000_lmax64_lam2.0.npy\n",
      "saved: /Scratch/agnes/data/SILC/doubled_maps/doubled_cfn_f100_s2_r0000_lmax64_lam2.0.npy\n",
      "saved: /Scratch/agnes/data/SILC/doubled_maps/doubled_cfn_f100_s3_r0000_lmax64_lam2.0.npy\n",
      "saved: /Scratch/agnes/data/SILC/doubled_maps/doubled_cfn_f100_s4_r0000_lmax64_lam2.0.npy\n",
      "saved: /Scratch/agnes/data/SILC/doubled_maps/doubled_cfn_f100_s5_r0000_lmax64_lam2.0.npy\n",
      "saved: /Scratch/agnes/data/SILC/doubled_maps/doubled_cfn_f100_s6_r0000_lmax64_lam2.0.npy\n",
      "saved: /Scratch/agnes/data/SILC/doubled_maps/doubled_cfn_f100_s7_r0000_lmax64_lam2.0.npy\n",
      "saved: /Scratch/agnes/data/SILC/doubled_maps/doubled_cfn_f100_s8_r0000_lmax64_lam2.0.npy\n",
      "saved: /Scratch/agnes/data/SILC/doubled_maps/doubled_cfn_f143_s0_r0000_lmax64_lam2.0.npy\n",
      "saved: /Scratch/agnes/data/SILC/doubled_maps/doubled_cfn_f143_s1_r0000_lmax64_lam2.0.npy\n",
      "saved: /Scratch/agnes/data/SILC/doubled_maps/doubled_cfn_f143_s2_r0000_lmax64_lam2.0.npy\n",
      "saved: /Scratch/agnes/data/SILC/doubled_maps/doubled_cfn_f143_s3_r0000_lmax64_lam2.0.npy\n",
      "saved: /Scratch/agnes/data/SILC/doubled_maps/doubled_cfn_f143_s4_r0000_lmax64_lam2.0.npy\n",
      "saved: /Scratch/agnes/data/SILC/doubled_maps/doubled_cfn_f143_s5_r0000_lmax64_lam2.0.npy\n",
      "saved: /Scratch/agnes/data/SILC/doubled_maps/doubled_cfn_f143_s6_r0000_lmax64_lam2.0.npy\n",
      "saved: /Scratch/agnes/data/SILC/doubled_maps/doubled_cfn_f143_s7_r0000_lmax64_lam2.0.npy\n",
      "saved: /Scratch/agnes/data/SILC/doubled_maps/doubled_cfn_f143_s8_r0000_lmax64_lam2.0.npy\n",
      "saved: /Scratch/agnes/data/SILC/doubled_maps/doubled_cfn_f217_s0_r0000_lmax64_lam2.0.npy\n",
      "saved: /Scratch/agnes/data/SILC/doubled_maps/doubled_cfn_f217_s1_r0000_lmax64_lam2.0.npy\n",
      "saved: /Scratch/agnes/data/SILC/doubled_maps/doubled_cfn_f217_s2_r0000_lmax64_lam2.0.npy\n",
      "saved: /Scratch/agnes/data/SILC/doubled_maps/doubled_cfn_f217_s3_r0000_lmax64_lam2.0.npy\n",
      "saved: /Scratch/agnes/data/SILC/doubled_maps/doubled_cfn_f217_s4_r0000_lmax64_lam2.0.npy\n",
      "saved: /Scratch/agnes/data/SILC/doubled_maps/doubled_cfn_f217_s5_r0000_lmax64_lam2.0.npy\n",
      "saved: /Scratch/agnes/data/SILC/doubled_maps/doubled_cfn_f217_s6_r0000_lmax64_lam2.0.npy\n",
      "saved: /Scratch/agnes/data/SILC/doubled_maps/doubled_cfn_f217_s7_r0000_lmax64_lam2.0.npy\n",
      "saved: /Scratch/agnes/data/SILC/doubled_maps/doubled_cfn_f217_s8_r0000_lmax64_lam2.0.npy\n",
      "saved: /Scratch/agnes/data/SILC/doubled_maps/doubled_cfn_f353_s0_r0000_lmax64_lam2.0.npy\n",
      "saved: /Scratch/agnes/data/SILC/doubled_maps/doubled_cfn_f353_s1_r0000_lmax64_lam2.0.npy\n",
      "saved: /Scratch/agnes/data/SILC/doubled_maps/doubled_cfn_f353_s2_r0000_lmax64_lam2.0.npy\n",
      "saved: /Scratch/agnes/data/SILC/doubled_maps/doubled_cfn_f353_s3_r0000_lmax64_lam2.0.npy\n",
      "saved: /Scratch/agnes/data/SILC/doubled_maps/doubled_cfn_f353_s4_r0000_lmax64_lam2.0.npy\n",
      "saved: /Scratch/agnes/data/SILC/doubled_maps/doubled_cfn_f353_s5_r0000_lmax64_lam2.0.npy\n",
      "saved: /Scratch/agnes/data/SILC/doubled_maps/doubled_cfn_f353_s6_r0000_lmax64_lam2.0.npy\n",
      "saved: /Scratch/agnes/data/SILC/doubled_maps/doubled_cfn_f353_s7_r0000_lmax64_lam2.0.npy\n",
      "saved: /Scratch/agnes/data/SILC/doubled_maps/doubled_cfn_f353_s8_r0000_lmax64_lam2.0.npy\n",
      "saved: /Scratch/agnes/data/SILC/doubled_maps/doubled_cfn_f545_s0_r0000_lmax64_lam2.0.npy\n",
      "saved: /Scratch/agnes/data/SILC/doubled_maps/doubled_cfn_f545_s1_r0000_lmax64_lam2.0.npy\n",
      "saved: /Scratch/agnes/data/SILC/doubled_maps/doubled_cfn_f545_s2_r0000_lmax64_lam2.0.npy\n",
      "saved: /Scratch/agnes/data/SILC/doubled_maps/doubled_cfn_f545_s3_r0000_lmax64_lam2.0.npy\n",
      "saved: /Scratch/agnes/data/SILC/doubled_maps/doubled_cfn_f545_s4_r0000_lmax64_lam2.0.npy\n",
      "saved: /Scratch/agnes/data/SILC/doubled_maps/doubled_cfn_f545_s5_r0000_lmax64_lam2.0.npy\n",
      "saved: /Scratch/agnes/data/SILC/doubled_maps/doubled_cfn_f545_s6_r0000_lmax64_lam2.0.npy\n",
      "saved: /Scratch/agnes/data/SILC/doubled_maps/doubled_cfn_f545_s7_r0000_lmax64_lam2.0.npy\n",
      "saved: /Scratch/agnes/data/SILC/doubled_maps/doubled_cfn_f545_s8_r0000_lmax64_lam2.0.npy\n",
      "saved: /Scratch/agnes/data/SILC/doubled_maps/doubled_cfn_f857_s0_r0000_lmax64_lam2.0.npy\n",
      "saved: /Scratch/agnes/data/SILC/doubled_maps/doubled_cfn_f857_s1_r0000_lmax64_lam2.0.npy\n",
      "saved: /Scratch/agnes/data/SILC/doubled_maps/doubled_cfn_f857_s2_r0000_lmax64_lam2.0.npy\n",
      "saved: /Scratch/agnes/data/SILC/doubled_maps/doubled_cfn_f857_s3_r0000_lmax64_lam2.0.npy\n",
      "saved: /Scratch/agnes/data/SILC/doubled_maps/doubled_cfn_f857_s4_r0000_lmax64_lam2.0.npy\n",
      "saved: /Scratch/agnes/data/SILC/doubled_maps/doubled_cfn_f857_s5_r0000_lmax64_lam2.0.npy\n",
      "saved: /Scratch/agnes/data/SILC/doubled_maps/doubled_cfn_f857_s6_r0000_lmax64_lam2.0.npy\n",
      "saved: /Scratch/agnes/data/SILC/doubled_maps/doubled_cfn_f857_s7_r0000_lmax64_lam2.0.npy\n",
      "saved: /Scratch/agnes/data/SILC/doubled_maps/doubled_cfn_f857_s8_r0000_lmax64_lam2.0.npy\n",
      "Doubled and saved wavelet maps in 26.77 seconds\n",
      "load_frequency_data\n",
      "calculate_covariance_matrix\n",
      "calculate_covariance_matrix\n",
      "calculate_covariance_matrix\n",
      "calculate_covariance_matrix\n",
      "calculate_covariance_matrix\n",
      "calculate_covariance_matrix\n",
      "calculate_covariance_matrix\n",
      "calculate_covariance_matrix\n",
      "calculate_covariance_matrix\n",
      "calculate_covariance_matrix\n",
      "calculate_covariance_matrix\n",
      "calculate_covariance_matrix\n",
      "calculate_covariance_matrixcalculate_covariance_matrix\n",
      "\n",
      "calculate_covariance_matrixcalculate_covariance_matrix\n",
      "\n",
      "calculate_covariance_matrix\n",
      "calculate_covariance_matrix\n"
     ]
    },
    {
     "name": "stderr",
     "output_type": "stream",
     "text": [
      "JAX is not using 64-bit precision. This will dramatically affect numerical precision at even moderate L.\n",
      "JAX is not using 64-bit precision. This will dramatically affect numerical precision at even moderate L.\n",
      "JAX is not using 64-bit precision. This will dramatically affect numerical precision at even moderate L.\n",
      "JAX is not using 64-bit precision. This will dramatically affect numerical precision at even moderate L.\n",
      "JAX is not using 64-bit precision. This will dramatically affect numerical precision at even moderate L.\n",
      "JAX is not using 64-bit precision. This will dramatically affect numerical precision at even moderate L.\n",
      "JAX is not using 64-bit precision. This will dramatically affect numerical precision at even moderate L.\n",
      "JAX is not using 64-bit precision. This will dramatically affect numerical precision at even moderate L.\n",
      "JAX is not using 64-bit precision. This will dramatically affect numerical precision at even moderate L.\n",
      "JAX is not using 64-bit precision. This will dramatically affect numerical precision at even moderate L.\n",
      "JAX is not using 64-bit precision. This will dramatically affect numerical precision at even moderate L.\n",
      "JAX is not using 64-bit precision. This will dramatically affect numerical precision at even moderate L.\n",
      "JAX is not using 64-bit precision. This will dramatically affect numerical precision at even moderate L.\n",
      "JAX is not using 64-bit precision. This will dramatically affect numerical precision at even moderate L.\n"
     ]
    },
    {
     "name": "stdout",
     "output_type": "stream",
     "text": [
      "compute_covariance\n",
      "smoothed_covariance\n"
     ]
    },
    {
     "name": "stderr",
     "output_type": "stream",
     "text": [
      "JAX is not using 64-bit precision. This will dramatically affect numerical precision at even moderate L.\n",
      "JAX is not using 64-bit precision. This will dramatically affect numerical precision at even moderate L.\n",
      "JAX is not using 64-bit precision. This will dramatically affect numerical precision at even moderate L.\n",
      "JAX is not using 64-bit precision. This will dramatically affect numerical precision at even moderate L.\n",
      "JAX is not using 64-bit precision. This will dramatically affect numerical precision at even moderate L.\n",
      "JAX is not using 64-bit precision. This will dramatically affect numerical precision at even moderate L.\n"
     ]
    },
    {
     "name": "stdout",
     "output_type": "stream",
     "text": [
      "compute_covariance\n",
      "smoothed_covariance\n"
     ]
    },
    {
     "name": "stderr",
     "output_type": "stream",
     "text": [
      "JAX is not using 64-bit precision. This will dramatically affect numerical precision at even moderate L.\n",
      "JAX is not using 64-bit precision. This will dramatically affect numerical precision at even moderate L.\n",
      "JAX is not using 64-bit precision. This will dramatically affect numerical precision at even moderate L.\n",
      "JAX is not using 64-bit precision. This will dramatically affect numerical precision at even moderate L.\n",
      "JAX is not using 64-bit precision. This will dramatically affect numerical precision at even moderate L.\n",
      "JAX is not using 64-bit precision. This will dramatically affect numerical precision at even moderate L.\n",
      "JAX is not using 64-bit precision. This will dramatically affect numerical precision at even moderate L.\n",
      "JAX is not using 64-bit precision. This will dramatically affect numerical precision at even moderate L.\n",
      "JAX is not using 64-bit precision. This will dramatically affect numerical precision at even moderate L.\n",
      "JAX is not using 64-bit precision. This will dramatically affect numerical precision at even moderate L.\n",
      "JAX is not using 64-bit precision. This will dramatically affect numerical precision at even moderate L.\n"
     ]
    },
    {
     "name": "stdout",
     "output_type": "stream",
     "text": [
      "compute_covariance\n",
      "smoothed_covariance\n",
      "compute_covariance\n",
      "smoothed_covariance\n"
     ]
    },
    {
     "name": "stderr",
     "output_type": "stream",
     "text": [
      "JAX is not using 64-bit precision. This will dramatically affect numerical precision at even moderate L.\n",
      "JAX is not using 64-bit precision. This will dramatically affect numerical precision at even moderate L.\n",
      "JAX is not using 64-bit precision. This will dramatically affect numerical precision at even moderate L.\n",
      "JAX is not using 64-bit precision. This will dramatically affect numerical precision at even moderate L.\n",
      "JAX is not using 64-bit precision. This will dramatically affect numerical precision at even moderate L.\n"
     ]
    },
    {
     "name": "stdout",
     "output_type": "stream",
     "text": [
      "compute_covariance\n",
      "smoothed_covariance\n"
     ]
    },
    {
     "name": "stderr",
     "output_type": "stream",
     "text": [
      "JAX is not using 64-bit precision. This will dramatically affect numerical precision at even moderate L.\n",
      "JAX is not using 64-bit precision. This will dramatically affect numerical precision at even moderate L.\n",
      "JAX is not using 64-bit precision. This will dramatically affect numerical precision at even moderate L.\n"
     ]
    },
    {
     "name": "stdout",
     "output_type": "stream",
     "text": [
      "compute_covariance\n",
      "smoothed_covariance\n"
     ]
    },
    {
     "name": "stderr",
     "output_type": "stream",
     "text": [
      "JAX is not using 64-bit precision. This will dramatically affect numerical precision at even moderate L.\n",
      "JAX is not using 64-bit precision. This will dramatically affect numerical precision at even moderate L.\n",
      "JAX is not using 64-bit precision. This will dramatically affect numerical precision at even moderate L.\n",
      "JAX is not using 64-bit precision. This will dramatically affect numerical precision at even moderate L.\n",
      "JAX is not using 64-bit precision. This will dramatically affect numerical precision at even moderate L.\n",
      "JAX is not using 64-bit precision. This will dramatically affect numerical precision at even moderate L.\n",
      "JAX is not using 64-bit precision. This will dramatically affect numerical precision at even moderate L.\n",
      "JAX is not using 64-bit precision. This will dramatically affect numerical precision at even moderate L.\n",
      "JAX is not using 64-bit precision. This will dramatically affect numerical precision at even moderate L.\n",
      "JAX is not using 64-bit precision. This will dramatically affect numerical precision at even moderate L.\n",
      "JAX is not using 64-bit precision. This will dramatically affect numerical precision at even moderate L.\n",
      "JAX is not using 64-bit precision. This will dramatically affect numerical precision at even moderate L.\n",
      "JAX is not using 64-bit precision. This will dramatically affect numerical precision at even moderate L.\n",
      "JAX is not using 64-bit precision. This will dramatically affect numerical precision at even moderate L.\n",
      "JAX is not using 64-bit precision. This will dramatically affect numerical precision at even moderate L.\n",
      "JAX is not using 64-bit precision. This will dramatically affect numerical precision at even moderate L.\n"
     ]
    },
    {
     "name": "stdout",
     "output_type": "stream",
     "text": [
      "compute_covariance\n",
      "smoothed_covariance\n"
     ]
    },
    {
     "name": "stderr",
     "output_type": "stream",
     "text": [
      "JAX is not using 64-bit precision. This will dramatically affect numerical precision at even moderate L.\n"
     ]
    },
    {
     "name": "stdout",
     "output_type": "stream",
     "text": [
      "compute_covariance\n",
      "smoothed_covariance\n"
     ]
    },
    {
     "name": "stderr",
     "output_type": "stream",
     "text": [
      "JAX is not using 64-bit precision. This will dramatically affect numerical precision at even moderate L.\n",
      "JAX is not using 64-bit precision. This will dramatically affect numerical precision at even moderate L.\n",
      "JAX is not using 64-bit precision. This will dramatically affect numerical precision at even moderate L.\n",
      "JAX is not using 64-bit precision. This will dramatically affect numerical precision at even moderate L.\n",
      "JAX is not using 64-bit precision. This will dramatically affect numerical precision at even moderate L.\n",
      "JAX is not using 64-bit precision. This will dramatically affect numerical precision at even moderate L.\n",
      "JAX is not using 64-bit precision. This will dramatically affect numerical precision at even moderate L.\n",
      "JAX is not using 64-bit precision. This will dramatically affect numerical precision at even moderate L.\n",
      "JAX is not using 64-bit precision. This will dramatically affect numerical precision at even moderate L.\n",
      "JAX is not using 64-bit precision. This will dramatically affect numerical precision at even moderate L.\n",
      "JAX is not using 64-bit precision. This will dramatically affect numerical precision at even moderate L.\n",
      "JAX is not using 64-bit precision. This will dramatically affect numerical precision at even moderate L.\n",
      "JAX is not using 64-bit precision. This will dramatically affect numerical precision at even moderate L.\n",
      "JAX is not using 64-bit precision. This will dramatically affect numerical precision at even moderate L.\n",
      "JAX is not using 64-bit precision. This will dramatically affect numerical precision at even moderate L.\n",
      "JAX is not using 64-bit precision. This will dramatically affect numerical precision at even moderate L.\n",
      "JAX is not using 64-bit precision. This will dramatically affect numerical precision at even moderate L.\n",
      "JAX is not using 64-bit precision. This will dramatically affect numerical precision at even moderate L.\n",
      "JAX is not using 64-bit precision. This will dramatically affect numerical precision at even moderate L.\n",
      "JAX is not using 64-bit precision. This will dramatically affect numerical precision at even moderate L.\n",
      "JAX is not using 64-bit precision. This will dramatically affect numerical precision at even moderate L.\n"
     ]
    },
    {
     "name": "stdout",
     "output_type": "stream",
     "text": [
      "compute_covariance\n",
      "smoothed_covariance\n"
     ]
    },
    {
     "name": "stderr",
     "output_type": "stream",
     "text": [
      "JAX is not using 64-bit precision. This will dramatically affect numerical precision at even moderate L.\n",
      "JAX is not using 64-bit precision. This will dramatically affect numerical precision at even moderate L.\n",
      "JAX is not using 64-bit precision. This will dramatically affect numerical precision at even moderate L.\n",
      "JAX is not using 64-bit precision. This will dramatically affect numerical precision at even moderate L.\n",
      "JAX is not using 64-bit precision. This will dramatically affect numerical precision at even moderate L.\n"
     ]
    },
    {
     "name": "stdout",
     "output_type": "stream",
     "text": [
      "compute_covariance\n",
      "smoothed_covariance\n",
      "compute_covariance\n",
      "smoothed_covariance\n",
      "compute_covariance\n",
      "smoothed_covariance\n",
      "compute_covariance\n",
      "smoothed_covariance\n"
     ]
    },
    {
     "name": "stderr",
     "output_type": "stream",
     "text": [
      "JAX is not using 64-bit precision. This will dramatically affect numerical precision at even moderate L.\n",
      "JAX is not using 64-bit precision. This will dramatically affect numerical precision at even moderate L.\n",
      "JAX is not using 64-bit precision. This will dramatically affect numerical precision at even moderate L.\n",
      "JAX is not using 64-bit precision. This will dramatically affect numerical precision at even moderate L.\n",
      "JAX is not using 64-bit precision. This will dramatically affect numerical precision at even moderate L.\n",
      "JAX is not using 64-bit precision. This will dramatically affect numerical precision at even moderate L.\n",
      "JAX is not using 64-bit precision. This will dramatically affect numerical precision at even moderate L.\n",
      "JAX is not using 64-bit precision. This will dramatically affect numerical precision at even moderate L.\n"
     ]
    },
    {
     "name": "stdout",
     "output_type": "stream",
     "text": [
      "compute_covariance\n",
      "smoothed_covariance\n",
      "compute_covariance\n",
      "smoothed_covariance\n",
      "compute_covariance\n",
      "smoothed_covariance\n",
      "compute_covariance\n",
      "smoothed_covariance\n"
     ]
    },
    {
     "name": "stderr",
     "output_type": "stream",
     "text": [
      "JAX is not using 64-bit precision. This will dramatically affect numerical precision at even moderate L.\n",
      "JAX is not using 64-bit precision. This will dramatically affect numerical precision at even moderate L.\n",
      "JAX is not using 64-bit precision. This will dramatically affect numerical precision at even moderate L.\n"
     ]
    },
    {
     "name": "stdout",
     "output_type": "stream",
     "text": [
      "compute_covariance\n",
      "smoothed_covariance\n",
      "compute_covariance\n",
      "smoothed_covariance\n",
      "compute_covariance\n",
      "smoothed_covariance\n"
     ]
    },
    {
     "name": "stderr",
     "output_type": "stream",
     "text": [
      "JAX is not using 64-bit precision. This will dramatically affect numerical precision at even moderate L.\n",
      "JAX is not using 64-bit precision. This will dramatically affect numerical precision at even moderate L.\n",
      "JAX is not using 64-bit precision. This will dramatically affect numerical precision at even moderate L.\n"
     ]
    },
    {
     "name": "stdout",
     "output_type": "stream",
     "text": [
      "compute_covariance\n",
      "smoothed_covariance\n",
      "compute_covariance\n",
      "smoothed_covariance\n"
     ]
    },
    {
     "name": "stderr",
     "output_type": "stream",
     "text": [
      "JAX is not using 64-bit precision. This will dramatically affect numerical precision at even moderate L.\n",
      "JAX is not using 64-bit precision. This will dramatically affect numerical precision at even moderate L.\n",
      "JAX is not using 64-bit precision. This will dramatically affect numerical precision at even moderate L.\n",
      "JAX is not using 64-bit precision. This will dramatically affect numerical precision at even moderate L.\n",
      "JAX is not using 64-bit precision. This will dramatically affect numerical precision at even moderate L.\n",
      "JAX is not using 64-bit precision. This will dramatically affect numerical precision at even moderate L.\n",
      "JAX is not using 64-bit precision. This will dramatically affect numerical precision at even moderate L.\n",
      "JAX is not using 64-bit precision. This will dramatically affect numerical precision at even moderate L.\n"
     ]
    },
    {
     "name": "stdout",
     "output_type": "stream",
     "text": [
      "compute_covariance\n",
      "smoothed_covariance\n"
     ]
    },
    {
     "name": "stderr",
     "output_type": "stream",
     "text": [
      "JAX is not using 64-bit precision. This will dramatically affect numerical precision at even moderate L.\n",
      "JAX is not using 64-bit precision. This will dramatically affect numerical precision at even moderate L.\n",
      "JAX is not using 64-bit precision. This will dramatically affect numerical precision at even moderate L.\n",
      "JAX is not using 64-bit precision. This will dramatically affect numerical precision at even moderate L.\n",
      "JAX is not using 64-bit precision. This will dramatically affect numerical precision at even moderate L.\n",
      "JAX is not using 64-bit precision. This will dramatically affect numerical precision at even moderate L.\n",
      "JAX is not using 64-bit precision. This will dramatically affect numerical precision at even moderate L.\n",
      "JAX is not using 64-bit precision. This will dramatically affect numerical precision at even moderate L.\n",
      "JAX is not using 64-bit precision. This will dramatically affect numerical precision at even moderate L.\n"
     ]
    },
    {
     "name": "stdout",
     "output_type": "stream",
     "text": [
      "compute_covariance\n",
      "smoothed_covariance\n"
     ]
    },
    {
     "name": "stderr",
     "output_type": "stream",
     "text": [
      "JAX is not using 64-bit precision. This will dramatically affect numerical precision at even moderate L.\n",
      "JAX is not using 64-bit precision. This will dramatically affect numerical precision at even moderate L.\n",
      "JAX is not using 64-bit precision. This will dramatically affect numerical precision at even moderate L.\n",
      "JAX is not using 64-bit precision. This will dramatically affect numerical precision at even moderate L.\n",
      "JAX is not using 64-bit precision. This will dramatically affect numerical precision at even moderate L.\n"
     ]
    },
    {
     "name": "stdout",
     "output_type": "stream",
     "text": [
      "compute_covariance\n",
      "smoothed_covariance\n"
     ]
    },
    {
     "name": "stderr",
     "output_type": "stream",
     "text": [
      "JAX is not using 64-bit precision. This will dramatically affect numerical precision at even moderate L.\n",
      "JAX is not using 64-bit precision. This will dramatically affect numerical precision at even moderate L.\n",
      "JAX is not using 64-bit precision. This will dramatically affect numerical precision at even moderate L.\n",
      "JAX is not using 64-bit precision. This will dramatically affect numerical precision at even moderate L.\n"
     ]
    },
    {
     "name": "stdout",
     "output_type": "stream",
     "text": [
      "compute_covariance\n",
      "smoothed_covariance\n"
     ]
    },
    {
     "name": "stderr",
     "output_type": "stream",
     "text": [
      "JAX is not using 64-bit precision. This will dramatically affect numerical precision at even moderate L.\n",
      "JAX is not using 64-bit precision. This will dramatically affect numerical precision at even moderate L.\n",
      "JAX is not using 64-bit precision. This will dramatically affect numerical precision at even moderate L.\n",
      "JAX is not using 64-bit precision. This will dramatically affect numerical precision at even moderate L.\n",
      "JAX is not using 64-bit precision. This will dramatically affect numerical precision at even moderate L.\n",
      "JAX is not using 64-bit precision. This will dramatically affect numerical precision at even moderate L.\n",
      "JAX is not using 64-bit precision. This will dramatically affect numerical precision at even moderate L.\n"
     ]
    },
    {
     "name": "stdout",
     "output_type": "stream",
     "text": [
      "compute_covariance\n",
      "smoothed_covariance\n"
     ]
    },
    {
     "name": "stderr",
     "output_type": "stream",
     "text": [
      "JAX is not using 64-bit precision. This will dramatically affect numerical precision at even moderate L.\n",
      "JAX is not using 64-bit precision. This will dramatically affect numerical precision at even moderate L.\n",
      "JAX is not using 64-bit precision. This will dramatically affect numerical precision at even moderate L.\n"
     ]
    },
    {
     "name": "stdout",
     "output_type": "stream",
     "text": [
      "compute_covariance\n",
      "smoothed_covariance\n",
      "compute_covariance\n",
      "smoothed_covariance\n",
      "compute_covariance\n",
      "smoothed_covariance\n",
      "compute_covariance\n",
      "smoothed_covariance\n"
     ]
    },
    {
     "name": "stderr",
     "output_type": "stream",
     "text": [
      "JAX is not using 64-bit precision. This will dramatically affect numerical precision at even moderate L.\n",
      "JAX is not using 64-bit precision. This will dramatically affect numerical precision at even moderate L.\n",
      "JAX is not using 64-bit precision. This will dramatically affect numerical precision at even moderate L.\n"
     ]
    },
    {
     "name": "stdout",
     "output_type": "stream",
     "text": [
      "compute_covariance\n",
      "smoothed_covariance\n",
      "compute_covariance\n",
      "smoothed_covariance\n",
      "compute_covariance\n",
      "smoothed_covariance\n",
      "compute_covariance\n",
      "smoothed_covariance\n"
     ]
    },
    {
     "name": "stderr",
     "output_type": "stream",
     "text": [
      "JAX is not using 64-bit precision. This will dramatically affect numerical precision at even moderate L.\n",
      "JAX is not using 64-bit precision. This will dramatically affect numerical precision at even moderate L.\n",
      "JAX is not using 64-bit precision. This will dramatically affect numerical precision at even moderate L.\n",
      "JAX is not using 64-bit precision. This will dramatically affect numerical precision at even moderate L.\n",
      "JAX is not using 64-bit precision. This will dramatically affect numerical precision at even moderate L.\n",
      "JAX is not using 64-bit precision. This will dramatically affect numerical precision at even moderate L.\n",
      "JAX is not using 64-bit precision. This will dramatically affect numerical precision at even moderate L.\n",
      "JAX is not using 64-bit precision. This will dramatically affect numerical precision at even moderate L.\n"
     ]
    },
    {
     "name": "stdout",
     "output_type": "stream",
     "text": [
      "compute_covariance\n",
      "smoothed_covariance\n"
     ]
    },
    {
     "name": "stderr",
     "output_type": "stream",
     "text": [
      "JAX is not using 64-bit precision. This will dramatically affect numerical precision at even moderate L.\n",
      "JAX is not using 64-bit precision. This will dramatically affect numerical precision at even moderate L.\n",
      "JAX is not using 64-bit precision. This will dramatically affect numerical precision at even moderate L.\n",
      "JAX is not using 64-bit precision. This will dramatically affect numerical precision at even moderate L.\n",
      "JAX is not using 64-bit precision. This will dramatically affect numerical precision at even moderate L.\n",
      "JAX is not using 64-bit precision. This will dramatically affect numerical precision at even moderate L.\n",
      "JAX is not using 64-bit precision. This will dramatically affect numerical precision at even moderate L.\n",
      "JAX is not using 64-bit precision. This will dramatically affect numerical precision at even moderate L.\n",
      "JAX is not using 64-bit precision. This will dramatically affect numerical precision at even moderate L.\n",
      "JAX is not using 64-bit precision. This will dramatically affect numerical precision at even moderate L.\n",
      "JAX is not using 64-bit precision. This will dramatically affect numerical precision at even moderate L.\n",
      "JAX is not using 64-bit precision. This will dramatically affect numerical precision at even moderate L.\n",
      "JAX is not using 64-bit precision. This will dramatically affect numerical precision at even moderate L.\n",
      "JAX is not using 64-bit precision. This will dramatically affect numerical precision at even moderate L.\n",
      "JAX is not using 64-bit precision. This will dramatically affect numerical precision at even moderate L.\n",
      "JAX is not using 64-bit precision. This will dramatically affect numerical precision at even moderate L.\n",
      "JAX is not using 64-bit precision. This will dramatically affect numerical precision at even moderate L.\n",
      "JAX is not using 64-bit precision. This will dramatically affect numerical precision at even moderate L.\n",
      "JAX is not using 64-bit precision. This will dramatically affect numerical precision at even moderate L.\n"
     ]
    },
    {
     "name": "stdout",
     "output_type": "stream",
     "text": [
      "compute_covariance\n",
      "smoothed_covariance\n",
      "compute_covariance\n",
      "smoothed_covariance\n",
      "compute_covariance\n",
      "smoothed_covariance\n",
      "compute_covariance\n",
      "smoothed_covariance\n"
     ]
    },
    {
     "name": "stderr",
     "output_type": "stream",
     "text": [
      "JAX is not using 64-bit precision. This will dramatically affect numerical precision at even moderate L.\n",
      "JAX is not using 64-bit precision. This will dramatically affect numerical precision at even moderate L.\n",
      "JAX is not using 64-bit precision. This will dramatically affect numerical precision at even moderate L.\n"
     ]
    },
    {
     "name": "stdout",
     "output_type": "stream",
     "text": [
      "compute_covariance\n",
      "smoothed_covariance\n"
     ]
    },
    {
     "name": "stderr",
     "output_type": "stream",
     "text": [
      "JAX is not using 64-bit precision. This will dramatically affect numerical precision at even moderate L.\n",
      "JAX is not using 64-bit precision. This will dramatically affect numerical precision at even moderate L.\n",
      "JAX is not using 64-bit precision. This will dramatically affect numerical precision at even moderate L.\n",
      "JAX is not using 64-bit precision. This will dramatically affect numerical precision at even moderate L.\n",
      "JAX is not using 64-bit precision. This will dramatically affect numerical precision at even moderate L.\n",
      "JAX is not using 64-bit precision. This will dramatically affect numerical precision at even moderate L.\n"
     ]
    },
    {
     "name": "stdout",
     "output_type": "stream",
     "text": [
      "compute_covariance\n",
      "smoothed_covariance\n"
     ]
    },
    {
     "name": "stderr",
     "output_type": "stream",
     "text": [
      "JAX is not using 64-bit precision. This will dramatically affect numerical precision at even moderate L.\n",
      "JAX is not using 64-bit precision. This will dramatically affect numerical precision at even moderate L.\n",
      "JAX is not using 64-bit precision. This will dramatically affect numerical precision at even moderate L.\n",
      "JAX is not using 64-bit precision. This will dramatically affect numerical precision at even moderate L.\n",
      "JAX is not using 64-bit precision. This will dramatically affect numerical precision at even moderate L.\n"
     ]
    },
    {
     "name": "stdout",
     "output_type": "stream",
     "text": [
      "compute_covariance\n",
      "smoothed_covariance\n",
      "compute_covariance\n",
      "smoothed_covariance\n",
      "compute_covariance\n",
      "smoothed_covariance\n",
      "compute_covariance\n",
      "smoothed_covariance\n"
     ]
    },
    {
     "name": "stderr",
     "output_type": "stream",
     "text": [
      "JAX is not using 64-bit precision. This will dramatically affect numerical precision at even moderate L.\n",
      "JAX is not using 64-bit precision. This will dramatically affect numerical precision at even moderate L.\n"
     ]
    },
    {
     "name": "stdout",
     "output_type": "stream",
     "text": [
      "compute_covariance\n",
      "smoothed_covariance\n"
     ]
    },
    {
     "name": "stderr",
     "output_type": "stream",
     "text": [
      "JAX is not using 64-bit precision. This will dramatically affect numerical precision at even moderate L.\n",
      "JAX is not using 64-bit precision. This will dramatically affect numerical precision at even moderate L.\n",
      "JAX is not using 64-bit precision. This will dramatically affect numerical precision at even moderate L.\n",
      "JAX is not using 64-bit precision. This will dramatically affect numerical precision at even moderate L.\n",
      "JAX is not using 64-bit precision. This will dramatically affect numerical precision at even moderate L.\n",
      "JAX is not using 64-bit precision. This will dramatically affect numerical precision at even moderate L.\n"
     ]
    },
    {
     "name": "stdout",
     "output_type": "stream",
     "text": [
      "compute_covariance\n",
      "smoothed_covariance\n",
      "compute_covariance\n",
      "smoothed_covariance\n"
     ]
    },
    {
     "name": "stderr",
     "output_type": "stream",
     "text": [
      "JAX is not using 64-bit precision. This will dramatically affect numerical precision at even moderate L.\n"
     ]
    },
    {
     "name": "stdout",
     "output_type": "stream",
     "text": [
      "compute_covariance\n",
      "smoothed_covariance\n",
      "compute_covariance\n",
      "smoothed_covariance\n",
      "compute_covariancecompute_covariance\n",
      "smoothed_covariance\n",
      "\n",
      "smoothed_covariance\n",
      "compute_covariance\n",
      "smoothed_covariance\n",
      "compute_covariance\n",
      "smoothed_covariance\n"
     ]
    },
    {
     "name": "stderr",
     "output_type": "stream",
     "text": [
      "JAX is not using 64-bit precision. This will dramatically affect numerical precision at even moderate L.\n",
      "JAX is not using 64-bit precision. This will dramatically affect numerical precision at even moderate L.\n",
      "JAX is not using 64-bit precision. This will dramatically affect numerical precision at even moderate L.\n",
      "JAX is not using 64-bit precision. This will dramatically affect numerical precision at even moderate L.\n"
     ]
    },
    {
     "name": "stdout",
     "output_type": "stream",
     "text": [
      "compute_covariance\n",
      "smoothed_covariance\n",
      "compute_covariance\n",
      "smoothed_covariance\n"
     ]
    },
    {
     "name": "stderr",
     "output_type": "stream",
     "text": [
      "JAX is not using 64-bit precision. This will dramatically affect numerical precision at even moderate L.\n",
      "JAX is not using 64-bit precision. This will dramatically affect numerical precision at even moderate L.\n",
      "JAX is not using 64-bit precision. This will dramatically affect numerical precision at even moderate L.\n"
     ]
    },
    {
     "name": "stdout",
     "output_type": "stream",
     "text": [
      "compute_covariance\n",
      "smoothed_covariance\n",
      "compute_covariance\n",
      "smoothed_covariance\n",
      "compute_covariance\n",
      "smoothed_covariance\n"
     ]
    },
    {
     "name": "stderr",
     "output_type": "stream",
     "text": [
      "JAX is not using 64-bit precision. This will dramatically affect numerical precision at even moderate L.\n",
      "JAX is not using 64-bit precision. This will dramatically affect numerical precision at even moderate L.\n",
      "JAX is not using 64-bit precision. This will dramatically affect numerical precision at even moderate L.\n",
      "JAX is not using 64-bit precision. This will dramatically affect numerical precision at even moderate L.\n",
      "JAX is not using 64-bit precision. This will dramatically affect numerical precision at even moderate L.\n",
      "JAX is not using 64-bit precision. This will dramatically affect numerical precision at even moderate L.\n"
     ]
    },
    {
     "name": "stdout",
     "output_type": "stream",
     "text": [
      "compute_covariance\n",
      "smoothed_covariance\n",
      "compute_covariance\n",
      "smoothed_covariance\n"
     ]
    },
    {
     "name": "stderr",
     "output_type": "stream",
     "text": [
      "JAX is not using 64-bit precision. This will dramatically affect numerical precision at even moderate L.\n",
      "JAX is not using 64-bit precision. This will dramatically affect numerical precision at even moderate L.\n",
      "JAX is not using 64-bit precision. This will dramatically affect numerical precision at even moderate L.\n",
      "JAX is not using 64-bit precision. This will dramatically affect numerical precision at even moderate L.\n",
      "JAX is not using 64-bit precision. This will dramatically affect numerical precision at even moderate L.\n",
      "JAX is not using 64-bit precision. This will dramatically affect numerical precision at even moderate L.\n",
      "JAX is not using 64-bit precision. This will dramatically affect numerical precision at even moderate L.\n",
      "JAX is not using 64-bit precision. This will dramatically affect numerical precision at even moderate L.\n",
      "JAX is not using 64-bit precision. This will dramatically affect numerical precision at even moderate L.\n"
     ]
    },
    {
     "name": "stdout",
     "output_type": "stream",
     "text": [
      "compute_covariance\n",
      "smoothed_covariance\n"
     ]
    },
    {
     "name": "stderr",
     "output_type": "stream",
     "text": [
      "JAX is not using 64-bit precision. This will dramatically affect numerical precision at even moderate L.\n",
      "JAX is not using 64-bit precision. This will dramatically affect numerical precision at even moderate L.\n"
     ]
    },
    {
     "name": "stdout",
     "output_type": "stream",
     "text": [
      "compute_covariance\n",
      "smoothed_covariance\n",
      "compute_covariance\n",
      "smoothed_covariance\n"
     ]
    },
    {
     "name": "stderr",
     "output_type": "stream",
     "text": [
      "JAX is not using 64-bit precision. This will dramatically affect numerical precision at even moderate L.\n",
      "JAX is not using 64-bit precision. This will dramatically affect numerical precision at even moderate L.\n",
      "JAX is not using 64-bit precision. This will dramatically affect numerical precision at even moderate L.\n",
      "JAX is not using 64-bit precision. This will dramatically affect numerical precision at even moderate L.\n",
      "JAX is not using 64-bit precision. This will dramatically affect numerical precision at even moderate L.\n",
      "JAX is not using 64-bit precision. This will dramatically affect numerical precision at even moderate L.\n",
      "JAX is not using 64-bit precision. This will dramatically affect numerical precision at even moderate L.\n",
      "JAX is not using 64-bit precision. This will dramatically affect numerical precision at even moderate L.\n",
      "JAX is not using 64-bit precision. This will dramatically affect numerical precision at even moderate L.\n"
     ]
    },
    {
     "name": "stdout",
     "output_type": "stream",
     "text": [
      "compute_covariance\n",
      "smoothed_covariance\n",
      "compute_covariance\n",
      "smoothed_covariance\n",
      "compute_covariance\n",
      "smoothed_covariance\n",
      "compute_covariance\n",
      "smoothed_covariance\n",
      "compute_covariance\n",
      "smoothed_covariance\n"
     ]
    },
    {
     "name": "stderr",
     "output_type": "stream",
     "text": [
      "JAX is not using 64-bit precision. This will dramatically affect numerical precision at even moderate L.\n",
      "JAX is not using 64-bit precision. This will dramatically affect numerical precision at even moderate L.\n",
      "JAX is not using 64-bit precision. This will dramatically affect numerical precision at even moderate L.\n",
      "JAX is not using 64-bit precision. This will dramatically affect numerical precision at even moderate L.\n",
      "JAX is not using 64-bit precision. This will dramatically affect numerical precision at even moderate L.\n",
      "JAX is not using 64-bit precision. This will dramatically affect numerical precision at even moderate L.\n",
      "JAX is not using 64-bit precision. This will dramatically affect numerical precision at even moderate L.\n",
      "JAX is not using 64-bit precision. This will dramatically affect numerical precision at even moderate L.\n",
      "JAX is not using 64-bit precision. This will dramatically affect numerical precision at even moderate L.\n",
      "JAX is not using 64-bit precision. This will dramatically affect numerical precision at even moderate L.\n",
      "JAX is not using 64-bit precision. This will dramatically affect numerical precision at even moderate L.\n",
      "JAX is not using 64-bit precision. This will dramatically affect numerical precision at even moderate L.\n",
      "JAX is not using 64-bit precision. This will dramatically affect numerical precision at even moderate L.\n"
     ]
    },
    {
     "name": "stdout",
     "output_type": "stream",
     "text": [
      "compute_covariance\n",
      "smoothed_covariance\n",
      "compute_covariance\n",
      "smoothed_covariance\n",
      "compute_covariance\n",
      "smoothed_covariance\n"
     ]
    },
    {
     "name": "stderr",
     "output_type": "stream",
     "text": [
      "JAX is not using 64-bit precision. This will dramatically affect numerical precision at even moderate L.\n",
      "JAX is not using 64-bit precision. This will dramatically affect numerical precision at even moderate L.\n",
      "JAX is not using 64-bit precision. This will dramatically affect numerical precision at even moderate L.\n",
      "JAX is not using 64-bit precision. This will dramatically affect numerical precision at even moderate L.\n",
      "JAX is not using 64-bit precision. This will dramatically affect numerical precision at even moderate L.\n",
      "JAX is not using 64-bit precision. This will dramatically affect numerical precision at even moderate L.\n",
      "JAX is not using 64-bit precision. This will dramatically affect numerical precision at even moderate L.\n",
      "JAX is not using 64-bit precision. This will dramatically affect numerical precision at even moderate L.\n",
      "JAX is not using 64-bit precision. This will dramatically affect numerical precision at even moderate L.\n",
      "JAX is not using 64-bit precision. This will dramatically affect numerical precision at even moderate L.\n",
      "JAX is not using 64-bit precision. This will dramatically affect numerical precision at even moderate L.\n",
      "JAX is not using 64-bit precision. This will dramatically affect numerical precision at even moderate L.\n"
     ]
    },
    {
     "name": "stdout",
     "output_type": "stream",
     "text": [
      "compute_covariance\n",
      "smoothed_covariance\n",
      "compute_covariance\n",
      "smoothed_covariance\n",
      "compute_covariance\n",
      "smoothed_covariance\n"
     ]
    },
    {
     "name": "stderr",
     "output_type": "stream",
     "text": [
      "JAX is not using 64-bit precision. This will dramatically affect numerical precision at even moderate L.\n",
      "JAX is not using 64-bit precision. This will dramatically affect numerical precision at even moderate L.\n",
      "JAX is not using 64-bit precision. This will dramatically affect numerical precision at even moderate L.\n",
      "JAX is not using 64-bit precision. This will dramatically affect numerical precision at even moderate L.\n",
      "JAX is not using 64-bit precision. This will dramatically affect numerical precision at even moderate L.\n",
      "JAX is not using 64-bit precision. This will dramatically affect numerical precision at even moderate L.\n",
      "JAX is not using 64-bit precision. This will dramatically affect numerical precision at even moderate L.\n",
      "JAX is not using 64-bit precision. This will dramatically affect numerical precision at even moderate L.\n",
      "JAX is not using 64-bit precision. This will dramatically affect numerical precision at even moderate L.\n",
      "JAX is not using 64-bit precision. This will dramatically affect numerical precision at even moderate L.\n",
      "JAX is not using 64-bit precision. This will dramatically affect numerical precision at even moderate L.\n",
      "JAX is not using 64-bit precision. This will dramatically affect numerical precision at even moderate L.\n",
      "JAX is not using 64-bit precision. This will dramatically affect numerical precision at even moderate L.\n"
     ]
    },
    {
     "name": "stdout",
     "output_type": "stream",
     "text": [
      "compute_covariance\n",
      "smoothed_covariance\n"
     ]
    },
    {
     "name": "stderr",
     "output_type": "stream",
     "text": [
      "JAX is not using 64-bit precision. This will dramatically affect numerical precision at even moderate L.\n",
      "JAX is not using 64-bit precision. This will dramatically affect numerical precision at even moderate L.\n",
      "JAX is not using 64-bit precision. This will dramatically affect numerical precision at even moderate L.\n",
      "JAX is not using 64-bit precision. This will dramatically affect numerical precision at even moderate L.\n",
      "JAX is not using 64-bit precision. This will dramatically affect numerical precision at even moderate L.\n",
      "JAX is not using 64-bit precision. This will dramatically affect numerical precision at even moderate L.\n",
      "JAX is not using 64-bit precision. This will dramatically affect numerical precision at even moderate L.\n",
      "JAX is not using 64-bit precision. This will dramatically affect numerical precision at even moderate L.\n",
      "JAX is not using 64-bit precision. This will dramatically affect numerical precision at even moderate L.\n",
      "JAX is not using 64-bit precision. This will dramatically affect numerical precision at even moderate L.\n",
      "JAX is not using 64-bit precision. This will dramatically affect numerical precision at even moderate L.\n",
      "JAX is not using 64-bit precision. This will dramatically affect numerical precision at even moderate L.\n",
      "JAX is not using 64-bit precision. This will dramatically affect numerical precision at even moderate L.\n",
      "JAX is not using 64-bit precision. This will dramatically affect numerical precision at even moderate L.\n",
      "JAX is not using 64-bit precision. This will dramatically affect numerical precision at even moderate L.\n",
      "JAX is not using 64-bit precision. This will dramatically affect numerical precision at even moderate L.\n",
      "JAX is not using 64-bit precision. This will dramatically affect numerical precision at even moderate L.\n",
      "JAX is not using 64-bit precision. This will dramatically affect numerical precision at even moderate L.\n",
      "JAX is not using 64-bit precision. This will dramatically affect numerical precision at even moderate L.\n",
      "JAX is not using 64-bit precision. This will dramatically affect numerical precision at even moderate L.\n",
      "JAX is not using 64-bit precision. This will dramatically affect numerical precision at even moderate L.\n",
      "JAX is not using 64-bit precision. This will dramatically affect numerical precision at even moderate L.\n",
      "JAX is not using 64-bit precision. This will dramatically affect numerical precision at even moderate L.\n"
     ]
    },
    {
     "name": "stdout",
     "output_type": "stream",
     "text": [
      "compute_covariance\n",
      "smoothed_covariance\n"
     ]
    },
    {
     "name": "stderr",
     "output_type": "stream",
     "text": [
      "JAX is not using 64-bit precision. This will dramatically affect numerical precision at even moderate L.\n",
      "JAX is not using 64-bit precision. This will dramatically affect numerical precision at even moderate L.\n",
      "JAX is not using 64-bit precision. This will dramatically affect numerical precision at even moderate L.\n",
      "JAX is not using 64-bit precision. This will dramatically affect numerical precision at even moderate L.\n",
      "JAX is not using 64-bit precision. This will dramatically affect numerical precision at even moderate L.\n",
      "JAX is not using 64-bit precision. This will dramatically affect numerical precision at even moderate L.\n",
      "JAX is not using 64-bit precision. This will dramatically affect numerical precision at even moderate L.\n"
     ]
    },
    {
     "name": "stdout",
     "output_type": "stream",
     "text": [
      "compute_covariance\n",
      "smoothed_covariance\n",
      "compute_covariance\n",
      "smoothed_covariance\n",
      "compute_covariance\n",
      "smoothed_covariance\n",
      "compute_covariance\n",
      "smoothed_covariance\n"
     ]
    },
    {
     "name": "stderr",
     "output_type": "stream",
     "text": [
      "JAX is not using 64-bit precision. This will dramatically affect numerical precision at even moderate L.\n",
      "JAX is not using 64-bit precision. This will dramatically affect numerical precision at even moderate L.\n",
      "JAX is not using 64-bit precision. This will dramatically affect numerical precision at even moderate L.\n",
      "JAX is not using 64-bit precision. This will dramatically affect numerical precision at even moderate L.\n",
      "JAX is not using 64-bit precision. This will dramatically affect numerical precision at even moderate L.\n",
      "JAX is not using 64-bit precision. This will dramatically affect numerical precision at even moderate L.\n",
      "JAX is not using 64-bit precision. This will dramatically affect numerical precision at even moderate L.\n",
      "JAX is not using 64-bit precision. This will dramatically affect numerical precision at even moderate L.\n",
      "JAX is not using 64-bit precision. This will dramatically affect numerical precision at even moderate L.\n",
      "JAX is not using 64-bit precision. This will dramatically affect numerical precision at even moderate L.\n"
     ]
    },
    {
     "name": "stdout",
     "output_type": "stream",
     "text": [
      "compute_covariance\n",
      "smoothed_covariance\n",
      "compute_covariance\n",
      "smoothed_covariance\n",
      "compute_covariance\n",
      "smoothed_covariance\n"
     ]
    },
    {
     "name": "stderr",
     "output_type": "stream",
     "text": [
      "JAX is not using 64-bit precision. This will dramatically affect numerical precision at even moderate L.\n",
      "JAX is not using 64-bit precision. This will dramatically affect numerical precision at even moderate L.\n",
      "JAX is not using 64-bit precision. This will dramatically affect numerical precision at even moderate L.\n",
      "JAX is not using 64-bit precision. This will dramatically affect numerical precision at even moderate L.\n",
      "JAX is not using 64-bit precision. This will dramatically affect numerical precision at even moderate L.\n",
      "JAX is not using 64-bit precision. This will dramatically affect numerical precision at even moderate L.\n",
      "JAX is not using 64-bit precision. This will dramatically affect numerical precision at even moderate L.\n",
      "JAX is not using 64-bit precision. This will dramatically affect numerical precision at even moderate L.\n",
      "JAX is not using 64-bit precision. This will dramatically affect numerical precision at even moderate L.\n",
      "JAX is not using 64-bit precision. This will dramatically affect numerical precision at even moderate L.\n"
     ]
    },
    {
     "name": "stdout",
     "output_type": "stream",
     "text": [
      "compute_covariance\n",
      "smoothed_covariance\n",
      "compute_covariance\n",
      "smoothed_covariance\n",
      "compute_covariance\n",
      "smoothed_covariance\n",
      "compute_covariance\n",
      "smoothed_covariance\n",
      "compute_covariance\n",
      "smoothed_covariance\n",
      "compute_covariance\n",
      "smoothed_covariance\n"
     ]
    },
    {
     "name": "stderr",
     "output_type": "stream",
     "text": [
      "JAX is not using 64-bit precision. This will dramatically affect numerical precision at even moderate L.\n",
      "JAX is not using 64-bit precision. This will dramatically affect numerical precision at even moderate L.\n"
     ]
    },
    {
     "name": "stdout",
     "output_type": "stream",
     "text": [
      "compute_covariance\n",
      "smoothed_covariance\n",
      "compute_covariance\n",
      "smoothed_covariance\n"
     ]
    },
    {
     "name": "stderr",
     "output_type": "stream",
     "text": [
      "JAX is not using 64-bit precision. This will dramatically affect numerical precision at even moderate L.\n",
      "JAX is not using 64-bit precision. This will dramatically affect numerical precision at even moderate L.\n",
      "JAX is not using 64-bit precision. This will dramatically affect numerical precision at even moderate L.\n",
      "JAX is not using 64-bit precision. This will dramatically affect numerical precision at even moderate L.\n",
      "JAX is not using 64-bit precision. This will dramatically affect numerical precision at even moderate L.\n",
      "JAX is not using 64-bit precision. This will dramatically affect numerical precision at even moderate L.\n",
      "JAX is not using 64-bit precision. This will dramatically affect numerical precision at even moderate L.\n"
     ]
    },
    {
     "name": "stdout",
     "output_type": "stream",
     "text": [
      "compute_covariance\n",
      "smoothed_covariance\n",
      "compute_covariance\n",
      "smoothed_covariance\n",
      "compute_covariance\n",
      "smoothed_covariance\n",
      "compute_covariance\n",
      "smoothed_covariance\n",
      "compute_covariance\n",
      "smoothed_covariance\n",
      "compute_covariance\n",
      "smoothed_covariance\n"
     ]
    },
    {
     "name": "stderr",
     "output_type": "stream",
     "text": [
      "JAX is not using 64-bit precision. This will dramatically affect numerical precision at even moderate L.\n",
      "JAX is not using 64-bit precision. This will dramatically affect numerical precision at even moderate L.\n",
      "JAX is not using 64-bit precision. This will dramatically affect numerical precision at even moderate L.\n",
      "JAX is not using 64-bit precision. This will dramatically affect numerical precision at even moderate L.\n",
      "JAX is not using 64-bit precision. This will dramatically affect numerical precision at even moderate L.\n",
      "JAX is not using 64-bit precision. This will dramatically affect numerical precision at even moderate L.\n"
     ]
    },
    {
     "name": "stdout",
     "output_type": "stream",
     "text": [
      "compute_covariance\n",
      "smoothed_covariance\n",
      "compute_covariance\n",
      "smoothed_covariance\n"
     ]
    },
    {
     "name": "stderr",
     "output_type": "stream",
     "text": [
      "JAX is not using 64-bit precision. This will dramatically affect numerical precision at even moderate L.\n",
      "JAX is not using 64-bit precision. This will dramatically affect numerical precision at even moderate L.\n",
      "JAX is not using 64-bit precision. This will dramatically affect numerical precision at even moderate L.\n"
     ]
    },
    {
     "name": "stdout",
     "output_type": "stream",
     "text": [
      "compute_covariance\n",
      "smoothed_covariance\n",
      "compute_covariance\n",
      "smoothed_covariance\n"
     ]
    },
    {
     "name": "stderr",
     "output_type": "stream",
     "text": [
      "JAX is not using 64-bit precision. This will dramatically affect numerical precision at even moderate L.\n",
      "JAX is not using 64-bit precision. This will dramatically affect numerical precision at even moderate L.\n",
      "JAX is not using 64-bit precision. This will dramatically affect numerical precision at even moderate L.\n"
     ]
    },
    {
     "name": "stdout",
     "output_type": "stream",
     "text": [
      "compute_covariance\n",
      "smoothed_covariance\n",
      "compute_covariance\n",
      "smoothed_covariance\n"
     ]
    },
    {
     "name": "stderr",
     "output_type": "stream",
     "text": [
      "JAX is not using 64-bit precision. This will dramatically affect numerical precision at even moderate L.\n",
      "JAX is not using 64-bit precision. This will dramatically affect numerical precision at even moderate L.\n",
      "JAX is not using 64-bit precision. This will dramatically affect numerical precision at even moderate L.\n",
      "JAX is not using 64-bit precision. This will dramatically affect numerical precision at even moderate L.\n",
      "JAX is not using 64-bit precision. This will dramatically affect numerical precision at even moderate L.\n"
     ]
    },
    {
     "name": "stdout",
     "output_type": "stream",
     "text": [
      "compute_covariance\n",
      "smoothed_covariance\n",
      "compute_covariance\n",
      "smoothed_covariance\n",
      "compute_covariance\n",
      "smoothed_covariance\n"
     ]
    },
    {
     "name": "stderr",
     "output_type": "stream",
     "text": [
      "JAX is not using 64-bit precision. This will dramatically affect numerical precision at even moderate L.\n",
      "JAX is not using 64-bit precision. This will dramatically affect numerical precision at even moderate L.\n",
      "JAX is not using 64-bit precision. This will dramatically affect numerical precision at even moderate L.\n",
      "JAX is not using 64-bit precision. This will dramatically affect numerical precision at even moderate L.\n",
      "JAX is not using 64-bit precision. This will dramatically affect numerical precision at even moderate L.\n",
      "JAX is not using 64-bit precision. This will dramatically affect numerical precision at even moderate L.\n"
     ]
    },
    {
     "name": "stdout",
     "output_type": "stream",
     "text": [
      "compute_covariance\n",
      "smoothed_covariance\n",
      "compute_covariance\n",
      "smoothed_covariance\n",
      "compute_covariance\n",
      "smoothed_covariance\n",
      "compute_covariance\n",
      "smoothed_covariance\n"
     ]
    },
    {
     "name": "stderr",
     "output_type": "stream",
     "text": [
      "JAX is not using 64-bit precision. This will dramatically affect numerical precision at even moderate L.\n",
      "JAX is not using 64-bit precision. This will dramatically affect numerical precision at even moderate L.\n",
      "JAX is not using 64-bit precision. This will dramatically affect numerical precision at even moderate L.\n",
      "JAX is not using 64-bit precision. This will dramatically affect numerical precision at even moderate L.\n",
      "JAX is not using 64-bit precision. This will dramatically affect numerical precision at even moderate L.\n",
      "JAX is not using 64-bit precision. This will dramatically affect numerical precision at even moderate L.\n"
     ]
    },
    {
     "name": "stdout",
     "output_type": "stream",
     "text": [
      "compute_covariance\n",
      "smoothed_covariance\n",
      "compute_covariance\n",
      "smoothed_covariance\n"
     ]
    },
    {
     "name": "stderr",
     "output_type": "stream",
     "text": [
      "JAX is not using 64-bit precision. This will dramatically affect numerical precision at even moderate L.\n",
      "JAX is not using 64-bit precision. This will dramatically affect numerical precision at even moderate L.\n"
     ]
    },
    {
     "name": "stdout",
     "output_type": "stream",
     "text": [
      "compute_covariance\n",
      "smoothed_covariance\n",
      "compute_covariance\n",
      "smoothed_covariance\n",
      "compute_covariance\n",
      "smoothed_covariance\n",
      "compute_covariance\n",
      "smoothed_covariance\n"
     ]
    },
    {
     "name": "stderr",
     "output_type": "stream",
     "text": [
      "JAX is not using 64-bit precision. This will dramatically affect numerical precision at even moderate L.\n",
      "JAX is not using 64-bit precision. This will dramatically affect numerical precision at even moderate L.\n",
      "JAX is not using 64-bit precision. This will dramatically affect numerical precision at even moderate L.\n",
      "JAX is not using 64-bit precision. This will dramatically affect numerical precision at even moderate L.\n",
      "JAX is not using 64-bit precision. This will dramatically affect numerical precision at even moderate L.\n",
      "JAX is not using 64-bit precision. This will dramatically affect numerical precision at even moderate L.\n",
      "JAX is not using 64-bit precision. This will dramatically affect numerical precision at even moderate L.\n",
      "JAX is not using 64-bit precision. This will dramatically affect numerical precision at even moderate L.\n",
      "JAX is not using 64-bit precision. This will dramatically affect numerical precision at even moderate L.\n",
      "JAX is not using 64-bit precision. This will dramatically affect numerical precision at even moderate L.\n",
      "JAX is not using 64-bit precision. This will dramatically affect numerical precision at even moderate L.\n"
     ]
    },
    {
     "name": "stdout",
     "output_type": "stream",
     "text": [
      "compute_covariance\n",
      "smoothed_covariance\n",
      "compute_covariance\n",
      "smoothed_covariance\n",
      "compute_covariance\n",
      "smoothed_covariance\n"
     ]
    },
    {
     "name": "stderr",
     "output_type": "stream",
     "text": [
      "JAX is not using 64-bit precision. This will dramatically affect numerical precision at even moderate L.\n",
      "JAX is not using 64-bit precision. This will dramatically affect numerical precision at even moderate L.\n",
      "JAX is not using 64-bit precision. This will dramatically affect numerical precision at even moderate L.\n"
     ]
    },
    {
     "name": "stdout",
     "output_type": "stream",
     "text": [
      "compute_covariance\n",
      "smoothed_covariance\n",
      "compute_covariance\n",
      "smoothed_covariance\n"
     ]
    },
    {
     "name": "stderr",
     "output_type": "stream",
     "text": [
      "JAX is not using 64-bit precision. This will dramatically affect numerical precision at even moderate L.\n",
      "JAX is not using 64-bit precision. This will dramatically affect numerical precision at even moderate L.\n",
      "JAX is not using 64-bit precision. This will dramatically affect numerical precision at even moderate L.\n",
      "JAX is not using 64-bit precision. This will dramatically affect numerical precision at even moderate L.\n",
      "JAX is not using 64-bit precision. This will dramatically affect numerical precision at even moderate L.\n",
      "JAX is not using 64-bit precision. This will dramatically affect numerical precision at even moderate L.\n",
      "JAX is not using 64-bit precision. This will dramatically affect numerical precision at even moderate L.\n",
      "JAX is not using 64-bit precision. This will dramatically affect numerical precision at even moderate L.\n",
      "JAX is not using 64-bit precision. This will dramatically affect numerical precision at even moderate L.\n"
     ]
    },
    {
     "name": "stdout",
     "output_type": "stream",
     "text": [
      "compute_covariance\n",
      "smoothed_covariance\n",
      "compute_covariance\n",
      "smoothed_covariance\n",
      "compute_covariance\n",
      "smoothed_covariance\n"
     ]
    },
    {
     "name": "stderr",
     "output_type": "stream",
     "text": [
      "JAX is not using 64-bit precision. This will dramatically affect numerical precision at even moderate L.\n",
      "JAX is not using 64-bit precision. This will dramatically affect numerical precision at even moderate L.\n"
     ]
    },
    {
     "name": "stdout",
     "output_type": "stream",
     "text": [
      "compute_covariance\n",
      "smoothed_covariance\n",
      "compute_covariance\n",
      "smoothed_covariance\n",
      "compute_covariance\n",
      "smoothed_covariance\n",
      "compute_covariance\n",
      "smoothed_covariance\n",
      "compute_covariance\n",
      "smoothed_covariance\n"
     ]
    },
    {
     "name": "stderr",
     "output_type": "stream",
     "text": [
      "JAX is not using 64-bit precision. This will dramatically affect numerical precision at even moderate L.\n",
      "JAX is not using 64-bit precision. This will dramatically affect numerical precision at even moderate L.\n",
      "JAX is not using 64-bit precision. This will dramatically affect numerical precision at even moderate L.\n",
      "JAX is not using 64-bit precision. This will dramatically affect numerical precision at even moderate L.\n",
      "JAX is not using 64-bit precision. This will dramatically affect numerical precision at even moderate L.\n"
     ]
    },
    {
     "name": "stdout",
     "output_type": "stream",
     "text": [
      "compute_covariance\n",
      "smoothed_covariance\n",
      "compute_covariance\n",
      "smoothed_covariance\n",
      "compute_covariance\n",
      "smoothed_covariance\n"
     ]
    },
    {
     "name": "stderr",
     "output_type": "stream",
     "text": [
      "JAX is not using 64-bit precision. This will dramatically affect numerical precision at even moderate L.\n",
      "JAX is not using 64-bit precision. This will dramatically affect numerical precision at even moderate L.\n",
      "JAX is not using 64-bit precision. This will dramatically affect numerical precision at even moderate L.\n"
     ]
    },
    {
     "name": "stdout",
     "output_type": "stream",
     "text": [
      "compute_covariance\n",
      "smoothed_covariance\n",
      "compute_covariance\n",
      "smoothed_covariance\n",
      "compute_covariance\n",
      "smoothed_covariance\n",
      "compute_covariance\n",
      "smoothed_covariance\n"
     ]
    },
    {
     "name": "stderr",
     "output_type": "stream",
     "text": [
      "JAX is not using 64-bit precision. This will dramatically affect numerical precision at even moderate L.\n",
      "JAX is not using 64-bit precision. This will dramatically affect numerical precision at even moderate L.\n",
      "JAX is not using 64-bit precision. This will dramatically affect numerical precision at even moderate L.\n"
     ]
    },
    {
     "name": "stdout",
     "output_type": "stream",
     "text": [
      "compute_covariance\n",
      "smoothed_covariance\n",
      "compute_covariance\n",
      "smoothed_covariance\n",
      "compute_covariance\n",
      "smoothed_covariance\n",
      "compute_covariance\n",
      "smoothed_covariance\n",
      "compute_covariance\n",
      "smoothed_covariance\n"
     ]
    },
    {
     "name": "stderr",
     "output_type": "stream",
     "text": [
      "JAX is not using 64-bit precision. This will dramatically affect numerical precision at even moderate L.\n"
     ]
    },
    {
     "name": "stdout",
     "output_type": "stream",
     "text": [
      "compute_covariance\n",
      "smoothed_covariance\n"
     ]
    },
    {
     "name": "stderr",
     "output_type": "stream",
     "text": [
      "JAX is not using 64-bit precision. This will dramatically affect numerical precision at even moderate L.\n",
      "JAX is not using 64-bit precision. This will dramatically affect numerical precision at even moderate L.\n",
      "JAX is not using 64-bit precision. This will dramatically affect numerical precision at even moderate L.\n"
     ]
    },
    {
     "name": "stdout",
     "output_type": "stream",
     "text": [
      "compute_covariance\n",
      "smoothed_covariance\n",
      "compute_covariance\n",
      "smoothed_covariance\n",
      "compute_covariance\n",
      "smoothed_covariance\n",
      "compute_covariance\n",
      "smoothed_covariance\n",
      "compute_covariance\n",
      "smoothed_covariance\n"
     ]
    },
    {
     "name": "stderr",
     "output_type": "stream",
     "text": [
      "JAX is not using 64-bit precision. This will dramatically affect numerical precision at even moderate L.\n",
      "JAX is not using 64-bit precision. This will dramatically affect numerical precision at even moderate L.\n"
     ]
    },
    {
     "name": "stdout",
     "output_type": "stream",
     "text": [
      "compute_covariance\n",
      "smoothed_covariance\n",
      "compute_covariance\n",
      "smoothed_covariance\n",
      "compute_covariance\n",
      "smoothed_covariance\n",
      "compute_covariance\n",
      "smoothed_covariance\n",
      "compute_covariance\n",
      "smoothed_covariance\n",
      "compute_covariance\n",
      "smoothed_covariance\n",
      "compute_covariance\n",
      "smoothed_covariance\n"
     ]
    },
    {
     "name": "stderr",
     "output_type": "stream",
     "text": [
      "JAX is not using 64-bit precision. This will dramatically affect numerical precision at even moderate L.\n",
      "JAX is not using 64-bit precision. This will dramatically affect numerical precision at even moderate L.\n"
     ]
    },
    {
     "name": "stdout",
     "output_type": "stream",
     "text": [
      "compute_covariance\n",
      "smoothed_covariance\n",
      "compute_covariance\n",
      "smoothed_covariance\n",
      "compute_covariance\n",
      "smoothed_covariance\n"
     ]
    },
    {
     "name": "stderr",
     "output_type": "stream",
     "text": [
      "JAX is not using 64-bit precision. This will dramatically affect numerical precision at even moderate L.\n",
      "JAX is not using 64-bit precision. This will dramatically affect numerical precision at even moderate L.\n",
      "JAX is not using 64-bit precision. This will dramatically affect numerical precision at even moderate L.\n",
      "JAX is not using 64-bit precision. This will dramatically affect numerical precision at even moderate L.\n"
     ]
    },
    {
     "name": "stdout",
     "output_type": "stream",
     "text": [
      "compute_covariance\n",
      "smoothed_covariance\n",
      "compute_covariance\n",
      "smoothed_covariance\n",
      "compute_covariance\n",
      "smoothed_covariance\n",
      "compute_covariance\n",
      "smoothed_covariance\n",
      "compute_covariance\n",
      "smoothed_covariance\n",
      "compute_covariancecompute_covariance\n",
      "smoothed_covariance\n",
      "\n",
      "smoothed_covariance\n",
      "compute_covariance\n",
      "smoothed_covariance\n",
      "compute_covariance\n",
      "smoothed_covariance\n"
     ]
    },
    {
     "name": "stderr",
     "output_type": "stream",
     "text": [
      "JAX is not using 64-bit precision. This will dramatically affect numerical precision at even moderate L.\n",
      "JAX is not using 64-bit precision. This will dramatically affect numerical precision at even moderate L.\n"
     ]
    },
    {
     "name": "stdout",
     "output_type": "stream",
     "text": [
      "compute_covariance\n",
      "smoothed_covariance\n",
      "compute_covariance\n",
      "smoothed_covariance\n",
      "compute_covariance\n",
      "smoothed_covariance\n",
      "compute_covariance\n",
      "smoothed_covariance\n",
      "compute_covariance\n",
      "smoothed_covariance\n",
      "compute_covariance\n",
      "smoothed_covariance\n",
      "compute_covariance\n",
      "smoothed_covariance\n",
      "compute_covariance\n",
      "smoothed_covariance\n"
     ]
    },
    {
     "name": "stderr",
     "output_type": "stream",
     "text": [
      "JAX is not using 64-bit precision. This will dramatically affect numerical precision at even moderate L.\n",
      "JAX is not using 64-bit precision. This will dramatically affect numerical precision at even moderate L.\n"
     ]
    },
    {
     "name": "stdout",
     "output_type": "stream",
     "text": [
      "compute_covariance\n",
      "smoothed_covariance\n",
      "compute_covariance\n",
      "smoothed_covariance\n",
      "compute_covariance\n",
      "smoothed_covariance\n",
      "compute_covariance\n",
      "smoothed_covariance\n",
      "compute_covariance\n",
      "smoothed_covariance\n",
      "compute_covariance\n",
      "smoothed_covariance\n",
      "compute_covariance\n",
      "smoothed_covariance\n",
      "compute_covariance\n",
      "smoothed_covariance\n",
      "compute_covariance\n",
      "smoothed_covariance\n",
      "compute_covariance\n",
      "smoothed_covariance\n",
      "compute_covariance\n",
      "smoothed_covariance\n",
      "compute_covariance\n",
      "smoothed_covariance\n",
      "compute_covariance\n",
      "smoothed_covariance\n",
      "compute_covariance\n",
      "smoothed_covariance\n",
      "compute_covariance\n",
      "smoothed_covariance\n",
      "compute_covariance\n",
      "smoothed_covariance\n",
      "compute_covariance\n",
      "smoothed_covariance\n",
      "compute_covariance\n",
      "smoothed_covariance\n",
      "compute_covariance\n",
      "smoothed_covariance\n",
      "compute_covariance\n",
      "smoothed_covariance\n",
      "compute_covariance\n",
      "smoothed_covariance\n",
      "compute_covariance\n",
      "smoothed_covariance\n",
      "compute_covariance\n",
      "smoothed_covariance\n",
      "compute_covariance\n",
      "smoothed_covariance\n",
      "compute_covariance\n",
      "smoothed_covariance\n",
      "compute_covariance\n",
      "smoothed_covariance\n",
      "compute_covariance\n",
      "smoothed_covariance\n"
     ]
    },
    {
     "name": "stderr",
     "output_type": "stream",
     "text": [
      "JAX is not using 64-bit precision. This will dramatically affect numerical precision at even moderate L.\n",
      "JAX is not using 64-bit precision. This will dramatically affect numerical precision at even moderate L.\n"
     ]
    },
    {
     "name": "stdout",
     "output_type": "stream",
     "text": [
      "compute_covariance\n",
      "smoothed_covariance\n",
      "compute_covariance\n",
      "smoothed_covariance\n",
      "compute_covariance\n",
      "smoothed_covariance\n",
      "compute_covariance\n",
      "smoothed_covariance\n",
      "compute_covariance\n",
      "smoothed_covariance\n",
      "compute_covariance\n",
      "smoothed_covariance\n",
      "compute_covariance\n",
      "smoothed_covariance\n",
      "compute_covariance\n",
      "smoothed_covariance\n",
      "compute_covariance\n",
      "smoothed_covariance\n",
      "compute_covariance\n",
      "smoothed_covariance\n",
      "compute_covariance\n",
      "smoothed_covariance\n",
      "compute_covariance\n",
      "smoothed_covariance\n",
      "compute_covariance\n",
      "smoothed_covariance\n",
      "compute_covariance\n",
      "smoothed_covariance\n",
      "compute_covariance\n",
      "smoothed_covariance\n",
      "compute_covariance\n",
      "smoothed_covariance\n",
      "compute_covariance\n",
      "smoothed_covariance\n",
      "compute_covariance\n",
      "smoothed_covariance\n",
      "compute_covariance\n",
      "smoothed_covariance\n",
      "compute_covariance\n",
      "smoothed_covariance\n",
      "compute_covariance\n",
      "smoothed_covariance\n",
      "compute_covariance\n",
      "smoothed_covariance\n",
      "compute_covariance\n",
      "smoothed_covariance\n",
      "compute_covariance\n",
      "smoothed_covariance\n",
      "compute_covariance\n",
      "smoothed_covariance\n",
      "compute_covariance\n",
      "smoothed_covariance\n",
      "compute_covariance\n",
      "smoothed_covariance\n",
      "compute_covariance\n",
      "smoothed_covariance\n",
      "compute_covariance\n",
      "smoothed_covariance\n",
      "compute_covariance\n",
      "smoothed_covariance\n",
      "compute_covariancecompute_covariance\n",
      "smoothed_covariance\n",
      "\n",
      "smoothed_covariance\n",
      "compute_covariance\n",
      "smoothed_covariance\n"
     ]
    },
    {
     "name": "stderr",
     "output_type": "stream",
     "text": [
      "JAX is not using 64-bit precision. This will dramatically affect numerical precision at even moderate L.\n",
      "JAX is not using 64-bit precision. This will dramatically affect numerical precision at even moderate L.\n"
     ]
    },
    {
     "name": "stdout",
     "output_type": "stream",
     "text": [
      "compute_covariance\n",
      "smoothed_covariance\n",
      "compute_covariance\n",
      "smoothed_covariance\n",
      "compute_covariance\n",
      "smoothed_covariance\n",
      "compute_covariance\n",
      "smoothed_covariance\n",
      "compute_covariance\n",
      "smoothed_covariance\n",
      "compute_covariance\n",
      "smoothed_covariance\n",
      "compute_covariance\n",
      "smoothed_covariance\n",
      "compute_covariance\n",
      "smoothed_covariance\n",
      "compute_covariance\n",
      "smoothed_covariance\n",
      "compute_covariance\n",
      "smoothed_covariance\n",
      "compute_covariance\n",
      "smoothed_covariance\n"
     ]
    },
    {
     "name": "stderr",
     "output_type": "stream",
     "text": [
      "JAX is not using 64-bit precision. This will dramatically affect numerical precision at even moderate L.\n"
     ]
    },
    {
     "name": "stdout",
     "output_type": "stream",
     "text": [
      "compute_covariance\n",
      "smoothed_covariance\n",
      "compute_covariance\n",
      "smoothed_covariance\n",
      "compute_covariance\n",
      "smoothed_covariance\n",
      "compute_covariance\n",
      "smoothed_covariance\n",
      "compute_covariance\n",
      "smoothed_covariance\n",
      "compute_covariance\n",
      "smoothed_covariance\n",
      "compute_covariance\n",
      "smoothed_covariance\n",
      "compute_covariance\n",
      "smoothed_covariance\n",
      "compute_covariance\n",
      "smoothed_covariance\n",
      "compute_covariance\n",
      "smoothed_covariance\n",
      "compute_covariance\n",
      "smoothed_covariance\n",
      "compute_covariance\n",
      "smoothed_covariance\n",
      "compute_covariance\n",
      "smoothed_covariance\n",
      "compute_covariance\n",
      "smoothed_covariance\n",
      "compute_covariance\n",
      "smoothed_covariance\n",
      "compute_covariance\n",
      "smoothed_covariance\n",
      "compute_covariance\n",
      "smoothed_covariance\n",
      "compute_covariance\n",
      "smoothed_covariance\n",
      "compute_covariance\n",
      "smoothed_covariance\n",
      "compute_covariance\n",
      "smoothed_covariance\n",
      "compute_covariancecompute_covariance\n",
      "smoothed_covariance\n",
      "\n",
      "smoothed_covariance\n",
      "compute_covariance\n",
      "smoothed_covariance\n",
      "compute_covariance\n",
      "smoothed_covariance\n",
      "compute_covariance\n",
      "smoothed_covariance\n"
     ]
    },
    {
     "name": "stderr",
     "output_type": "stream",
     "text": [
      "JAX is not using 64-bit precision. This will dramatically affect numerical precision at even moderate L.\n"
     ]
    },
    {
     "name": "stdout",
     "output_type": "stream",
     "text": [
      "compute_covariance\n",
      "smoothed_covariance\n",
      "compute_covariance\n",
      "smoothed_covariance\n",
      "compute_covariance\n",
      "smoothed_covariance\n",
      "compute_covariance\n",
      "smoothed_covariance\n",
      "compute_covariance\n",
      "smoothed_covariance\n",
      "compute_covariance\n",
      "smoothed_covariance\n",
      "compute_covariance\n",
      "smoothed_covariance\n",
      "compute_covariance\n",
      "smoothed_covariance\n",
      "compute_covariance\n",
      "smoothed_covariance\n",
      "compute_covariance\n",
      "smoothed_covariance\n",
      "compute_covariance\n",
      "smoothed_covariance\n",
      "compute_covariance\n",
      "smoothed_covariance\n",
      "compute_covariance\n",
      "smoothed_covariance\n",
      "compute_covariance\n",
      "smoothed_covariance\n",
      "compute_covariance\n",
      "smoothed_covariance\n",
      "compute_covariance\n",
      "smoothed_covariance\n",
      "compute_covariance\n",
      "smoothed_covariance\n",
      "compute_covariance\n",
      "smoothed_covariance\n",
      "compute_covariance\n",
      "smoothed_covariance\n",
      "compute_covariance\n",
      "smoothed_covariance\n",
      "compute_covariance\n",
      "smoothed_covariance\n",
      "compute_covariance\n",
      "smoothed_covariance\n",
      "compute_covariance\n",
      "smoothed_covariance\n",
      "compute_covariance\n",
      "smoothed_covariance\n",
      "compute_covariance\n",
      "smoothed_covariance\n",
      "compute_covariance\n",
      "smoothed_covariance\n",
      "compute_covariance\n",
      "smoothed_covariance\n",
      "compute_covariance\n",
      "smoothed_covariance\n"
     ]
    },
    {
     "name": "stderr",
     "output_type": "stream",
     "text": [
      "JAX is not using 64-bit precision. This will dramatically affect numerical precision at even moderate L.\n"
     ]
    },
    {
     "name": "stdout",
     "output_type": "stream",
     "text": [
      "compute_covariance\n",
      "smoothed_covariance\n",
      "compute_covariance\n",
      "smoothed_covariance\n",
      "compute_covariance\n",
      "smoothed_covariance\n",
      "compute_covariance\n",
      "smoothed_covariance\n",
      "compute_covariance\n",
      "smoothed_covariance\n",
      "compute_covariance\n",
      "smoothed_covariance\n",
      "compute_covariance\n",
      "smoothed_covariance\n",
      "compute_covariance\n",
      "smoothed_covariance\n",
      "compute_covariance\n",
      "smoothed_covariance\n",
      "compute_covariance\n",
      "smoothed_covariance\n",
      "compute_covariance\n",
      "smoothed_covariance\n",
      "compute_covariance\n",
      "smoothed_covariance\n",
      "compute_covariance\n",
      "smoothed_covariance\n",
      "compute_covariance\n",
      "smoothed_covariance\n",
      "compute_covariance\n",
      "smoothed_covariance\n",
      "compute_covariance\n",
      "smoothed_covariance\n",
      "compute_covariance\n",
      "smoothed_covariance\n",
      "compute_covariance\n",
      "smoothed_covariance\n",
      "compute_covariance\n",
      "smoothed_covariance\n",
      "compute_covariance\n",
      "smoothed_covariance\n",
      "compute_covariance\n",
      "smoothed_covariance\n",
      "compute_covariance\n",
      "smoothed_covariance\n",
      "compute_covariance\n",
      "smoothed_covariance\n",
      "compute_covariance\n",
      "smoothed_covariance\n",
      "compute_covariance\n",
      "smoothed_covariance\n",
      "compute_covariance\n",
      "smoothed_covariance\n",
      "compute_covariance\n",
      "smoothed_covariance\n",
      "compute_covariance\n",
      "smoothed_covariance\n",
      "compute_covariance\n",
      "smoothed_covariance\n",
      "compute_covariance\n",
      "smoothed_covariance\n",
      "compute_covariance\n",
      "smoothed_covariance\n",
      "compute_covariance\n",
      "smoothed_covariance\n",
      "compute_covariance\n",
      "smoothed_covariance\n",
      "compute_covariance\n",
      "smoothed_covariance\n",
      "compute_covariance\n",
      "smoothed_covariance\n",
      "compute_covariance\n",
      "smoothed_covariance\n",
      "compute_covariance\n",
      "smoothed_covariance\n",
      "compute_covariance\n",
      "smoothed_covariance\n",
      "compute_covariance\n",
      "smoothed_covariance\n",
      "compute_covariance\n",
      "smoothed_covariance\n",
      "compute_covariance\n",
      "smoothed_covariance\n",
      "compute_covariance\n",
      "smoothed_covariance\n",
      "compute_covariance\n",
      "smoothed_covariance\n",
      "compute_covariance\n",
      "smoothed_covariance\n",
      "compute_covariance\n",
      "smoothed_covariance\n",
      "compute_covariance\n",
      "smoothed_covariance\n",
      "compute_covariance\n",
      "smoothed_covariance\n",
      "compute_covariance\n",
      "smoothed_covariance\n",
      "compute_covariance\n",
      "smoothed_covariance\n",
      "compute_covariance\n",
      "smoothed_covariance\n",
      "compute_covariance\n",
      "smoothed_covariance\n",
      "compute_covariance\n",
      "smoothed_covariance\n",
      "compute_covariance\n",
      "smoothed_covariance\n",
      "compute_covariance\n",
      "smoothed_covariance\n",
      "compute_covariance\n",
      "smoothed_covariance\n",
      "compute_covariance\n",
      "smoothed_covariance\n",
      "compute_covariance\n",
      "smoothed_covariance\n",
      "compute_covariance\n",
      "smoothed_covariance\n",
      "compute_covariance\n",
      "smoothed_covariance\n",
      "compute_covariance\n",
      "smoothed_covariance\n",
      "compute_covariance\n",
      "smoothed_covariance\n",
      "compute_covariance\n",
      "smoothed_covariance\n",
      "compute_covariance\n",
      "smoothed_covariance\n",
      "compute_covariance\n",
      "smoothed_covariance\n",
      "compute_covariance\n",
      "smoothed_covariance\n",
      "compute_covariance\n",
      "smoothed_covariance\n",
      "compute_covariance\n",
      "smoothed_covariance\n",
      "compute_covariance\n",
      "smoothed_covariance\n",
      "compute_covariance\n",
      "smoothed_covariance\n",
      "compute_covariance\n",
      "smoothed_covariance\n",
      "compute_covariance\n",
      "smoothed_covariance\n",
      "compute_covariance\n",
      "smoothed_covariance\n",
      "compute_covariance\n",
      "smoothed_covariance\n",
      "compute_covariance\n",
      "smoothed_covariance\n",
      "compute_covariance\n",
      "smoothed_covariance\n",
      "compute_covariance\n",
      "smoothed_covariance\n",
      "compute_covariance\n",
      "smoothed_covariance\n",
      "compute_covariance\n",
      "smoothed_covariance\n",
      "compute_covariance\n",
      "smoothed_covariance\n",
      "compute_covariance\n",
      "smoothed_covariance\n",
      "compute_covariance\n",
      "smoothed_covariance\n",
      "compute_covariance\n",
      "smoothed_covariance\n",
      "compute_covariance\n",
      "smoothed_covariance\n",
      "compute_covariance\n",
      "smoothed_covariance\n",
      "compute_covariance\n",
      "smoothed_covariance\n",
      "compute_covariance\n",
      "smoothed_covariance\n",
      "compute_covariance\n",
      "smoothed_covariance\n",
      "compute_covariance\n",
      "smoothed_covariance\n",
      "compute_covariance\n",
      "smoothed_covariance\n",
      "compute_covariance\n",
      "smoothed_covariance\n",
      "compute_covariance\n",
      "smoothed_covariance\n",
      "compute_covariance\n",
      "smoothed_covariance\n",
      "compute_covariance\n",
      "smoothed_covariance\n",
      "compute_covariance\n",
      "smoothed_covariance\n",
      "compute_covariance\n",
      "smoothed_covariance\n",
      "compute_covariance\n",
      "smoothed_covariance\n",
      "compute_covariance\n",
      "smoothed_covariance\n",
      "compute_covariance\n",
      "smoothed_covariance\n",
      "compute_covariance\n",
      "smoothed_covariance\n",
      "compute_covariance\n",
      "smoothed_covariance\n",
      "compute_covariance\n",
      "smoothed_covariance\n",
      "compute_covariance\n",
      "smoothed_covariance\n",
      "compute_covariance\n",
      "smoothed_covariance\n",
      "compute_covariance\n",
      "smoothed_covariance\n",
      "compute_covariance\n",
      "smoothed_covariance\n",
      "Calculated covariance matrices in 71.93 seconds\n",
      "compute_weights_generalisedcompute_weights_generalisedcompute_weights_generalisedcompute_weights_generalised\n",
      "\n",
      "\n",
      "\n",
      "compute_weights_generalised\n",
      "compute_weights_generalised\n",
      "compute_weights_generalised\n",
      "compute_weights_generalised\n",
      "compute_weights_generalised\n",
      "Calculated weight vector matrices in 11.43 seconds\n",
      "Created ILC maps in 0.68 seconds\n",
      "trim_to_originaltrim_to_originaltrim_to_originaltrim_to_originaltrim_to_originaltrim_to_originaltrim_to_originaltrim_to_originaltrim_to_original\n",
      "[DEBUG] scale=1, realisation=0, shape=(7, 13)\n",
      "L2:\n",
      " [DEBUG] scale=0, realisation=0, shape=(7, 13)7\n",
      "\n",
      "\n",
      "\n",
      "\n",
      "\n",
      "[DEBUG] scale=3, realisation=0, shape=(31, 61)[DEBUG] scale=6, realisation=0, shape=(129, 257)[DEBUG] scale=4, realisation=0, shape=(63, 125)L2:[trim pid=3420444] scale=1 r=0 L2=7 shape=(7, 13)\n",
      "[DEBUG] scale=2, realisation=0, shape=(15, 29)\n",
      "\n",
      " \n",
      "L2:\n",
      "L2:\n",
      "7L2:L2:  \n",
      "[DEBUG] scale=5, realisation=0, shape=(127, 253)  \n",
      "129\n",
      "[trim pid=3420443] scale=0 r=0 L2=7 shape=(7, 13)31\n",
      "15[DEBUG] scale=7, realisation=0, shape=(129, 257)\n",
      "63\n",
      "[DEBUG] scale=8, realisation=0, shape=(129, 257)\n",
      "L2:\n",
      "\n",
      "[trim pid=3420450] scale=6 r=0 L2=129 shape=(129, 257)\n",
      "[trim pid=3420446] scale=3 r=0 L2=31 shape=(31, 61)\n",
      "[trim pid=3420445] scale=2 r=0 L2=15 shape=(15, 29) L2:\n",
      "[trim pid=3420447] scale=4 r=0 L2=63 shape=(63, 125)\n",
      "L2:127\n",
      " \n",
      "[SAVE] Trimmed map -> /Scratch/agnes/data/SILC/ilc_trimmed_maps/ilc_trimmed_cfn_cmb_s1_r0000_lmax3_lam2.0.npy\n",
      " 129\n",
      "[trim pid=3420449] scale=5 r=0 L2=127 shape=(127, 253)129\n",
      "\n",
      "\n",
      "[trim pid=3420451] scale=7 r=0 L2=129 shape=(129, 257)[trim pid=3420453] scale=8 r=0 L2=129 shape=(129, 257)\n",
      "\n",
      "[SAVE] Trimmed map -> /Scratch/agnes/data/SILC/ilc_trimmed_maps/ilc_trimmed_cfn_cmb_s0_r0000_lmax3_lam2.0.npy\n",
      "[SAVE] Trimmed map -> /Scratch/agnes/data/SILC/ilc_trimmed_maps/ilc_trimmed_cfn_cmb_s2_r0000_lmax7_lam2.0.npy\n",
      "[SAVE] Trimmed map -> /Scratch/agnes/data/SILC/ilc_trimmed_maps/ilc_trimmed_cfn_cmb_s3_r0000_lmax15_lam2.0.npy\n",
      "[SAVE] Trimmed map -> /Scratch/agnes/data/SILC/ilc_trimmed_maps/ilc_trimmed_cfn_cmb_s4_r0000_lmax31_lam2.0.npy\n",
      "[SAVE] Trimmed map -> /Scratch/agnes/data/SILC/ilc_trimmed_maps/ilc_trimmed_cfn_cmb_s5_r0000_lmax63_lam2.0.npy\n",
      "[SAVE] Trimmed map -> /Scratch/agnes/data/SILC/ilc_trimmed_maps/ilc_trimmed_cfn_cmb_s6_r0000_lmax64_lam2.0.npy\n",
      "[SAVE] Trimmed map -> /Scratch/agnes/data/SILC/ilc_trimmed_maps/ilc_trimmed_cfn_cmb_s7_r0000_lmax64_lam2.0.npy\n",
      "[SAVE] Trimmed map -> /Scratch/agnes/data/SILC/ilc_trimmed_maps/ilc_trimmed_cfn_cmb_s8_r0000_lmax64_lam2.0.npy\n",
      "Trimmed maps to original resolution in 8.71 seconds\n",
      "synthesize_ILC_maps_generalised\n",
      "MW alm shape: (65, 129)\n"
     ]
    },
    {
     "data": {
      "image/png": "[encoded data removed]",
      "text/plain": [
       "<Figure size 850x540 with 2 Axes>"
      ]
     },
     "metadata": {},
     "output_type": "display_data"
    },
    {
     "name": "stdout",
     "output_type": "stream",
     "text": [
      "FINAL CHECK  F^T w == f  -> True\n"
     ]
    }
   ],
   "source": [
    "pipe.step_ilc()"
   ]
  },
  {
   "cell_type": "code",
   "execution_count": 12,
   "id": "9daf7fe7",
   "metadata": {},
   "outputs": [
    {
     "data": {
      "text/plain": [
       "'\\nimport os\\n\\n# Use the SAME base directory you used for Pipeline(...)\\nBASE_DIR = \"/Scratch/agnes/data\"\\n\\ntemplates = FileTemplates(directory=BASE_DIR)\\nft = templates.file_templates\\n\\n# INPUT template must be the wavelet coeff pattern (matches what step_wavelets saved)\\nfile_template = ft[\"wavelet_coeffs\"]  # \"{comp}_wavelet_f{frequency}_s{scale}_r{realisation:05d}_lmax{lmax}_lam{lam}.npy\"\\n\\n# OUTPUT templates for ILC\\noutput_templates = {\\n    \"doubled_maps\":           ft[\"doubled_maps\"],\\n    \"covariance_matrices\":    ft[\"covariance_matrices\"],\\n    \"weight_vector_matrices\": ft[\"weight_vector_matrices\"],\\n    \"ilc_maps\":               ft[\"ilc_maps\"],\\n    \"trimmed_maps\":           ft[\"trimmed_maps\"],\\n    \"ilc_synth\":              ft[\"ilc_synth\"],\\n    \"ilc_spectrum\":           ft.get(\"ilc_spectrum\"),\\n}\\n\\n# Sanity check: one file we expect to exist after step_wavelets()\\nprobe = file_template.format(\\n    comp=\"cfn\", frequency=\"030\", scale=0,\\n    realisation=0, lmax=64, lam=\"2.0\"\\n)\\nprint(\"Probing:\", probe, \"->\", os.path.exists(probe))\\n\\ntarget_components = \"cmb\"\\nscales = list(range(0, 9))\\nrealisations = [0]   # IMPORTANT: integers, because the template uses {realisation:05d}\\n\\nconstrained_maps = ProduceSILC.ILC_wav_coeff_maps_MP(\\n    file_template=file_template,\\n    frequencies=[\"030\",\"044\",\"070\",\"100\",\"143\",\"217\",\"353\",\"545\",\"857\"],\\n    scales=scales,\\n    realisations=realisations,          # ints, not \"0000\"\\n    output_templates=output_templates,\\n    L_max=64,\\n    N_directions=1,\\n    comp=\"cfn\",\\n    constraint=True,\\n    F=F,\\n    extract_comp=target_components,\\n    reference_vectors=reference_vectors,    \\n    )\\n'"
      ]
     },
     "execution_count": 12,
     "metadata": {},
     "output_type": "execute_result"
    }
   ],
   "source": [
    "'''\n",
    "import os\n",
    "\n",
    "# Use the SAME base directory you used for Pipeline(...)\n",
    "BASE_DIR = \"/Scratch/agnes/data\"\n",
    "\n",
    "templates = FileTemplates(directory=BASE_DIR)\n",
    "ft = templates.file_templates\n",
    "\n",
    "# INPUT template must be the wavelet coeff pattern (matches what step_wavelets saved)\n",
    "file_template = ft[\"wavelet_coeffs\"]  # \"{comp}_wavelet_f{frequency}_s{scale}_r{realisation:05d}_lmax{lmax}_lam{lam}.npy\"\n",
    "\n",
    "# OUTPUT templates for ILC\n",
    "output_templates = {\n",
    "    \"doubled_maps\":           ft[\"doubled_maps\"],\n",
    "    \"covariance_matrices\":    ft[\"covariance_matrices\"],\n",
    "    \"weight_vector_matrices\": ft[\"weight_vector_matrices\"],\n",
    "    \"ilc_maps\":               ft[\"ilc_maps\"],\n",
    "    \"trimmed_maps\":           ft[\"trimmed_maps\"],\n",
    "    \"ilc_synth\":              ft[\"ilc_synth\"],\n",
    "    \"ilc_spectrum\":           ft.get(\"ilc_spectrum\"),\n",
    "}\n",
    "\n",
    "# Sanity check: one file we expect to exist after step_wavelets()\n",
    "probe = file_template.format(\n",
    "    comp=\"cfn\", frequency=\"030\", scale=0,\n",
    "    realisation=0, lmax=64, lam=\"2.0\"\n",
    ")\n",
    "print(\"Probing:\", probe, \"->\", os.path.exists(probe))\n",
    "\n",
    "target_components = \"cmb\"\n",
    "scales = list(range(0, 9))\n",
    "realisations = [0]   # IMPORTANT: integers, because the template uses {realisation:05d}\n",
    "\n",
    "constrained_maps = ProduceSILC.ILC_wav_coeff_maps_MP(\n",
    "    file_template=file_template,\n",
    "    frequencies=[\"030\",\"044\",\"070\",\"100\",\"143\",\"217\",\"353\",\"545\",\"857\"],\n",
    "    scales=scales,\n",
    "    realisations=realisations,          # ints, not \"0000\"\n",
    "    output_templates=output_templates,\n",
    "    L_max=64,\n",
    "    N_directions=1,\n",
    "    comp=\"cfn\",\n",
    "    constraint=True,\n",
    "    F=F,\n",
    "    extract_comp=target_components,\n",
    "    reference_vectors=reference_vectors,    \n",
    "    )\n",
    "'''"
   ]
  }
 ],
 "metadata": {
  "kernelspec": {
   "display_name": "clean_cmb",
   "language": "python",
   "name": "python3"
  },
  "language_info": {
   "codemirror_mode": {
    "name": "ipython",
    "version": 3
   },
   "file_extension": ".py",
   "mimetype": "text/x-python",
   "name": "python",
   "nbconvert_exporter": "python",
   "pygments_lexer": "ipython3",
   "version": "3.11.13"
  }
 },
 "nbformat": 4,
 "nbformat_minor": 5
}
