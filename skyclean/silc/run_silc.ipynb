{
 "cells": [
  {
   "cell_type": "code",
   "execution_count": 15,
   "id": "29bd341f",
   "metadata": {},
   "outputs": [
    {
     "name": "stdout",
     "output_type": "stream",
     "text": [
      "skyclean from: /home/agnes/Skyclean/skyclean/__init__.py\n",
      "pipeline  from: /home/agnes/Skyclean/skyclean/silc/pipeline.py\n"
     ]
    }
   ],
   "source": [
    "import sys, os\n",
    "repo_root = \"/home/agnes/Skyclean\"          # <- adjust if different\n",
    "if repo_root not in sys.path:\n",
    "    sys.path.insert(0, repo_root)\n",
    "\n",
    "from skyclean.silc.pipeline import Pipeline\n",
    "\n",
    "# confirm\n",
    "import skyclean, skyclean.silc.pipeline\n",
    "print(\"skyclean from:\", skyclean.__file__)\n",
    "print(\"pipeline  from:\", skyclean.silc.pipeline.__file__)\n"
   ]
  },
  {
   "cell_type": "code",
   "execution_count": 16,
   "id": "5ede1cdb",
   "metadata": {},
   "outputs": [
    {
     "name": "stdout",
     "output_type": "stream",
     "text": [
      "/home/agnes/miniconda3/envs/clean_cmb/bin/python\n",
      "0.5.3\n",
      "[CudaDevice(id=0), CudaDevice(id=1)]\n"
     ]
    }
   ],
   "source": [
    "import sys, jax\n",
    "print(sys.executable)      # should be .../miniconda3/envs/clean_cmb/bin/python\n",
    "print(jax.__version__)     # 0.5.x\n",
    "print(jax.devices())       # [CudaDevice(...)]"
   ]
  },
  {
   "cell_type": "code",
   "execution_count": 17,
   "id": "bc57d65d",
   "metadata": {},
   "outputs": [
    {
     "name": "stdout",
     "output_type": "stream",
     "text": [
      "No steps selected. Use --steps with any of: download process wavelets ilc all\n"
     ]
    }
   ],
   "source": [
    "pipe = Pipeline(\n",
    "    components=[\"cmb\", \"sync\", \"tsz\", \"noise\"],\n",
    "    wavelet_components=[\"cfn\"],\n",
    "    ilc_components=[\"cmb\"],   # extract CMB via (c)ILC\n",
    "    frequencies=[\"030\",\"044\",\"070\",\"100\",\"143\",\"217\",\"353\",\"545\",\"857\"],\n",
    "    realisations=1,           # r00000 only; use 300 for r00000..r00299\n",
    "    start_realisation=0,\n",
    "    lmax=512,\n",
    "    N_directions=1,\n",
    "    lam=2.0,\n",
    "    method=\"jax\",\n",
    "    save_ilc_intermediates=True,\n",
    "    overwrite=False,    \n",
    "    visualise=True,      \n",
    "    directory=\"/Scratch/agnes/data\",\n",
    ")\n",
    "\n",
    "pipe.run()"
   ]
  },
  {
   "cell_type": "code",
   "execution_count": null,
   "id": "f3a5c9bf",
   "metadata": {},
   "outputs": [],
   "source": [
    "os.environ['CUDA_VISIBLE_DEVICES'] = '0'\n",
    "\n",
    "pipe = Pipeline(\n",
    "    components=[\"cmb\",\"sync\",\"noise\",\"tsz\"],\n",
    "    wavelet_components=[\"cfn\"],\n",
    "    ilc_components=[\"cfn\"],\n",
    "    \n",
    "    frequencies=[\"030\",\"044\",\"070\",\"100\",\"143\",\"217\",\"353\",\"545\",\"857\"],\n",
    "    realisations=1,\n",
    "    start_realisation=0,\n",
    "    lmax=32,\n",
    "    N_directions=1,\n",
    "    lam=2.0,\n",
    "    method=\"jax_cuda\",\n",
    "    visualise=True,\n",
    "    save_ilc_intermediates=False,\n",
    "    overwrite=False,\n",
    "    directory=\"/Scratch/agnes/data\",\n",
    ")"
   ]
  },
  {
   "cell_type": "code",
   "execution_count": 19,
   "id": "97ef95a7",
   "metadata": {},
   "outputs": [
    {
     "name": "stdout",
     "output_type": "stream",
     "text": [
      "--- STARTING DATA DOWNLOAD ---\n",
      "Downloading foreground components...\n",
      "File /Scratch/agnes/data/CMB_realisations/sync_f030.fits already exists. Skipping download.\n",
      "File /Scratch/agnes/data/CMB_realisations/sync_f044.fits already exists. Skipping download.\n",
      "File /Scratch/agnes/data/CMB_realisations/sync_f070.fits already exists. Skipping download.\n",
      "File /Scratch/agnes/data/CMB_realisations/sync_f100.fits already exists. Skipping download.\n",
      "File /Scratch/agnes/data/CMB_realisations/sync_f143.fits already exists. Skipping download.\n",
      "File /Scratch/agnes/data/CMB_realisations/sync_f217.fits already exists. Skipping download.\n",
      "File /Scratch/agnes/data/CMB_realisations/sync_f353.fits already exists. Skipping download.\n",
      "File /Scratch/agnes/data/CMB_realisations/sync_f545.fits already exists. Skipping download.\n",
      "File /Scratch/agnes/data/CMB_realisations/sync_f857.fits already exists. Skipping download.\n",
      "File /Scratch/agnes/data/CMB_realisations/tsz_f030.fits already exists. Skipping download.\n",
      "File /Scratch/agnes/data/CMB_realisations/tsz_f044.fits already exists. Skipping download.\n",
      "File /Scratch/agnes/data/CMB_realisations/tsz_f070.fits already exists. Skipping download.\n",
      "File /Scratch/agnes/data/CMB_realisations/tsz_f100.fits already exists. Skipping download.\n",
      "File /Scratch/agnes/data/CMB_realisations/tsz_f143.fits already exists. Skipping download.\n",
      "File /Scratch/agnes/data/CMB_realisations/tsz_f217.fits already exists. Skipping download.\n",
      "File /Scratch/agnes/data/CMB_realisations/tsz_f353.fits already exists. Skipping download.\n",
      "File /Scratch/agnes/data/CMB_realisations/tsz_f545.fits already exists. Skipping download.\n",
      "File /Scratch/agnes/data/CMB_realisations/tsz_f857.fits already exists. Skipping download.\n",
      "cmb_spectrum.txt already exists. Skipping download.\n",
      "0\n",
      "Downloading CMB & noise for realisation 0...\n",
      "CMB realisation 0 already exists. Skipping generation.\n",
      "File /Scratch/agnes/data/CMB_realisations/noise_f030_r00000.fits already exists. Skipping download.\n",
      "File /Scratch/agnes/data/CMB_realisations/noise_f044_r00000.fits already exists. Skipping download.\n",
      "File /Scratch/agnes/data/CMB_realisations/noise_f070_r00000.fits already exists. Skipping download.\n",
      "File /Scratch/agnes/data/CMB_realisations/noise_f100_r00000.fits already exists. Skipping download.\n",
      "File /Scratch/agnes/data/CMB_realisations/noise_f143_r00000.fits already exists. Skipping download.\n",
      "File /Scratch/agnes/data/CMB_realisations/noise_f217_r00000.fits already exists. Skipping download.\n",
      "File /Scratch/agnes/data/CMB_realisations/noise_f353_r00000.fits already exists. Skipping download.\n",
      "File /Scratch/agnes/data/CMB_realisations/noise_f545_r00000.fits already exists. Skipping download.\n",
      "File /Scratch/agnes/data/CMB_realisations/noise_f857_r00000.fits already exists. Skipping download.\n"
     ]
    }
   ],
   "source": [
    "pipe.step_download()"
   ]
  },
  {
   "cell_type": "code",
   "execution_count": 20,
   "id": "837bab2d",
   "metadata": {},
   "outputs": [
    {
     "name": "stdout",
     "output_type": "stream",
     "text": [
      "--- PROCESSING CFNs AND TOTAL MAP CFN ---\n",
      "CFN map at 030 GHz for realisation 0 already exists. Skipping processing.\n",
      "CFN map at 044 GHz for realisation 0 already exists. Skipping processing.\n",
      "CFN map at 070 GHz for realisation 0 already exists. Skipping processing.\n",
      "CFN map at 100 GHz for realisation 0 already exists. Skipping processing.\n"
     ]
    },
    {
     "name": "stderr",
     "output_type": "stream",
     "text": [
      "setting the output map dtype to [dtype('float64')]\n",
      "setting the output map dtype to [dtype('float64')]\n",
      "setting the output map dtype to [dtype('float64')]\n"
     ]
    },
    {
     "name": "stdout",
     "output_type": "stream",
     "text": [
      "CFN map at 143 GHz for realisation 0 saved to /Scratch/agnes/data/CFN_realisations/cfn_f143_r0000_lmax32.npy\n"
     ]
    },
    {
     "name": "stderr",
     "output_type": "stream",
     "text": [
      "setting the output map dtype to [dtype('float64')]\n",
      "setting the output map dtype to [dtype('float64')]\n",
      "setting the output map dtype to [dtype('float64')]\n",
      "setting the output map dtype to [dtype('float64')]\n"
     ]
    },
    {
     "name": "stdout",
     "output_type": "stream",
     "text": [
      "CFN map at 217 GHz for realisation 0 saved to /Scratch/agnes/data/CFN_realisations/cfn_f217_r0000_lmax32.npy\n"
     ]
    },
    {
     "name": "stderr",
     "output_type": "stream",
     "text": [
      "setting the output map dtype to [dtype('float64')]\n"
     ]
    },
    {
     "ename": "KeyboardInterrupt",
     "evalue": "",
     "output_type": "error",
     "traceback": [
      "\u001b[31m---------------------------------------------------------------------------\u001b[39m",
      "\u001b[31mKeyboardInterrupt\u001b[39m                         Traceback (most recent call last)",
      "\u001b[36mCell\u001b[39m\u001b[36m \u001b[39m\u001b[32mIn[20]\u001b[39m\u001b[32m, line 1\u001b[39m\n\u001b[32m----> \u001b[39m\u001b[32m1\u001b[39m pipe.step_process()\n",
      "\u001b[36mFile \u001b[39m\u001b[32m~/Skyclean/skyclean/silc/pipeline.py:72\u001b[39m, in \u001b[36mPipeline.step_process\u001b[39m\u001b[34m(self)\u001b[39m\n\u001b[32m     60\u001b[39m \u001b[38;5;28mprint\u001b[39m(\u001b[33m\"\u001b[39m\u001b[33m--- PROCESSING CFNs AND TOTAL MAP CFN ---\u001b[39m\u001b[33m\"\u001b[39m)\n\u001b[32m     61\u001b[39m processor = ProcessMaps(\n\u001b[32m     62\u001b[39m     \u001b[38;5;28mself\u001b[39m.components,\n\u001b[32m     63\u001b[39m     \u001b[38;5;28mself\u001b[39m.wavelet_components,\n\u001b[32m   (...)\u001b[39m\u001b[32m     70\u001b[39m     overwrite=\u001b[38;5;28mself\u001b[39m.overwrite,\n\u001b[32m     71\u001b[39m )\n\u001b[32m---> \u001b[39m\u001b[32m72\u001b[39m processor.produce_and_save_all_maps()\n",
      "\u001b[36mFile \u001b[39m\u001b[32m~/Skyclean/skyclean/silc/map_processing.py:171\u001b[39m, in \u001b[36mProcessMaps.produce_and_save_all_maps\u001b[39m\u001b[34m(self)\u001b[39m\n\u001b[32m    168\u001b[39m \u001b[38;5;28;01mfor\u001b[39;00m frequency \u001b[38;5;129;01min\u001b[39;00m \u001b[38;5;28mself\u001b[39m.frequencies:\n\u001b[32m    169\u001b[39m     \u001b[38;5;66;03m# Process & save each individual component\u001b[39;00m\n\u001b[32m    170\u001b[39m     \u001b[38;5;28;01mfor\u001b[39;00m comp \u001b[38;5;129;01min\u001b[39;00m \u001b[38;5;28mself\u001b[39m.components:\n\u001b[32m--> \u001b[39m\u001b[32m171\u001b[39m         _ = \u001b[38;5;28mself\u001b[39m.process_single_component(comp, frequency, realisation, save=\u001b[38;5;28;01mTrue\u001b[39;00m)\n\u001b[32m    173\u001b[39m     \u001b[38;5;66;03m# Then build and save the combined CFN map\u001b[39;00m\n\u001b[32m    174\u001b[39m     cfn_output_path = \u001b[38;5;28mself\u001b[39m.file_templates[\u001b[33m\"\u001b[39m\u001b[33mcfn\u001b[39m\u001b[33m\"\u001b[39m].format(\n\u001b[32m    175\u001b[39m         frequency=frequency, realisation=realisation, lmax=desired_lmax\n\u001b[32m    176\u001b[39m     )\n",
      "\u001b[36mFile \u001b[39m\u001b[32m~/Skyclean/skyclean/silc/map_processing.py:143\u001b[39m, in \u001b[36mProcessMaps.process_single_component\u001b[39m\u001b[34m(self, comp, frequency, realisation, save, noise_realisation)\u001b[39m\n\u001b[32m    140\u001b[39m hp_map = HPTools.unit_convert(hp_map, frequency)\n\u001b[32m    142\u001b[39m \u001b[38;5;28;01mif\u001b[39;00m comp == \u001b[33m\"\u001b[39m\u001b[33mnoise\u001b[39m\u001b[33m\"\u001b[39m:\n\u001b[32m--> \u001b[39m\u001b[32m143\u001b[39m     hp_map_reduced, _ = HPTools.reduce_hp_map_resolution(\n\u001b[32m    144\u001b[39m         hp_map, lmax=desired_lmax, nside=nside\n\u001b[32m    145\u001b[39m     )\n\u001b[32m    146\u001b[39m \u001b[38;5;28;01melse\u001b[39;00m:\n\u001b[32m    147\u001b[39m     hp_map_reduced = HPTools.convolve_and_reduce(\n\u001b[32m    148\u001b[39m         hp_map, lmax=desired_lmax, nside=nside, standard_fwhm_rad=standard_fwhm_rad\n\u001b[32m    149\u001b[39m     )\n",
      "\u001b[36mFile \u001b[39m\u001b[32m~/Skyclean/skyclean/silc/map_tools.py:30\u001b[39m, in \u001b[36mHPTools.reduce_hp_map_resolution\u001b[39m\u001b[34m(hp_map, lmax, nside)\u001b[39m\n\u001b[32m     16\u001b[39m \u001b[38;5;129m@staticmethod\u001b[39m\n\u001b[32m     17\u001b[39m \u001b[38;5;28;01mdef\u001b[39;00m\u001b[38;5;250m \u001b[39m\u001b[34mreduce_hp_map_resolution\u001b[39m(hp_map: np.ndarray, lmax: \u001b[38;5;28mint\u001b[39m, nside: \u001b[38;5;28mint\u001b[39m):\n\u001b[32m     18\u001b[39m \u001b[38;5;250m    \u001b[39m\u001b[33;03m\"\"\"\u001b[39;00m\n\u001b[32m     19\u001b[39m \u001b[33;03m    Processes a Healpix map by converting it to spherical harmonics and back,\u001b[39;00m\n\u001b[32m     20\u001b[39m \u001b[33;03m    and reducing the resolution.\u001b[39;00m\n\u001b[32m   (...)\u001b[39m\u001b[32m     28\u001b[39m \u001b[33;03m        numpy.ndarray: Processed map data.\u001b[39;00m\n\u001b[32m     29\u001b[39m \u001b[33;03m    \"\"\"\u001b[39;00m\n\u001b[32m---> \u001b[39m\u001b[32m30\u001b[39m     hp_alm = hp.map2alm(hp_map, lmax=lmax)\n\u001b[32m     31\u001b[39m     processed_map = hp.alm2map(hp_alm, nside=nside)\n\u001b[32m     32\u001b[39m     \u001b[38;5;28;01mreturn\u001b[39;00m processed_map, hp_alm\n",
      "\u001b[36mFile \u001b[39m\u001b[32m~/miniconda3/envs/clean_cmb/lib/python3.11/site-packages/astropy/utils/decorators.py:620\u001b[39m, in \u001b[36mdeprecated_renamed_argument.<locals>.decorator.<locals>.wrapper\u001b[39m\u001b[34m(*args, **kwargs)\u001b[39m\n\u001b[32m    617\u001b[39m             msg += \u001b[33mf\u001b[39m\u001b[33m\"\u001b[39m\u001b[38;5;130;01m\\n\u001b[39;00m\u001b[33m        Use \u001b[39m\u001b[38;5;132;01m{\u001b[39;00malternative\u001b[38;5;132;01m}\u001b[39;00m\u001b[33m instead.\u001b[39m\u001b[33m\"\u001b[39m\n\u001b[32m    618\u001b[39m         warnings.warn(msg, warning_type, stacklevel=\u001b[32m2\u001b[39m)\n\u001b[32m--> \u001b[39m\u001b[32m620\u001b[39m \u001b[38;5;28;01mreturn\u001b[39;00m function(*args, **kwargs)\n",
      "\u001b[36mFile \u001b[39m\u001b[32m~/miniconda3/envs/clean_cmb/lib/python3.11/site-packages/healpy/sphtfunc.py:273\u001b[39m, in \u001b[36mmap2alm\u001b[39m\u001b[34m(maps, lmax, mmax, iter, pol, use_weights, datapath, gal_cut, use_pixel_weights, verbose)\u001b[39m\n\u001b[32m    268\u001b[39m             pixel_weights_filename = data.get_pkg_data_filename(\n\u001b[32m    269\u001b[39m                 filename, package=\u001b[33m\"\u001b[39m\u001b[33mhealpy\u001b[39m\u001b[33m\"\u001b[39m\n\u001b[32m    270\u001b[39m             )\n\u001b[32m    272\u001b[39m \u001b[38;5;28;01mif\u001b[39;00m pol \u001b[38;5;129;01mor\u001b[39;00m info \u001b[38;5;129;01min\u001b[39;00m (\u001b[32m0\u001b[39m, \u001b[32m1\u001b[39m):\n\u001b[32m--> \u001b[39m\u001b[32m273\u001b[39m     alms = _sphtools.map2alm(\n\u001b[32m    274\u001b[39m         maps,\n\u001b[32m    275\u001b[39m         niter=\u001b[38;5;28miter\u001b[39m,\n\u001b[32m    276\u001b[39m         datapath=datapath,\n\u001b[32m    277\u001b[39m         use_weights=use_weights,\n\u001b[32m    278\u001b[39m         lmax=lmax,\n\u001b[32m    279\u001b[39m         mmax=mmax,\n\u001b[32m    280\u001b[39m         gal_cut=gal_cut,\n\u001b[32m    281\u001b[39m         pixel_weights_filename=pixel_weights_filename,\n\u001b[32m    282\u001b[39m     )\n\u001b[32m    283\u001b[39m \u001b[38;5;28;01melse\u001b[39;00m:\n\u001b[32m    284\u001b[39m     \u001b[38;5;66;03m# info >= 2 and pol is False : spin 0 spht for each map\u001b[39;00m\n\u001b[32m    285\u001b[39m     alms = [\n\u001b[32m    286\u001b[39m         _sphtools.map2alm(\n\u001b[32m    287\u001b[39m             mm,\n\u001b[32m   (...)\u001b[39m\u001b[32m    296\u001b[39m         \u001b[38;5;28;01mfor\u001b[39;00m mm \u001b[38;5;129;01min\u001b[39;00m maps\n\u001b[32m    297\u001b[39m     ]\n",
      "\u001b[31mKeyboardInterrupt\u001b[39m: "
     ]
    }
   ],
   "source": [
    "pipe.step_process()"
   ]
  },
  {
   "cell_type": "code",
   "execution_count": null,
   "id": "51964f0a",
   "metadata": {},
   "outputs": [
    {
     "name": "stdout",
     "output_type": "stream",
     "text": [
      "--- PRODUCING WAVELET TRANSFORMS ---\n",
      "Wavelet coefficients for cfn at 030 GHz r0 exist. Skipping.\n",
      "Wavelet transform for cfn at 030 GHz for realisation 0 saved.\n",
      "Wavelet coefficients for cfn at 044 GHz r0 exist. Skipping.\n",
      "Wavelet transform for cfn at 044 GHz for realisation 0 saved.\n",
      "Wavelet coefficients for cfn at 070 GHz r0 exist. Skipping.\n",
      "Wavelet transform for cfn at 070 GHz for realisation 0 saved.\n",
      "Wavelet coefficients for cfn at 100 GHz r0 exist. Skipping.\n",
      "Wavelet transform for cfn at 100 GHz for realisation 0 saved.\n",
      "Wavelet coefficients for cfn at 143 GHz r0 exist. Skipping.\n",
      "Wavelet transform for cfn at 143 GHz for realisation 0 saved.\n",
      "Wavelet coefficients for cfn at 217 GHz r0 exist. Skipping.\n",
      "Wavelet transform for cfn at 217 GHz for realisation 0 saved.\n",
      "Wavelet coefficients for cfn at 353 GHz r0 exist. Skipping.\n",
      "Wavelet transform for cfn at 353 GHz for realisation 0 saved.\n",
      "Wavelet coefficients for cfn at 545 GHz r0 exist. Skipping.\n",
      "Wavelet transform for cfn at 545 GHz for realisation 0 saved.\n",
      "Wavelet coefficients for cfn at 857 GHz r0 exist. Skipping.\n",
      "Wavelet transform for cfn at 857 GHz for realisation 0 saved.\n"
     ]
    }
   ],
   "source": [
    "pipe.step_wavelets()"
   ]
  },
  {
   "cell_type": "code",
   "execution_count": null,
   "id": "bdb08a20",
   "metadata": {},
   "outputs": [
    {
     "name": "stdout",
     "output_type": "stream",
     "text": [
      "--- RUNNING ILC (new functional API) ---\n",
      "--- PRODUCING ILC FOR target='cfn' (source on disk='cmb'), scales=[0, 1, 2, 3, 4, 5, 6, 7, 8, 9, 10, 11] ---\n",
      "Processing realisation 0000 for component cmb\n"
     ]
    },
    {
     "name": "stderr",
     "output_type": "stream",
     "text": [
      "2025-08-24 17:03:24.095329: W external/xla/xla/stream_executor/cuda/cuda_command_buffer.cc:668] Retry CUDA graph instantiation after OOM error\n",
      "E0824 17:03:24.095450 1021416 pjrt_stream_executor_client.cc:3077] Execution of replica 0 failed: RESOURCE_EXHAUSTED: Underlying backend ran out of memory trying to instantiate graph with 6 nodes and 0 conditionals (total of 0 alive graphs in the process). You can try to (a) Give more memory to the driver by reducing XLA_CLIENT_MEM_FRACTION (b) Disable command buffers with 'XLA_FLAGS=--xla_gpu_enable_command_buffer=' (empty set). Original error: Failed to instantiate CUDA graph: CUDA_ERROR_OUT_OF_MEMORY: out of memory\n"
     ]
    },
    {
     "ename": "XlaRuntimeError",
     "evalue": "RESOURCE_EXHAUSTED: Underlying backend ran out of memory trying to instantiate graph with 6 nodes and 0 conditionals (total of 0 alive graphs in the process). You can try to (a) Give more memory to the driver by reducing XLA_CLIENT_MEM_FRACTION (b) Disable command buffers with 'XLA_FLAGS=--xla_gpu_enable_command_buffer=' (empty set). Original error: Failed to instantiate CUDA graph: CUDA_ERROR_OUT_OF_MEMORY: out of memory",
     "output_type": "error",
     "traceback": [
      "\u001b[31m---------------------------------------------------------------------------\u001b[39m",
      "\u001b[31mXlaRuntimeError\u001b[39m                           Traceback (most recent call last)",
      "\u001b[36mCell\u001b[39m\u001b[36m \u001b[39m\u001b[32mIn[8]\u001b[39m\u001b[32m, line 1\u001b[39m\n\u001b[32m----> \u001b[39m\u001b[32m1\u001b[39m pipe.step_ilc()\n",
      "\u001b[36mFile \u001b[39m\u001b[32m~/Skyclean/skyclean/silc/pipeline.py:180\u001b[39m, in \u001b[36mPipeline.step_ilc\u001b[39m\u001b[34m(self)\u001b[39m\n\u001b[32m    177\u001b[39m extract_label = \u001b[33m\"\u001b[39m\u001b[33mcmb\u001b[39m\u001b[33m\"\u001b[39m \u001b[38;5;28;01mif\u001b[39;00m ilc_comp == \u001b[33m\"\u001b[39m\u001b[33mcfn\u001b[39m\u001b[33m\"\u001b[39m \u001b[38;5;28;01melse\u001b[39;00m ilc_comp\n\u001b[32m    179\u001b[39m \u001b[38;5;66;03m# Band tag is built inside the function from `frequencies`, so just pass `freqs`\u001b[39;00m\n\u001b[32m--> \u001b[39m\u001b[32m180\u001b[39m _ = ProduceSILC.ILC_wav_coeff_maps_MP(\n\u001b[32m    181\u001b[39m     file_template=file_template,\n\u001b[32m    182\u001b[39m     frequencies=freqs,        \u001b[38;5;66;03m# keep same strings as saved wavelets\u001b[39;00m\n\u001b[32m    183\u001b[39m     scales=scales,\n\u001b[32m    184\u001b[39m     realisations=realisations,\n\u001b[32m    185\u001b[39m     output_templates=output_templates,\n\u001b[32m    186\u001b[39m     L_max=\u001b[38;5;28mself\u001b[39m.lmax,\n\u001b[32m    187\u001b[39m     N_directions=\u001b[38;5;28mself\u001b[39m.N_directions,\n\u001b[32m    188\u001b[39m     comp=comp_on_disk,        \u001b[38;5;66;03m# {component} in templates\u001b[39;00m\n\u001b[32m    189\u001b[39m     constraint=\u001b[38;5;28;01mFalse\u001b[39;00m,\n\u001b[32m    190\u001b[39m     F=\u001b[38;5;28;01mNone\u001b[39;00m,\n\u001b[32m    191\u001b[39m     extract_comp=extract_label,  \u001b[38;5;66;03m# {extract_comp} in templates\u001b[39;00m\n\u001b[32m    192\u001b[39m     reference_vectors=\u001b[38;5;28;01mNone\u001b[39;00m,\n\u001b[32m    193\u001b[39m )\n",
      "\u001b[36mFile \u001b[39m\u001b[32m~/Skyclean/skyclean/silc/ilc.py:853\u001b[39m, in \u001b[36mProduceSILC.ILC_wav_coeff_maps_MP\u001b[39m\u001b[34m(file_template, frequencies, scales, realisations, output_templates, L_max, N_directions, comp, constraint, F, extract_comp, reference_vectors)\u001b[39m\n\u001b[32m    851\u001b[39m \u001b[38;5;66;03m# 2) Double resolution and save (single call)\u001b[39;00m\n\u001b[32m    852\u001b[39m t0 = time.perf_counter()\n\u001b[32m--> \u001b[39m\u001b[32m853\u001b[39m SILCTools.double_wavelet_maps(\n\u001b[32m    854\u001b[39m     original_wavelet_c_j,\n\u001b[32m    855\u001b[39m     frequencies,\n\u001b[32m    856\u001b[39m     scales,\n\u001b[32m    857\u001b[39m     realisation,\n\u001b[32m    858\u001b[39m     method=\u001b[33m\"\u001b[39m\u001b[33mjax_cuda\u001b[39m\u001b[33m\"\u001b[39m,  \u001b[38;5;66;03m# or \"jax\"\u001b[39;00m\n\u001b[32m    859\u001b[39m     path_template=output_templates[\u001b[33m'\u001b[39m\u001b[33mdoubled_maps\u001b[39m\u001b[33m'\u001b[39m],\n\u001b[32m    860\u001b[39m     component=comp,\n\u001b[32m    861\u001b[39m     lmax=L_max,\n\u001b[32m    862\u001b[39m     lam=\u001b[32m2.0\u001b[39m,\n\u001b[32m    863\u001b[39m )\n\u001b[32m    864\u001b[39m dt = time.perf_counter() - t0\n\u001b[32m    865\u001b[39m \u001b[38;5;28mprint\u001b[39m(\u001b[33mf\u001b[39m\u001b[33m'\u001b[39m\u001b[33mDoubled and saved wavelet maps in \u001b[39m\u001b[38;5;132;01m{\u001b[39;00mdt\u001b[38;5;132;01m:\u001b[39;00m\u001b[33m.2f\u001b[39m\u001b[38;5;132;01m}\u001b[39;00m\u001b[33m seconds\u001b[39m\u001b[33m'\u001b[39m)\n",
      "\u001b[36mFile \u001b[39m\u001b[32m~/Skyclean/skyclean/silc/ilc.py:203\u001b[39m, in \u001b[36mSILCTools.double_wavelet_maps\u001b[39m\u001b[34m(original_wavelet_c_j, frequencies, scales, realisation, method, path_template, component, lmax, lam)\u001b[39m\n\u001b[32m    201\u001b[39m \u001b[38;5;28;01mfor\u001b[39;00m i \u001b[38;5;129;01min\u001b[39;00m frequencies:\n\u001b[32m    202\u001b[39m     \u001b[38;5;28;01mfor\u001b[39;00m j \u001b[38;5;129;01min\u001b[39;00m scales:\n\u001b[32m--> \u001b[39m\u001b[32m203\u001b[39m         arr = SILCTools.Single_Map_doubleworker(original_wavelet_c_j[(i, j)], method)\n\u001b[32m    204\u001b[39m         doubled_MW_wav_c_j[(i, j)] = arr  \u001b[38;5;66;03m# likely a jnp.DeviceArray    \u001b[39;00m\n\u001b[32m    205\u001b[39m \u001b[38;5;66;03m# ---- Optional: threaded I/O (no pickling, overlaps disk) ----\u001b[39;00m\n",
      "\u001b[36mFile \u001b[39m\u001b[32m~/Skyclean/skyclean/silc/ilc.py:37\u001b[39m, in \u001b[36mSILCTools.Single_Map_doubleworker\u001b[39m\u001b[34m(mw_map, method)\u001b[39m\n\u001b[32m     24\u001b[39m \u001b[38;5;250m\u001b[39m\u001b[33;03m\"\"\"\u001b[39;00m\n\u001b[32m     25\u001b[39m \u001b[33;03mDoubles the resolution of a single MW pixel map using s2fft.\u001b[39;00m\n\u001b[32m     26\u001b[39m \n\u001b[32m   (...)\u001b[39m\u001b[32m     32\u001b[39m \u001b[33;03m    mw_map_doubled: The MW pixel map with increased resolution.\u001b[39;00m\n\u001b[32m     33\u001b[39m \u001b[33;03m\"\"\"\u001b[39;00m\n\u001b[32m     35\u001b[39m \u001b[38;5;66;03m# use jax/numpy\u001b[39;00m\n\u001b[32m     36\u001b[39m \u001b[38;5;66;03m#print(mw_map.shape)\u001b[39;00m\n\u001b[32m---> \u001b[39m\u001b[32m37\u001b[39m alm = s2fft.forward(mw_map, L=mw_map.shape[\u001b[32m1\u001b[39m], method = method, spmd = \u001b[38;5;28;01mFalse\u001b[39;00m, reality = \u001b[38;5;28;01mTrue\u001b[39;00m)\n\u001b[32m     39\u001b[39m L = alm.shape[\u001b[32m0\u001b[39m]\n\u001b[32m     40\u001b[39m H = \u001b[32m2\u001b[39m*L - \u001b[32m1\u001b[39m\n",
      "\u001b[36mFile \u001b[39m\u001b[32m~/miniconda3/envs/clean_cmb/lib/python3.11/site-packages/s2fft/transforms/spherical.py:465\u001b[39m, in \u001b[36mforward\u001b[39m\u001b[34m(f, L, spin, nside, sampling, method, reality, precomps, spmd, L_lower, iter, _ssht_backend)\u001b[39m\n\u001b[32m    458\u001b[39m     \u001b[38;5;28;01mreturn\u001b[39;00m iterative_refinement.forward_with_iterative_refinement(\n\u001b[32m    459\u001b[39m         f=f,\n\u001b[32m    460\u001b[39m         n_iter=\u001b[38;5;28miter\u001b[39m,\n\u001b[32m    461\u001b[39m         forward_function=partial(_forward_functions[method], **forward_kwargs),\n\u001b[32m    462\u001b[39m         backward_function=partial(_inverse_functions[method], **inverse_kwargs),\n\u001b[32m    463\u001b[39m     )\n\u001b[32m    464\u001b[39m \u001b[38;5;28;01melse\u001b[39;00m:\n\u001b[32m--> \u001b[39m\u001b[32m465\u001b[39m     \u001b[38;5;28;01mreturn\u001b[39;00m _forward_functions[method](**forward_kwargs)\n",
      "    \u001b[31m[... skipping hidden 5 frame]\u001b[39m\n",
      "\u001b[36mFile \u001b[39m\u001b[32m~/miniconda3/envs/clean_cmb/lib/python3.11/site-packages/jax/_src/interpreters/pxla.py:1297\u001b[39m, in \u001b[36mExecuteReplicated.__call__\u001b[39m\u001b[34m(self, *args)\u001b[39m\n\u001b[32m   1295\u001b[39m   \u001b[38;5;28mself\u001b[39m._handle_token_bufs(result_token_bufs, sharded_runtime_token)\n\u001b[32m   1296\u001b[39m \u001b[38;5;28;01melse\u001b[39;00m:\n\u001b[32m-> \u001b[39m\u001b[32m1297\u001b[39m   results = \u001b[38;5;28mself\u001b[39m.xla_executable.execute_sharded(input_bufs)\n\u001b[32m   1299\u001b[39m \u001b[38;5;28;01mif\u001b[39;00m dispatch.needs_check_special():\n\u001b[32m   1300\u001b[39m   out_arrays = results.disassemble_into_single_device_arrays()\n",
      "\u001b[31mXlaRuntimeError\u001b[39m: RESOURCE_EXHAUSTED: Underlying backend ran out of memory trying to instantiate graph with 6 nodes and 0 conditionals (total of 0 alive graphs in the process). You can try to (a) Give more memory to the driver by reducing XLA_CLIENT_MEM_FRACTION (b) Disable command buffers with 'XLA_FLAGS=--xla_gpu_enable_command_buffer=' (empty set). Original error: Failed to instantiate CUDA graph: CUDA_ERROR_OUT_OF_MEMORY: out of memory"
     ]
    }
   ],
   "source": [
    "pipe.step_ilc()"
   ]
  }
 ],
 "metadata": {
  "kernelspec": {
   "display_name": "clean_cmb",
   "language": "python",
   "name": "python3"
  },
  "language_info": {
   "codemirror_mode": {
    "name": "ipython",
    "version": 3
   },
   "file_extension": ".py",
   "mimetype": "text/x-python",
   "name": "python",
   "nbconvert_exporter": "python",
   "pygments_lexer": "ipython3",
   "version": "3.11.13"
  }
 },
 "nbformat": 4,
 "nbformat_minor": 5
}
