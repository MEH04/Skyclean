{
 "cells": [
  {
   "cell_type": "code",
   "execution_count": 11,
   "id": "29bd341f",
   "metadata": {},
   "outputs": [],
   "source": [
    "import os, sys\n",
    "os.chdir(\"/home/agnes/Skyclean\")       # repo root\n",
    "sys.path.insert(0, os.getcwd())\n",
    "\n",
    "from skyclean.silc.ilc import ProduceSILC\n",
    "from skyclean.silc.file_templates import FileTemplates\n",
    "from skyclean.silc.pipeline import Pipeline"
   ]
  },
  {
   "cell_type": "code",
   "execution_count": 12,
   "id": "5ede1cdb",
   "metadata": {},
   "outputs": [
    {
     "name": "stdout",
     "output_type": "stream",
     "text": [
      "/home/agnes/miniconda3/envs/clean_cmb/bin/python\n",
      "0.5.3\n",
      "[CudaDevice(id=0), CudaDevice(id=1)]\n"
     ]
    }
   ],
   "source": [
    "import sys, jax\n",
    "print(sys.executable)      # should be .../miniconda3/envs/clean_cmb/bin/python\n",
    "print(jax.__version__)     # 0.5.x\n",
    "print(jax.devices())       # [CudaDevice(...)]"
   ]
  },
  {
   "cell_type": "code",
   "execution_count": 13,
   "id": "bedb6d3c",
   "metadata": {},
   "outputs": [],
   "source": [
    "import numpy as np\n",
    "\n",
    "# --- Physical constants ---\n",
    "h = 6.62607015e-34        # Planck [J·s]\n",
    "k = 1.380649e-23          # Boltzmann [J/K]\n",
    "T_cmb = 2.7255            # [K]\n",
    "\n",
    "# --- Planck frequency channels in GHz ---\n",
    "frequencies = ['030','044','070','100','143','217','353','545','857']\n",
    "nu = np.array([float(f) for f in frequencies]) * 1e9   # Hz\n",
    "x = h * nu / (k * T_cmb)\n",
    "\n",
    "# Unit conversion (antenna→thermodynamic), proportional to dB/dT\n",
    "g_nu = (x**2 * np.exp(x)) / (np.exp(x) - 1.0)**2\n",
    "\n",
    "# (a) CMB in thermodynamic units: flat response\n",
    "cmb_vec = np.ones_like(nu)\n",
    "\n",
    "# (b) tSZ in thermodynamic units\n",
    "tsz_vec = x * ((np.exp(x) + 1) / (np.exp(x) - 1)) - 4\n",
    "# Optional: tsz_vec is ~0 near 217 GHz automatically; don't zero 30/44/70.\n",
    "\n",
    "# (c) Synchrotron: antenna T ∝ ν^β, convert to thermodynamic\n",
    "beta_s = -3.1\n",
    "nu0 = 30e9\n",
    "T_sync_ant = (nu / nu0) ** beta_s\n",
    "sync_vec = T_sync_ant / g_nu\n",
    "\n",
    "# Normalize columns (helps matching)\n",
    "def _norm(v): \n",
    "    n = np.linalg.norm(v)\n",
    "    return v if n == 0 else (v / n)\n",
    "\n",
    "reference_vectors = {\n",
    "    \"cmb\":  _norm(cmb_vec),\n",
    "    \"tsz\":  _norm(tsz_vec),\n",
    "    \"sync\": _norm(sync_vec),\n",
    "}\n",
    "\n",
    "# Column order in F (controls what “column index” each name maps to)\n",
    "F_cols = [\"cmb\", \"tsz\", \"sync\"]\n",
    "F = np.column_stack([reference_vectors[name] for name in F_cols])  # shape (Nfreq, Nc)\n",
    "\n",
    "def build_f(F, component_name):\n",
    "    \"\"\"Return unit vector f (Nc,) with 1 at the column corresponding to component_name.\"\"\"\n",
    "    # allow list/tuple to mean multiple constraints; here: single name\n",
    "    if isinstance(component_name, (list, tuple)):\n",
    "        raise ValueError(\"build_f expects a single name; pass one of: \" + \", \".join(F_cols))\n",
    "    try:\n",
    "        j = F_cols.index(component_name.lower())\n",
    "    except ValueError:\n",
    "        raise ValueError(f\"Component '{component_name}' not in F columns {F_cols}\")\n",
    "    f = np.zeros(F.shape[1], dtype=float)\n",
    "    f[j] = 1.0\n",
    "    return f\n"
   ]
  },
  {
   "cell_type": "code",
   "execution_count": 14,
   "id": "a68b4ee1",
   "metadata": {},
   "outputs": [
    {
     "name": "stdout",
     "output_type": "stream",
     "text": [
      "F columns: ['cmb', 'tsz', 'sync']\n",
      "f for cmb: [1. 0. 0.]\n",
      "f for tsz: [0. 1. 0.]\n",
      "f for sync: [0. 0. 1.]\n"
     ]
    }
   ],
   "source": [
    "print(\"F columns:\", F_cols)\n",
    "print(\"f for cmb:\", build_f(F, \"cmb\"))\n",
    "print(\"f for tsz:\", build_f(F, \"tsz\"))\n",
    "print(\"f for sync:\", build_f(F, \"sync\"))"
   ]
  },
  {
   "cell_type": "code",
   "execution_count": 15,
   "id": "d82ef849",
   "metadata": {},
   "outputs": [],
   "source": [
    "directory = \"/Scratch/agnes/data\" \n",
    "ft = FileTemplates(directory).file_templates\n",
    "\n",
    "# INPUT wavelet coeff template (uses {comp}, {frequency}, {scale}, {realisation:05d}, {lmax}, {lam})\n",
    "file_template = ft.get(\"wavelet_coeffs\") or ft[\"wavelet_c_j\"]\n",
    "\n",
    "# OUTPUT templates expected by ILC_wav_coeff_maps_MP (use {component}, {extract_comp}, {realisation})\n",
    "output_templates = {\n",
    "    \"doubled_maps\":           ft[\"doubled_maps\"],\n",
    "    \"covariance_matrices\":    ft[\"covariance_matrices\"],\n",
    "    \"weight_vector_matrices\": ft[\"weight_vector_matrices\"],\n",
    "    \"ilc_maps\":               ft[\"ilc_maps\"],\n",
    "    \"trimmed_maps\":           ft[\"trimmed_maps\"],\n",
    "    \"ilc_synth\":              ft[\"ilc_synth\"],\n",
    "    \"ilc_spectrum\":           ft.get(\"ilc_spectrum\"),  # optional\n",
    "}\n"
   ]
  },
  {
   "cell_type": "code",
   "execution_count": 16,
   "id": "a377afeb",
   "metadata": {},
   "outputs": [],
   "source": [
    "os.environ['CUDA_VISIBLE_DEVICES'] = '0'\n",
    "\n",
    "pipe = Pipeline(\n",
    "    components=[\"cmb\",\"sync\",\"noise\",\"tsz\"],\n",
    "    wavelet_components=[\"cfn\"],\n",
    "    ilc_components=[\"cmb\"],\n",
    "    frequencies=[\"030\",\"044\",\"070\",\"100\",\"143\",\"217\",\"353\",\"545\",\"857\"],\n",
    "    realisations=1,\n",
    "    start_realisation=0,\n",
    "    lmax=64,\n",
    "    N_directions=1,\n",
    "    lam=2.0,\n",
    "    method=\"jax_cuda\",\n",
    "    visualise=True,\n",
    "    save_ilc_intermediates=False,\n",
    "    overwrite=False,\n",
    "    directory=\"/Scratch/agnes/data\",\n",
    ")"
   ]
  },
  {
   "cell_type": "code",
   "execution_count": 17,
   "id": "468314fe",
   "metadata": {},
   "outputs": [
    {
     "name": "stdout",
     "output_type": "stream",
     "text": [
      "--- STARTING DATA DOWNLOAD ---\n",
      "Downloading foreground components...\n",
      "File /Scratch/agnes/data/CMB_realisations/sync_f030.fits already exists. Skipping download.\n",
      "File /Scratch/agnes/data/CMB_realisations/sync_f044.fits already exists. Skipping download.\n",
      "File /Scratch/agnes/data/CMB_realisations/sync_f070.fits already exists. Skipping download.\n",
      "File /Scratch/agnes/data/CMB_realisations/sync_f100.fits already exists. Skipping download.\n",
      "File /Scratch/agnes/data/CMB_realisations/sync_f143.fits already exists. Skipping download.\n",
      "File /Scratch/agnes/data/CMB_realisations/sync_f217.fits already exists. Skipping download.\n",
      "File /Scratch/agnes/data/CMB_realisations/sync_f353.fits already exists. Skipping download.\n",
      "File /Scratch/agnes/data/CMB_realisations/sync_f545.fits already exists. Skipping download.\n",
      "File /Scratch/agnes/data/CMB_realisations/sync_f857.fits already exists. Skipping download.\n",
      "File /Scratch/agnes/data/CMB_realisations/tsz_f030.fits already exists. Skipping download.\n",
      "File /Scratch/agnes/data/CMB_realisations/tsz_f044.fits already exists. Skipping download.\n",
      "File /Scratch/agnes/data/CMB_realisations/tsz_f070.fits already exists. Skipping download.\n",
      "File /Scratch/agnes/data/CMB_realisations/tsz_f100.fits already exists. Skipping download.\n",
      "File /Scratch/agnes/data/CMB_realisations/tsz_f143.fits already exists. Skipping download.\n",
      "File /Scratch/agnes/data/CMB_realisations/tsz_f217.fits already exists. Skipping download.\n",
      "File /Scratch/agnes/data/CMB_realisations/tsz_f353.fits already exists. Skipping download.\n",
      "File /Scratch/agnes/data/CMB_realisations/tsz_f545.fits already exists. Skipping download.\n",
      "File /Scratch/agnes/data/CMB_realisations/tsz_f857.fits already exists. Skipping download.\n",
      "cmb_spectrum.txt already exists. Skipping download.\n",
      "0\n",
      "Downloading CMB & noise for realisation 0...\n",
      "CMB realisation 0 already exists. Skipping generation.\n",
      "File /Scratch/agnes/data/CMB_realisations/noise_f030_r00000.fits already exists. Skipping download.\n",
      "File /Scratch/agnes/data/CMB_realisations/noise_f044_r00000.fits already exists. Skipping download.\n",
      "File /Scratch/agnes/data/CMB_realisations/noise_f070_r00000.fits already exists. Skipping download.\n",
      "File /Scratch/agnes/data/CMB_realisations/noise_f100_r00000.fits already exists. Skipping download.\n",
      "File /Scratch/agnes/data/CMB_realisations/noise_f143_r00000.fits already exists. Skipping download.\n",
      "File /Scratch/agnes/data/CMB_realisations/noise_f217_r00000.fits already exists. Skipping download.\n",
      "File /Scratch/agnes/data/CMB_realisations/noise_f353_r00000.fits already exists. Skipping download.\n",
      "File /Scratch/agnes/data/CMB_realisations/noise_f545_r00000.fits already exists. Skipping download.\n",
      "File /Scratch/agnes/data/CMB_realisations/noise_f857_r00000.fits already exists. Skipping download.\n"
     ]
    }
   ],
   "source": [
    "pipe.step_download()"
   ]
  },
  {
   "cell_type": "code",
   "execution_count": 18,
   "id": "2031e233",
   "metadata": {},
   "outputs": [
    {
     "name": "stdout",
     "output_type": "stream",
     "text": [
      "--- PROCESSING CFNs AND TOTAL MAP CFN ---\n",
      "CFN map at 030 GHz for realisation 0 already exists. Skipping processing.\n",
      "CFN map at 044 GHz for realisation 0 already exists. Skipping processing.\n",
      "CFN map at 070 GHz for realisation 0 already exists. Skipping processing.\n",
      "CFN map at 100 GHz for realisation 0 already exists. Skipping processing.\n",
      "CFN map at 143 GHz for realisation 0 already exists. Skipping processing.\n",
      "CFN map at 217 GHz for realisation 0 already exists. Skipping processing.\n",
      "CFN map at 353 GHz for realisation 0 already exists. Skipping processing.\n",
      "CFN map at 545 GHz for realisation 0 already exists. Skipping processing.\n",
      "CFN map at 857 GHz for realisation 0 already exists. Skipping processing.\n"
     ]
    }
   ],
   "source": [
    "pipe.step_process()"
   ]
  },
  {
   "cell_type": "code",
   "execution_count": 19,
   "id": "6ec459a8",
   "metadata": {},
   "outputs": [
    {
     "name": "stdout",
     "output_type": "stream",
     "text": [
      "--- PRODUCING WAVELET TRANSFORMS ---\n",
      "/Scratch/agnes/data/wavelet_transforms/wavelet_coeffs/cfn_wavelet_f030_s0_r00000_lmax64_lam2.0.npy\n",
      "Wavelet coefficients for cfn at 030 GHz r0 exist. Skipping.\n",
      "Wavelet transform for cfn at 030 GHz for realisation 0 saved.\n",
      "/Scratch/agnes/data/wavelet_transforms/wavelet_coeffs/cfn_wavelet_f044_s0_r00000_lmax64_lam2.0.npy\n",
      "Wavelet coefficients for cfn at 044 GHz r0 exist. Skipping.\n",
      "Wavelet transform for cfn at 044 GHz for realisation 0 saved.\n",
      "/Scratch/agnes/data/wavelet_transforms/wavelet_coeffs/cfn_wavelet_f070_s0_r00000_lmax64_lam2.0.npy\n",
      "Wavelet coefficients for cfn at 070 GHz r0 exist. Skipping.\n",
      "Wavelet transform for cfn at 070 GHz for realisation 0 saved.\n",
      "/Scratch/agnes/data/wavelet_transforms/wavelet_coeffs/cfn_wavelet_f100_s0_r00000_lmax64_lam2.0.npy\n",
      "Wavelet coefficients for cfn at 100 GHz r0 exist. Skipping.\n",
      "Wavelet transform for cfn at 100 GHz for realisation 0 saved.\n",
      "/Scratch/agnes/data/wavelet_transforms/wavelet_coeffs/cfn_wavelet_f143_s0_r00000_lmax64_lam2.0.npy\n",
      "Wavelet coefficients for cfn at 143 GHz r0 exist. Skipping.\n",
      "Wavelet transform for cfn at 143 GHz for realisation 0 saved.\n",
      "/Scratch/agnes/data/wavelet_transforms/wavelet_coeffs/cfn_wavelet_f217_s0_r00000_lmax64_lam2.0.npy\n",
      "Wavelet coefficients for cfn at 217 GHz r0 exist. Skipping.\n",
      "Wavelet transform for cfn at 217 GHz for realisation 0 saved.\n",
      "/Scratch/agnes/data/wavelet_transforms/wavelet_coeffs/cfn_wavelet_f353_s0_r00000_lmax64_lam2.0.npy\n",
      "Wavelet coefficients for cfn at 353 GHz r0 exist. Skipping.\n",
      "Wavelet transform for cfn at 353 GHz for realisation 0 saved.\n",
      "/Scratch/agnes/data/wavelet_transforms/wavelet_coeffs/cfn_wavelet_f545_s0_r00000_lmax64_lam2.0.npy\n",
      "Wavelet coefficients for cfn at 545 GHz r0 exist. Skipping.\n",
      "Wavelet transform for cfn at 545 GHz for realisation 0 saved.\n",
      "/Scratch/agnes/data/wavelet_transforms/wavelet_coeffs/cfn_wavelet_f857_s0_r00000_lmax64_lam2.0.npy\n",
      "Wavelet coefficients for cfn at 857 GHz r0 exist. Skipping.\n",
      "Wavelet transform for cfn at 857 GHz for realisation 0 saved.\n"
     ]
    }
   ],
   "source": [
    "pipe.step_wavelets()"
   ]
  },
  {
   "cell_type": "code",
   "execution_count": 20,
   "id": "9daf7fe7",
   "metadata": {},
   "outputs": [
    {
     "name": "stdout",
     "output_type": "stream",
     "text": [
      "Processing realisation 0000 for targets: cmb\n",
      "Processing realisation 0000 for component cfn\n"
     ]
    },
    {
     "name": "stderr",
     "output_type": "stream",
     "text": [
      "2025-08-25 15:30:22.553701: W external/xla/xla/stream_executor/cuda/cuda_command_buffer.cc:668] Retry CUDA graph instantiation after OOM error\n",
      "E0825 15:30:22.553890 1388480 pjrt_stream_executor_client.cc:3077] Execution of replica 0 failed: RESOURCE_EXHAUSTED: Underlying backend ran out of memory trying to instantiate graph with 12 nodes and 0 conditionals (total of 0 alive graphs in the process). You can try to (a) Give more memory to the driver by reducing XLA_CLIENT_MEM_FRACTION (b) Disable command buffers with 'XLA_FLAGS=--xla_gpu_enable_command_buffer=' (empty set). Original error: Failed to instantiate CUDA graph: CUDA_ERROR_OUT_OF_MEMORY: out of memory\n"
     ]
    },
    {
     "ename": "XlaRuntimeError",
     "evalue": "RESOURCE_EXHAUSTED: Underlying backend ran out of memory trying to instantiate graph with 12 nodes and 0 conditionals (total of 0 alive graphs in the process). You can try to (a) Give more memory to the driver by reducing XLA_CLIENT_MEM_FRACTION (b) Disable command buffers with 'XLA_FLAGS=--xla_gpu_enable_command_buffer=' (empty set). Original error: Failed to instantiate CUDA graph: CUDA_ERROR_OUT_OF_MEMORY: out of memory",
     "output_type": "error",
     "traceback": [
      "\u001b[31m---------------------------------------------------------------------------\u001b[39m",
      "\u001b[31mXlaRuntimeError\u001b[39m                           Traceback (most recent call last)",
      "\u001b[36mCell\u001b[39m\u001b[36m \u001b[39m\u001b[32mIn[20]\u001b[39m\u001b[32m, line 11\u001b[39m\n\u001b[32m      8\u001b[39m \u001b[38;5;28;01mfor\u001b[39;00m realisation \u001b[38;5;129;01min\u001b[39;00m realisations:\n\u001b[32m      9\u001b[39m     \u001b[38;5;28mprint\u001b[39m(\u001b[33mf\u001b[39m\u001b[33m\"\u001b[39m\u001b[33mProcessing realisation \u001b[39m\u001b[38;5;132;01m{\u001b[39;00mrealisation\u001b[38;5;132;01m}\u001b[39;00m\u001b[33m for targets: \u001b[39m\u001b[38;5;132;01m{\u001b[39;00mtarget_components\u001b[38;5;132;01m}\u001b[39;00m\u001b[33m\"\u001b[39m)\n\u001b[32m---> \u001b[39m\u001b[32m11\u001b[39m     constrained_maps = ProduceSILC.ILC_wav_coeff_maps_MP(\n\u001b[32m     12\u001b[39m         file_template=file_template,\n\u001b[32m     13\u001b[39m         frequencies=frequencies,         \u001b[38;5;66;03m# strings like \"030\",\"044\",...\u001b[39;00m\n\u001b[32m     14\u001b[39m         scales=scales,\n\u001b[32m     15\u001b[39m         realisations=[realisation],       \u001b[38;5;66;03m# ints; input template uses :05d internally\u001b[39;00m\n\u001b[32m     16\u001b[39m         output_templates=output_templates,\n\u001b[32m     17\u001b[39m         L_max=\u001b[32m64\u001b[39m,\n\u001b[32m     18\u001b[39m         N_directions=\u001b[32m1\u001b[39m,\n\u001b[32m     19\u001b[39m         comp=\u001b[33m\"\u001b[39m\u001b[33mcfn\u001b[39m\u001b[33m\"\u001b[39m,                      \u001b[38;5;66;03m# INPUT mixture tag (matches {comp} in wavelet template)\u001b[39;00m\n\u001b[32m     20\u001b[39m         constraint=\u001b[38;5;28;01mTrue\u001b[39;00m,\n\u001b[32m     21\u001b[39m         F=F,\n\u001b[32m     22\u001b[39m         extract_comp=target_components,   \u001b[38;5;66;03m# target name used in filenames & constraint\u001b[39;00m\n\u001b[32m     23\u001b[39m         reference_vectors=reference_vectors,\n\u001b[32m     24\u001b[39m     )\n",
      "\u001b[36mFile \u001b[39m\u001b[32m~/Skyclean/skyclean/silc/ilc.py:854\u001b[39m, in \u001b[36mProduceSILC.ILC_wav_coeff_maps_MP\u001b[39m\u001b[34m(file_template, frequencies, scales, realisations, output_templates, L_max, N_directions, comp, constraint, F, extract_comp, reference_vectors)\u001b[39m\n\u001b[32m    852\u001b[39m \u001b[38;5;66;03m# 2) Double resolution and save (single call)\u001b[39;00m\n\u001b[32m    853\u001b[39m t0 = time.perf_counter()\n\u001b[32m--> \u001b[39m\u001b[32m854\u001b[39m SILCTools.double_wavelet_maps(\n\u001b[32m    855\u001b[39m     original_wavelet_c_j,\n\u001b[32m    856\u001b[39m     frequencies,\n\u001b[32m    857\u001b[39m     scales,\n\u001b[32m    858\u001b[39m     realisation,\n\u001b[32m    859\u001b[39m     method=\u001b[33m\"\u001b[39m\u001b[33mjax_cuda\u001b[39m\u001b[33m\"\u001b[39m,  \u001b[38;5;66;03m# or \"jax\"\u001b[39;00m\n\u001b[32m    860\u001b[39m     path_template=output_templates[\u001b[33m'\u001b[39m\u001b[33mdoubled_maps\u001b[39m\u001b[33m'\u001b[39m],\n\u001b[32m    861\u001b[39m     component=comp,\n\u001b[32m    862\u001b[39m     lmax=L_max,\n\u001b[32m    863\u001b[39m     lam=\u001b[32m2.0\u001b[39m,\n\u001b[32m    864\u001b[39m )\n\u001b[32m    865\u001b[39m dt = time.perf_counter() - t0\n\u001b[32m    866\u001b[39m \u001b[38;5;28mprint\u001b[39m(\u001b[33mf\u001b[39m\u001b[33m'\u001b[39m\u001b[33mDoubled and saved wavelet maps in \u001b[39m\u001b[38;5;132;01m{\u001b[39;00mdt\u001b[38;5;132;01m:\u001b[39;00m\u001b[33m.2f\u001b[39m\u001b[38;5;132;01m}\u001b[39;00m\u001b[33m seconds\u001b[39m\u001b[33m'\u001b[39m)\n",
      "\u001b[36mFile \u001b[39m\u001b[32m~/Skyclean/skyclean/silc/ilc.py:203\u001b[39m, in \u001b[36mSILCTools.double_wavelet_maps\u001b[39m\u001b[34m(original_wavelet_c_j, frequencies, scales, realisation, method, path_template, component, lmax, lam)\u001b[39m\n\u001b[32m    201\u001b[39m \u001b[38;5;28;01mfor\u001b[39;00m i \u001b[38;5;129;01min\u001b[39;00m frequencies:\n\u001b[32m    202\u001b[39m     \u001b[38;5;28;01mfor\u001b[39;00m j \u001b[38;5;129;01min\u001b[39;00m scales:\n\u001b[32m--> \u001b[39m\u001b[32m203\u001b[39m         arr = SILCTools.Single_Map_doubleworker(original_wavelet_c_j[(i, j)], method)\n\u001b[32m    204\u001b[39m         doubled_MW_wav_c_j[(i, j)] = arr  \u001b[38;5;66;03m# likely a jnp.DeviceArray    \u001b[39;00m\n\u001b[32m    205\u001b[39m \u001b[38;5;66;03m# ---- Optional: threaded I/O (no pickling, overlaps disk) ----\u001b[39;00m\n",
      "\u001b[36mFile \u001b[39m\u001b[32m~/Skyclean/skyclean/silc/ilc.py:37\u001b[39m, in \u001b[36mSILCTools.Single_Map_doubleworker\u001b[39m\u001b[34m(mw_map, method)\u001b[39m\n\u001b[32m     24\u001b[39m \u001b[38;5;250m\u001b[39m\u001b[33;03m\"\"\"\u001b[39;00m\n\u001b[32m     25\u001b[39m \u001b[33;03mDoubles the resolution of a single MW pixel map using s2fft.\u001b[39;00m\n\u001b[32m     26\u001b[39m \n\u001b[32m   (...)\u001b[39m\u001b[32m     32\u001b[39m \u001b[33;03m    mw_map_doubled: The MW pixel map with increased resolution.\u001b[39;00m\n\u001b[32m     33\u001b[39m \u001b[33;03m\"\"\"\u001b[39;00m\n\u001b[32m     35\u001b[39m \u001b[38;5;66;03m# use jax/numpy\u001b[39;00m\n\u001b[32m     36\u001b[39m \u001b[38;5;66;03m#print(mw_map.shape)\u001b[39;00m\n\u001b[32m---> \u001b[39m\u001b[32m37\u001b[39m alm = s2fft.forward(mw_map, L=mw_map.shape[\u001b[32m1\u001b[39m], method = method, spmd = \u001b[38;5;28;01mFalse\u001b[39;00m, reality = \u001b[38;5;28;01mTrue\u001b[39;00m)\n\u001b[32m     39\u001b[39m L = alm.shape[\u001b[32m0\u001b[39m]\n\u001b[32m     40\u001b[39m H = \u001b[32m2\u001b[39m*L - \u001b[32m1\u001b[39m\n",
      "\u001b[36mFile \u001b[39m\u001b[32m~/miniconda3/envs/clean_cmb/lib/python3.11/site-packages/s2fft/transforms/spherical.py:465\u001b[39m, in \u001b[36mforward\u001b[39m\u001b[34m(f, L, spin, nside, sampling, method, reality, precomps, spmd, L_lower, iter, _ssht_backend)\u001b[39m\n\u001b[32m    458\u001b[39m     \u001b[38;5;28;01mreturn\u001b[39;00m iterative_refinement.forward_with_iterative_refinement(\n\u001b[32m    459\u001b[39m         f=f,\n\u001b[32m    460\u001b[39m         n_iter=\u001b[38;5;28miter\u001b[39m,\n\u001b[32m    461\u001b[39m         forward_function=partial(_forward_functions[method], **forward_kwargs),\n\u001b[32m    462\u001b[39m         backward_function=partial(_inverse_functions[method], **inverse_kwargs),\n\u001b[32m    463\u001b[39m     )\n\u001b[32m    464\u001b[39m \u001b[38;5;28;01melse\u001b[39;00m:\n\u001b[32m--> \u001b[39m\u001b[32m465\u001b[39m     \u001b[38;5;28;01mreturn\u001b[39;00m _forward_functions[method](**forward_kwargs)\n",
      "    \u001b[31m[... skipping hidden 5 frame]\u001b[39m\n",
      "\u001b[36mFile \u001b[39m\u001b[32m~/miniconda3/envs/clean_cmb/lib/python3.11/site-packages/jax/_src/interpreters/pxla.py:1297\u001b[39m, in \u001b[36mExecuteReplicated.__call__\u001b[39m\u001b[34m(self, *args)\u001b[39m\n\u001b[32m   1295\u001b[39m   \u001b[38;5;28mself\u001b[39m._handle_token_bufs(result_token_bufs, sharded_runtime_token)\n\u001b[32m   1296\u001b[39m \u001b[38;5;28;01melse\u001b[39;00m:\n\u001b[32m-> \u001b[39m\u001b[32m1297\u001b[39m   results = \u001b[38;5;28mself\u001b[39m.xla_executable.execute_sharded(input_bufs)\n\u001b[32m   1299\u001b[39m \u001b[38;5;28;01mif\u001b[39;00m dispatch.needs_check_special():\n\u001b[32m   1300\u001b[39m   out_arrays = results.disassemble_into_single_device_arrays()\n",
      "\u001b[31mXlaRuntimeError\u001b[39m: RESOURCE_EXHAUSTED: Underlying backend ran out of memory trying to instantiate graph with 12 nodes and 0 conditionals (total of 0 alive graphs in the process). You can try to (a) Give more memory to the driver by reducing XLA_CLIENT_MEM_FRACTION (b) Disable command buffers with 'XLA_FLAGS=--xla_gpu_enable_command_buffer=' (empty set). Original error: Failed to instantiate CUDA graph: CUDA_ERROR_OUT_OF_MEMORY: out of memory"
     ]
    }
   ],
   "source": [
    "import os\n",
    "os.environ[\"CUDA_VISIBLE_DEVICES\"] = \"1\"   # use GPU with physical id=1\n",
    "\n",
    "target_components = \"cmb\"\n",
    "scales = [0, 1, 2, 3, 4, 5, 6, 7, 8]\n",
    "realisations = [\"0000\"]\n",
    "\n",
    "for realisation in realisations:\n",
    "    print(f\"Processing realisation {realisation} for targets: {target_components}\")\n",
    "\n",
    "    constrained_maps = ProduceSILC.ILC_wav_coeff_maps_MP(\n",
    "        file_template=file_template,\n",
    "        frequencies=frequencies,         # strings like \"030\",\"044\",...\n",
    "        scales=scales,\n",
    "        realisations=[realisation],       # ints; input template uses :05d internally\n",
    "        output_templates=output_templates,\n",
    "        L_max=64,\n",
    "        N_directions=1,\n",
    "        comp=\"cfn\",                      # INPUT mixture tag (matches {comp} in wavelet template)\n",
    "        constraint=True,\n",
    "        F=F,\n",
    "        extract_comp=target_components,   # target name used in filenames & constraint\n",
    "        reference_vectors=reference_vectors,\n",
    "    )"
   ]
  },
  {
   "cell_type": "code",
   "execution_count": 22,
   "id": "6ae24e2b",
   "metadata": {},
   "outputs": [],
   "source": [
    "import os\n",
    "# pick GPU 1\n",
    "os.environ[\"CUDA_VISIBLE_DEVICES\"] = \"1\"\n",
    "\n",
    "# be memory-friendly (preallocation off + smaller fraction + disable CUDA command buffers)\n",
    "os.environ[\"XLA_PYTHON_CLIENT_PREALLOCATE\"] = \"false\"\n",
    "os.environ[\"XLA_PYTHON_CLIENT_MEM_FRACTION\"] = \"0.6\"\n",
    "os.environ[\"XLA_PYTHON_CLIENT_ALLOCATOR\"] = \"platform\"\n",
    "os.environ[\"XLA_FLAGS\"] = \"--xla_gpu_enable_command_buffer=false\"\n"
   ]
  },
  {
   "cell_type": "code",
   "execution_count": 23,
   "id": "c2ff0f86",
   "metadata": {},
   "outputs": [
    {
     "name": "stdout",
     "output_type": "stream",
     "text": [
      "[CudaDevice(id=0), CudaDevice(id=1)]\n"
     ]
    }
   ],
   "source": [
    "import jax\n",
    "print(jax.devices())  # should show a single GpuDevice(id=0) — that's your physical GPU 1\n"
   ]
  }
 ],
 "metadata": {
  "kernelspec": {
   "display_name": "clean_cmb",
   "language": "python",
   "name": "python3"
  },
  "language_info": {
   "codemirror_mode": {
    "name": "ipython",
    "version": 3
   },
   "file_extension": ".py",
   "mimetype": "text/x-python",
   "name": "python",
   "nbconvert_exporter": "python",
   "pygments_lexer": "ipython3",
   "version": "3.11.13"
  }
 },
 "nbformat": 4,
 "nbformat_minor": 5
}
